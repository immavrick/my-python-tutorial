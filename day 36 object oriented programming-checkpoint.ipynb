{
 "cells": [
  {
   "cell_type": "markdown",
   "id": "26ad8d29-65a9-4f34-81a9-e4a73e7babc6",
   "metadata": {},
   "source": [
    "# Object Oriented Programming\n",
    "Object Oriented Programming (OOP) is a programming paradigm that allows abstraction through the concept of interacting entities. This programming works contradictory to conventional model and is procedural, in which programs are organized as a sequence of commands or statements to perform.\n",
    "We can think an object as an entity that resides in memory, has a state and it's able to perform some actions.\n",
    "More formally objects are entities that represent instances of a general abstract concept called class. In Python, \"attributes\" are the variables defining an object state and the possible actions are called \"methods\".\n",
    "In Python, everything is an object also classes and functions."
   ]
  },
  {
   "cell_type": "code",
   "execution_count": 1,
   "id": "caa4f648-b79c-4346-82de-21bd445485cf",
   "metadata": {},
   "outputs": [],
   "source": [
    "class employee():\n",
    "    pass"
   ]
  },
  {
   "cell_type": "code",
   "execution_count": 2,
   "id": "e5243c60-dc3c-4bb6-a44c-952ba699add8",
   "metadata": {},
   "outputs": [],
   "source": [
    "employee_1=employee()\n",
    "employee_2=employee()"
   ]
  },
  {
   "cell_type": "code",
   "execution_count": 3,
   "id": "17fde54e-938a-4b99-b7be-1857da79a6c4",
   "metadata": {},
   "outputs": [],
   "source": [
    "employee_1.fisrt_name='kanika'\n",
    "employee_1.last_name='jain'\n",
    "employee_1.salary=50000"
   ]
  },
  {
   "cell_type": "code",
   "execution_count": 5,
   "id": "9865ee70-85d3-4d6b-9f76-90b03457b960",
   "metadata": {},
   "outputs": [
    {
     "data": {
      "text/plain": [
       "50000"
      ]
     },
     "execution_count": 5,
     "metadata": {},
     "output_type": "execute_result"
    }
   ],
   "source": [
    "employee_1.salary"
   ]
  },
  {
   "cell_type": "code",
   "execution_count": 6,
   "id": "db77349d-1b13-4962-bcb5-ba3e50e5c908",
   "metadata": {},
   "outputs": [
    {
     "data": {
      "text/plain": [
       "'jain'"
      ]
     },
     "execution_count": 6,
     "metadata": {},
     "output_type": "execute_result"
    }
   ],
   "source": [
    "employee_1.last_name"
   ]
  },
  {
   "cell_type": "code",
   "execution_count": 10,
   "id": "316e8ffa-086e-4341-86a4-93522f6ad24d",
   "metadata": {},
   "outputs": [],
   "source": [
    "class employee():\n",
    "    def __init__(self,fname,lname,salary,edu):\n",
    "       self.first_name=fname\n",
    "       self.last_name=lname\n",
    "       self.salary=salary\n",
    "       self.education=edu"
   ]
  },
  {
   "cell_type": "code",
   "execution_count": 11,
   "id": "cc51f7cf-7a91-488b-b7a1-b87819a4cec7",
   "metadata": {},
   "outputs": [],
   "source": [
    "a=employee('shourya','chouhan',80000,'scientest')\n",
    "b=employee('iqbal','md',80000,'gamer')"
   ]
  },
  {
   "cell_type": "code",
   "execution_count": 12,
   "id": "a2cc12ff-c685-49be-a713-e89e60ddc42f",
   "metadata": {},
   "outputs": [
    {
     "data": {
      "text/plain": [
       "'chouhan'"
      ]
     },
     "execution_count": 12,
     "metadata": {},
     "output_type": "execute_result"
    }
   ],
   "source": [
    "a.last_name"
   ]
  },
  {
   "cell_type": "code",
   "execution_count": 14,
   "id": "29fdc460-0b1a-4c56-bb58-678d831e5cc7",
   "metadata": {},
   "outputs": [
    {
     "data": {
      "text/plain": [
       "'shourya'"
      ]
     },
     "execution_count": 14,
     "metadata": {},
     "output_type": "execute_result"
    }
   ],
   "source": [
    "a.first_name"
   ]
  },
  {
   "cell_type": "code",
   "execution_count": 15,
   "id": "4e136bac-6d6f-4c3d-8535-b71ecdc4bc5f",
   "metadata": {},
   "outputs": [
    {
     "data": {
      "text/plain": [
       "80000"
      ]
     },
     "execution_count": 15,
     "metadata": {},
     "output_type": "execute_result"
    }
   ],
   "source": [
    "b.salary"
   ]
  },
  {
   "cell_type": "markdown",
   "id": "fa27b5b8-d1ca-4b25-9c00-50394f906d3e",
   "metadata": {},
   "source": [
    "# define function under class"
   ]
  },
  {
   "cell_type": "code",
   "execution_count": 27,
   "id": "f04fb9b9-835e-48d1-ab9a-ad879adbf2d5",
   "metadata": {},
   "outputs": [],
   "source": [
    "class car:\n",
    "    def __init__(xyz,color,year,body):\n",
    "        xyz.color1=color\n",
    "        xyz.year1=year\n",
    "        xyz.body1=body\n",
    "\n",
    "    def cal_age(xyz,current_year):\n",
    "        return current_year - xyz.year1"
   ]
  },
  {
   "cell_type": "code",
   "execution_count": 28,
   "id": "ab36a4fb-9fdc-4cbb-b2e0-12729bbf4ac4",
   "metadata": {},
   "outputs": [],
   "source": [
    "kia=car('steelgrey',2019,'chromium')"
   ]
  },
  {
   "cell_type": "code",
   "execution_count": 29,
   "id": "3d9c6df6-ae8d-4f50-ba26-cdde8c680cea",
   "metadata": {},
   "outputs": [
    {
     "data": {
      "text/plain": [
       "'steelgrey'"
      ]
     },
     "execution_count": 29,
     "metadata": {},
     "output_type": "execute_result"
    }
   ],
   "source": [
    "kia.color1"
   ]
  },
  {
   "cell_type": "code",
   "execution_count": 30,
   "id": "71bca985-9bd6-42e3-87e8-e13d82c96835",
   "metadata": {},
   "outputs": [
    {
     "data": {
      "text/plain": [
       "'chromium'"
      ]
     },
     "execution_count": 30,
     "metadata": {},
     "output_type": "execute_result"
    }
   ],
   "source": [
    "kia.body1"
   ]
  },
  {
   "cell_type": "code",
   "execution_count": 25,
   "id": "3218ec0e-4590-49ae-a617-046244d7f419",
   "metadata": {},
   "outputs": [
    {
     "data": {
      "text/plain": [
       "5"
      ]
     },
     "execution_count": 25,
     "metadata": {},
     "output_type": "execute_result"
    }
   ],
   "source": [
    "kia.cal_age(2024)"
   ]
  },
  {
   "cell_type": "markdown",
   "id": "14c78a31-7e61-4fa2-97b7-6d28f329635a",
   "metadata": {},
   "source": [
    "# ....... instances and calss variables......."
   ]
  },
  {
   "cell_type": "code",
   "execution_count": 36,
   "id": "fffbd896-3154-4776-8cac-450fd9b54d15",
   "metadata": {},
   "outputs": [],
   "source": [
    "class employee():\n",
    "    increment=2\n",
    "    def __init__(self,fname,lname,salary):\n",
    "        self.first_name=fname\n",
    "        self.last_name=lname\n",
    "        self.salary=salary\n",
    "    def increase(self):\n",
    "        pass\n",
    "\n",
    "employee_1=employee('kanakia','jain',30000)\n",
    "employee_2=employee('avi','sh',80000)"
   ]
  },
  {
   "cell_type": "code",
   "execution_count": 35,
   "id": "9927e4a4-f507-4f42-abd1-974ef53065d7",
   "metadata": {},
   "outputs": [
    {
     "data": {
      "text/plain": [
       "'avi'"
      ]
     },
     "execution_count": 35,
     "metadata": {},
     "output_type": "execute_result"
    }
   ],
   "source": [
    "employee_1.first_name"
   ]
  },
  {
   "cell_type": "code",
   "execution_count": 37,
   "id": "abc962ff-9d95-4123-9f5b-067da02b9446",
   "metadata": {},
   "outputs": [],
   "source": [
    "employee_1.increase()"
   ]
  },
  {
   "cell_type": "code",
   "execution_count": 48,
   "id": "07b1a0c3-8fb1-4ce2-9865-edbe6c036750",
   "metadata": {},
   "outputs": [],
   "source": [
    "class employee():\n",
    "    increment=2\n",
    "    def __init__(self,fname,lname,salary):\n",
    "        self.first_name=fname\n",
    "        self.last_name=lname\n",
    "        self.salary=salary\n",
    "    def increase(self):\n",
    "        self.salary=self.salary*self.increment\n",
    "\n",
    "employee_1=employee('kan','jani',4000)\n",
    "employee_2=employee('shp','kkk',2000)"
   ]
  },
  {
   "cell_type": "code",
   "execution_count": 49,
   "id": "b93e2978-fa25-4e3b-8f26-373b1cca8d38",
   "metadata": {},
   "outputs": [
    {
     "data": {
      "text/plain": [
       "4000"
      ]
     },
     "execution_count": 49,
     "metadata": {},
     "output_type": "execute_result"
    }
   ],
   "source": [
    "employee_1.salary"
   ]
  },
  {
   "cell_type": "code",
   "execution_count": 51,
   "id": "ac94d931-6c09-40b5-a944-0e7ddc9755c9",
   "metadata": {},
   "outputs": [],
   "source": [
    "employee_1.increase()"
   ]
  },
  {
   "cell_type": "code",
   "execution_count": 52,
   "id": "2ce5c88d-43d0-425f-98ee-e89ef247d8b1",
   "metadata": {},
   "outputs": [
    {
     "data": {
      "text/plain": [
       "16000"
      ]
     },
     "execution_count": 52,
     "metadata": {},
     "output_type": "execute_result"
    }
   ],
   "source": [
    "employee_1.salary"
   ]
  },
  {
   "cell_type": "code",
   "execution_count": 60,
   "id": "07d0cf3f-fa4e-4761-8a6d-9b272619dcf7",
   "metadata": {},
   "outputs": [],
   "source": [
    "class employee():\n",
    "    increment=1.5\n",
    "    def __init__(self,fname,lname,salary):\n",
    "        self.first_name=fname\n",
    "        self.last_name=lname\n",
    "        self.salary=salary\n",
    "    def increase(self,increment):\n",
    "        self.salary=self.salary*self.increment\n",
    "\n",
    "employee_1=employee('kan','jani',1000)\n",
    "employee_2=employee('shp','kkk',2000)\n",
    "        "
   ]
  },
  {
   "cell_type": "code",
   "execution_count": 61,
   "id": "696438ff-30a0-4653-97de-368b4e7efdb6",
   "metadata": {},
   "outputs": [
    {
     "data": {
      "text/plain": [
       "1000"
      ]
     },
     "execution_count": 61,
     "metadata": {},
     "output_type": "execute_result"
    }
   ],
   "source": [
    "employee_1.salary"
   ]
  },
  {
   "cell_type": "code",
   "execution_count": 66,
   "id": "870021d5-795f-47f2-810d-29cdaf523081",
   "metadata": {},
   "outputs": [],
   "source": [
    "employee_1.increase(5)"
   ]
  },
  {
   "cell_type": "code",
   "execution_count": 67,
   "id": "633fc88a-99df-4ca4-97cd-a5fe3f4de506",
   "metadata": {},
   "outputs": [
    {
     "data": {
      "text/plain": [
       "3375.0"
      ]
     },
     "execution_count": 67,
     "metadata": {},
     "output_type": "execute_result"
    }
   ],
   "source": [
    "employee_1.salary"
   ]
  },
  {
   "cell_type": "code",
   "execution_count": 68,
   "id": "6e50d381-3b94-4991-8458-4ffce6a03f0a",
   "metadata": {},
   "outputs": [
    {
     "data": {
      "text/plain": [
       "{'first_name': 'kan', 'last_name': 'jani', 'salary': 3375.0}"
      ]
     },
     "execution_count": 68,
     "metadata": {},
     "output_type": "execute_result"
    }
   ],
   "source": [
    "employee_1.__dict__"
   ]
  },
  {
   "cell_type": "code",
   "execution_count": 71,
   "id": "de074635-692c-458c-869e-c7e49bd2c743",
   "metadata": {},
   "outputs": [],
   "source": [
    "class employee():\n",
    "    no_of_employee=0\n",
    "    increment=1.5\n",
    "    def __init__(self,fname,lname,salary):\n",
    "        self.first_name=fname\n",
    "        self.last_name=lname\n",
    "        self.salary=salary\n",
    "        self.increment=2\n",
    "        employee.no_of_employee+=1\n",
    "    def increase(self):\n",
    "        self.salary=self.salary*employee.increment\n",
    "\n",
    "employee_1=employee('kan','jani',1000)\n",
    "employee_2=employee('shp','kkk',2000)"
   ]
  },
  {
   "cell_type": "code",
   "execution_count": 72,
   "id": "eab2da9f-769e-45f7-b24e-2365bd842bd2",
   "metadata": {},
   "outputs": [
    {
     "data": {
      "text/plain": [
       "1000"
      ]
     },
     "execution_count": 72,
     "metadata": {},
     "output_type": "execute_result"
    }
   ],
   "source": [
    "employee_1.salary"
   ]
  },
  {
   "cell_type": "code",
   "execution_count": 73,
   "id": "3fb5c932-1db6-4783-a957-6402de7d32ff",
   "metadata": {},
   "outputs": [],
   "source": [
    "employee_1.increase()"
   ]
  },
  {
   "cell_type": "code",
   "execution_count": 74,
   "id": "4eac3e28-8aec-410c-acbc-c92df5c63a3e",
   "metadata": {},
   "outputs": [
    {
     "data": {
      "text/plain": [
       "1500.0"
      ]
     },
     "execution_count": 74,
     "metadata": {},
     "output_type": "execute_result"
    }
   ],
   "source": [
    "employee_1.salary"
   ]
  },
  {
   "cell_type": "code",
   "execution_count": 94,
   "id": "35314acd-1976-429e-8407-a3301067dfac",
   "metadata": {},
   "outputs": [],
   "source": [
    "class employee():\n",
    "    increment=1.5\n",
    "    no_of_employee=0\n",
    "    def __init__(self,fname,lname,salary):\n",
    "        self.first_name=fname\n",
    "        self.last_name=lname\n",
    "        self.salary=salary\n",
    "        employee.no_of_employee+=1\n",
    "\n",
    "    def increase(self):\n",
    "        self.salary=self.salary*employee.increment\n",
    "    @classmethod       #decorator\n",
    "    def increment_amount(cls,amount):\n",
    "        cls.increment=amount"
   ]
  },
  {
   "cell_type": "code",
   "execution_count": 84,
   "id": "4221a22c-edc8-46c3-bdeb-b6118ec80bf2",
   "metadata": {},
   "outputs": [],
   "source": [
    "employee_1=employee('kk','aa',1000)\n",
    "employee_2=employee('ff','jj',2000)\n"
   ]
  },
  {
   "cell_type": "code",
   "execution_count": 85,
   "id": "b9860cda-a5ff-41c7-80b8-c126519f7d42",
   "metadata": {},
   "outputs": [
    {
     "data": {
      "text/plain": [
       "1000"
      ]
     },
     "execution_count": 85,
     "metadata": {},
     "output_type": "execute_result"
    }
   ],
   "source": [
    "employee_1.salary"
   ]
  },
  {
   "cell_type": "code",
   "execution_count": 86,
   "id": "0c460a46-8e5e-43c4-96c7-4a4ef87c0097",
   "metadata": {},
   "outputs": [],
   "source": [
    "employee_1.increase()"
   ]
  },
  {
   "cell_type": "code",
   "execution_count": 87,
   "id": "685d7662-757f-42a1-be27-239220dc202f",
   "metadata": {},
   "outputs": [
    {
     "data": {
      "text/plain": [
       "1500.0"
      ]
     },
     "execution_count": 87,
     "metadata": {},
     "output_type": "execute_result"
    }
   ],
   "source": [
    "employee_1.salary"
   ]
  },
  {
   "cell_type": "code",
   "execution_count": 89,
   "id": "2b069fb0-2863-4ba5-aa97-ac69c5b3793d",
   "metadata": {},
   "outputs": [],
   "source": [
    "employee.increment_amount(5)"
   ]
  },
  {
   "cell_type": "code",
   "execution_count": 91,
   "id": "676ccb73-b7af-4fb7-9479-742d32171c19",
   "metadata": {},
   "outputs": [
    {
     "data": {
      "text/plain": [
       "2000"
      ]
     },
     "execution_count": 91,
     "metadata": {},
     "output_type": "execute_result"
    }
   ],
   "source": [
    "employee_2.salary"
   ]
  },
  {
   "cell_type": "code",
   "execution_count": 92,
   "id": "29021dc3-8ede-4c6c-a116-5a62d586152c",
   "metadata": {},
   "outputs": [],
   "source": [
    "employee_2.increase()"
   ]
  },
  {
   "cell_type": "code",
   "execution_count": 93,
   "id": "9ff5bc09-5a64-4534-baaf-f4508985e032",
   "metadata": {},
   "outputs": [
    {
     "data": {
      "text/plain": [
       "10000"
      ]
     },
     "execution_count": 93,
     "metadata": {},
     "output_type": "execute_result"
    }
   ],
   "source": [
    "employee_2.salary"
   ]
  },
  {
   "cell_type": "code",
   "execution_count": null,
   "id": "e6416dc1-79c5-4f13-8dde-7915d597295a",
   "metadata": {},
   "outputs": [],
   "source": []
  }
 ],
 "metadata": {
  "kernelspec": {
   "display_name": "Python 3 (ipykernel)",
   "language": "python",
   "name": "python3"
  },
  "language_info": {
   "codemirror_mode": {
    "name": "ipython",
    "version": 3
   },
   "file_extension": ".py",
   "mimetype": "text/x-python",
   "name": "python",
   "nbconvert_exporter": "python",
   "pygments_lexer": "ipython3",
   "version": "3.11.7"
  }
 },
 "nbformat": 4,
 "nbformat_minor": 5
}
