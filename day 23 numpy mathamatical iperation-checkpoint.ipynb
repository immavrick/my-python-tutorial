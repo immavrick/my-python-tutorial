{
 "cells": [
  {
   "cell_type": "markdown",
   "id": "852ce34c-f9c9-49a1-8857-d44ac2e5d26c",
   "metadata": {},
   "source": [
    "# numpy mathamatical operation\n"
   ]
  },
  {
   "cell_type": "code",
   "execution_count": 1,
   "id": "35babf0c-d5aa-4b3d-a878-9378a0528716",
   "metadata": {},
   "outputs": [
    {
     "name": "stdout",
     "output_type": "stream",
     "text": [
      "[ 5 10 15 76 25 30]\n"
     ]
    }
   ],
   "source": [
    "import numpy as np\n",
    "a=np.array([5,10,15,76,25,30])\n",
    "print(a)\n"
   ]
  },
  {
   "cell_type": "code",
   "execution_count": 2,
   "id": "189cb6da-dae9-45d5-a6c8-d8f2c82e13be",
   "metadata": {},
   "outputs": [
    {
     "data": {
      "text/plain": [
       "array([2.23606798, 3.16227766, 3.87298335, 8.71779789, 5.        ,\n",
       "       5.47722558])"
      ]
     },
     "execution_count": 2,
     "metadata": {},
     "output_type": "execute_result"
    }
   ],
   "source": [
    "np.sqrt(a)"
   ]
  },
  {
   "cell_type": "code",
   "execution_count": 3,
   "id": "ca2bd7c6-e1cf-4807-a582-fdee64a83669",
   "metadata": {},
   "outputs": [
    {
     "data": {
      "text/plain": [
       "array([-0.95892427, -0.54402111,  0.65028784,  0.56610764, -0.13235175,\n",
       "       -0.98803162])"
      ]
     },
     "execution_count": 3,
     "metadata": {},
     "output_type": "execute_result"
    }
   ],
   "source": [
    "np.sin(a)"
   ]
  },
  {
   "cell_type": "code",
   "execution_count": 4,
   "id": "89ab7461-64a9-474b-b93b-95b33e2ad5f2",
   "metadata": {},
   "outputs": [
    {
     "data": {
      "text/plain": [
       "array([ 0.28366219, -0.83907153, -0.75968791,  0.82433133,  0.99120281,\n",
       "        0.15425145])"
      ]
     },
     "execution_count": 4,
     "metadata": {},
     "output_type": "execute_result"
    }
   ],
   "source": [
    "np.cos(a)"
   ]
  },
  {
   "cell_type": "code",
   "execution_count": 5,
   "id": "5e68f59c-de20-4bb2-80a1-1a9051e1cd71",
   "metadata": {},
   "outputs": [
    {
     "data": {
      "text/plain": [
       "array([-3.38051501,  0.64836083, -0.8559934 ,  0.68674769, -0.13352641,\n",
       "       -6.4053312 ])"
      ]
     },
     "execution_count": 5,
     "metadata": {},
     "output_type": "execute_result"
    }
   ],
   "source": [
    "np.tan(a)"
   ]
  },
  {
   "cell_type": "markdown",
   "id": "02f78af4-24de-47e5-a729-61ee3600fb21",
   "metadata": {},
   "source": [
    "# seed"
   ]
  },
  {
   "cell_type": "code",
   "execution_count": 7,
   "id": "79ea9dd1-4765-4a59-9520-34ccf9266f4b",
   "metadata": {},
   "outputs": [
    {
     "data": {
      "text/plain": [
       "array([8, 6, 8, 2, 4, 4, 9, 6, 6, 8])"
      ]
     },
     "execution_count": 7,
     "metadata": {},
     "output_type": "execute_result"
    }
   ],
   "source": [
    "np.random.randint(1,10,10)"
   ]
  },
  {
   "cell_type": "code",
   "execution_count": 8,
   "id": "50880096-ea95-40f4-ab42-2c41f45737a6",
   "metadata": {},
   "outputs": [],
   "source": [
    "np.random.seed(0)\n",
    "x=np.random.randint(1,7,(2,3))"
   ]
  },
  {
   "cell_type": "code",
   "execution_count": 9,
   "id": "b4067ee4-301b-4dd5-a149-84c0ace3f9e1",
   "metadata": {},
   "outputs": [
    {
     "data": {
      "text/plain": [
       "array([[5, 6, 1],\n",
       "       [4, 4, 4]])"
      ]
     },
     "execution_count": 9,
     "metadata": {},
     "output_type": "execute_result"
    }
   ],
   "source": [
    "x"
   ]
  },
  {
   "cell_type": "markdown",
   "id": "180b6e45-3b5e-4a6c-8c97-db2f262835b5",
   "metadata": {},
   "source": [
    "# where function"
   ]
  },
  {
   "cell_type": "code",
   "execution_count": 10,
   "id": "29358623-dc88-43d2-8d91-ba6cb2a29e4b",
   "metadata": {},
   "outputs": [
    {
     "name": "stdout",
     "output_type": "stream",
     "text": [
      "[1 2 3 6 3]\n"
     ]
    }
   ],
   "source": [
    "a=np.array([1,2,3,6,3])\n",
    "print(a)"
   ]
  },
  {
   "cell_type": "code",
   "execution_count": 11,
   "id": "b0d32dda-4312-4656-9095-3dfdee0e81e4",
   "metadata": {},
   "outputs": [
    {
     "data": {
      "text/plain": [
       "(array([2, 4], dtype=int64),)"
      ]
     },
     "execution_count": 11,
     "metadata": {},
     "output_type": "execute_result"
    }
   ],
   "source": [
    "np.where(a==3)"
   ]
  },
  {
   "cell_type": "code",
   "execution_count": 12,
   "id": "8a97a87b-e1dc-472a-8f8a-34dcaecba469",
   "metadata": {},
   "outputs": [
    {
     "name": "stdout",
     "output_type": "stream",
     "text": [
      "[1 3 3 5 6 7 6]\n"
     ]
    }
   ],
   "source": [
    "b=np.array([1,3,3,5,6,7,6])\n",
    "print(b)"
   ]
  },
  {
   "cell_type": "code",
   "execution_count": 13,
   "id": "93570924-25fc-4142-8718-067deda723e0",
   "metadata": {},
   "outputs": [
    {
     "data": {
      "text/plain": [
       "(array([0, 1, 2], dtype=int64),)"
      ]
     },
     "execution_count": 13,
     "metadata": {},
     "output_type": "execute_result"
    }
   ],
   "source": [
    "np.where(b<4)"
   ]
  },
  {
   "cell_type": "code",
   "execution_count": 14,
   "id": "9f86b584-da8b-4338-afe5-ec0ed6b6b4c4",
   "metadata": {},
   "outputs": [
    {
     "data": {
      "text/plain": [
       "(array([0, 1, 2], dtype=int64),)"
      ]
     },
     "execution_count": 14,
     "metadata": {},
     "output_type": "execute_result"
    }
   ],
   "source": [
    "np.where(b<4)"
   ]
  },
  {
   "cell_type": "code",
   "execution_count": 15,
   "id": "0f100d9d-c0b7-4d62-b73a-f9b639979db9",
   "metadata": {},
   "outputs": [
    {
     "data": {
      "text/plain": [
       "(array([0], dtype=int64),)"
      ]
     },
     "execution_count": 15,
     "metadata": {},
     "output_type": "execute_result"
    }
   ],
   "source": [
    "np.where(b<=1)"
   ]
  },
  {
   "cell_type": "code",
   "execution_count": 16,
   "id": "66d1eec1-2d2b-4ff1-a599-1445fc9dfcc9",
   "metadata": {},
   "outputs": [
    {
     "name": "stdout",
     "output_type": "stream",
     "text": [
      "[ 1  2  3  4  5  6 78]\n"
     ]
    }
   ],
   "source": [
    "x=np.array([1,2,3,4,5,6,78,])\n",
    "print(x)"
   ]
  },
  {
   "cell_type": "code",
   "execution_count": 17,
   "id": "1256ed1c-6323-494f-afaf-52272161db51",
   "metadata": {},
   "outputs": [
    {
     "data": {
      "text/plain": [
       "(array([1, 3, 5, 6], dtype=int64),)"
      ]
     },
     "execution_count": 17,
     "metadata": {},
     "output_type": "execute_result"
    }
   ],
   "source": [
    "#even number\n",
    "np.where(x%2==0)"
   ]
  },
  {
   "cell_type": "code",
   "execution_count": 18,
   "id": "906059d2-4792-4f7f-888a-8b652f2a0783",
   "metadata": {},
   "outputs": [
    {
     "data": {
      "text/plain": [
       "(array([0, 2, 4], dtype=int64),)"
      ]
     },
     "execution_count": 18,
     "metadata": {},
     "output_type": "execute_result"
    }
   ],
   "source": [
    "#odd number\n",
    "np.where(x%2 !=0)"
   ]
  },
  {
   "cell_type": "code",
   "execution_count": 19,
   "id": "d1b700b5-8778-4bc9-9a17-399cc9b43565",
   "metadata": {},
   "outputs": [
    {
     "name": "stdout",
     "output_type": "stream",
     "text": [
      "[ 1  2 34 10  3  0]\n"
     ]
    }
   ],
   "source": [
    "# searchshorted\n",
    "x=np.array([1,2,34,10,3,0])\n",
    "print(x)"
   ]
  },
  {
   "cell_type": "code",
   "execution_count": 20,
   "id": "7314ad50-4f45-45ed-9792-54d0a50c2e66",
   "metadata": {},
   "outputs": [
    {
     "data": {
      "text/plain": [
       "2"
      ]
     },
     "execution_count": 20,
     "metadata": {},
     "output_type": "execute_result"
    }
   ],
   "source": [
    "np.searchsorted(x,8)"
   ]
  },
  {
   "cell_type": "code",
   "execution_count": 21,
   "id": "cdd8ca2a-db50-4ca4-9550-d76f1de6ed34",
   "metadata": {},
   "outputs": [
    {
     "data": {
      "text/plain": [
       "6"
      ]
     },
     "execution_count": 21,
     "metadata": {},
     "output_type": "execute_result"
    }
   ],
   "source": [
    "np.searchsorted(x,12)"
   ]
  },
  {
   "cell_type": "markdown",
   "id": "77952aae-3265-4b33-805e-e36c8687255f",
   "metadata": {},
   "source": [
    "# deepcopy,n0rmal copy,shallow copy"
   ]
  },
  {
   "cell_type": "code",
   "execution_count": 22,
   "id": "517dd872-6a0d-4e75-b868-6877761b9d27",
   "metadata": {},
   "outputs": [
    {
     "name": "stdout",
     "output_type": "stream",
     "text": [
      "[12, 23, 34, 45, 56, 67]\n",
      "['shourya', 23, 34, 45, 56, 67]\n"
     ]
    }
   ],
   "source": [
    "#normal copy\n",
    "ls=[12,23,34,45,56,67]\n",
    "ls1=ls.copy()\n",
    "ls1[0]='shourya'\n",
    "print(ls)\n",
    "print(ls1)"
   ]
  },
  {
   "cell_type": "code",
   "execution_count": 24,
   "id": "2955781a-1dfc-44f3-88c4-a5363ee7c7f7",
   "metadata": {},
   "outputs": [
    {
     "name": "stdout",
     "output_type": "stream",
     "text": [
      "[['shourya', 23, 34], [45, 56, 67]]\n",
      "[['shourya', 23, 34], [45, 56, 67]]\n"
     ]
    }
   ],
   "source": [
    "ls=[[12,23,34],[45,56,67]]\n",
    "ls1=ls.copy()\n",
    "ls1[0][0]='shourya'\n",
    "print(ls)\n",
    "print(ls1)"
   ]
  },
  {
   "cell_type": "code",
   "execution_count": 27,
   "id": "c75ee43e-644c-482c-8b3a-5776c6b695be",
   "metadata": {},
   "outputs": [],
   "source": [
    "# deep copy      very iportant\n",
    "import copy\n",
    "l=[[1,2,3],[4,5,6]]\n",
    "l2=copy.deepcopy(l)"
   ]
  },
  {
   "cell_type": "code",
   "execution_count": 28,
   "id": "f6da3a69-1aaa-4e88-ba9f-d8194d5b3b60",
   "metadata": {},
   "outputs": [
    {
     "data": {
      "text/plain": [
       "[[1, 2, 3], [4, 5, 6]]"
      ]
     },
     "execution_count": 28,
     "metadata": {},
     "output_type": "execute_result"
    }
   ],
   "source": [
    "l2"
   ]
  },
  {
   "cell_type": "code",
   "execution_count": 29,
   "id": "b4c88298-20aa-42f9-9cda-4834e8f4cda6",
   "metadata": {},
   "outputs": [
    {
     "data": {
      "text/plain": [
       "[[1, 2, 100], [4, 5, 6]]"
      ]
     },
     "execution_count": 29,
     "metadata": {},
     "output_type": "execute_result"
    }
   ],
   "source": [
    "l2[0][2]=100\n",
    "l2"
   ]
  },
  {
   "cell_type": "code",
   "execution_count": 30,
   "id": "e3f2b7f9-1f6e-49a0-a6d3-bd7ff9320057",
   "metadata": {},
   "outputs": [
    {
     "data": {
      "text/plain": [
       "[[1, 2, 3], [4, 5, 6]]"
      ]
     },
     "execution_count": 30,
     "metadata": {},
     "output_type": "execute_result"
    }
   ],
   "source": [
    "l"
   ]
  },
  {
   "cell_type": "markdown",
   "id": "e30d069f-5eed-442d-9938-36e66c03e8b8",
   "metadata": {},
   "source": [
    "# repeat an array"
   ]
  },
  {
   "cell_type": "code",
   "execution_count": 32,
   "id": "d7af2221-962c-44c5-ba3f-fc4de5a6f10b",
   "metadata": {},
   "outputs": [
    {
     "name": "stdout",
     "output_type": "stream",
     "text": [
      "[[1 2 3]\n",
      " [1 2 3]\n",
      " [1 2 3]]\n",
      "-----\n",
      "[[1 1 1 2 2 2 3 3 3]]\n"
     ]
    }
   ],
   "source": [
    "arr=np.array([[1,2,3]])\n",
    "r1=np.repeat(arr,3,axis=0)\n",
    "print(r1)\n",
    "print('-----')\n",
    "r2=np.repeat(arr,3,axis=1)\n",
    "print(r2)"
   ]
  },
  {
   "cell_type": "code",
   "execution_count": 33,
   "id": "1d30dafe-a23e-4622-9d51-798cf9cc9e44",
   "metadata": {},
   "outputs": [
    {
     "ename": "TypeError",
     "evalue": "'>' not supported between instances of 'dict' and 'dict'",
     "output_type": "error",
     "traceback": [
      "\u001b[1;31m---------------------------------------------------------------------------\u001b[0m",
      "\u001b[1;31mTypeError\u001b[0m                                 Traceback (most recent call last)",
      "Cell \u001b[1;32mIn[33], line 3\u001b[0m\n\u001b[0;32m      1\u001b[0m d1\u001b[38;5;241m=\u001b[39m{\u001b[38;5;124m'\u001b[39m\u001b[38;5;124ma\u001b[39m\u001b[38;5;124m'\u001b[39m:\u001b[38;5;241m50\u001b[39m,\u001b[38;5;124m'\u001b[39m\u001b[38;5;124mb\u001b[39m\u001b[38;5;124m'\u001b[39m:\u001b[38;5;241m50\u001b[39m}\n\u001b[0;32m      2\u001b[0m d2\u001b[38;5;241m=\u001b[39m{\u001b[38;5;124m'\u001b[39m\u001b[38;5;124ma\u001b[39m\u001b[38;5;124m'\u001b[39m:\u001b[38;5;241m500\u001b[39m,\u001b[38;5;124m'\u001b[39m\u001b[38;5;124mb\u001b[39m\u001b[38;5;124m'\u001b[39m:\u001b[38;5;241m50\u001b[39m}\n\u001b[1;32m----> 3\u001b[0m \u001b[38;5;28mprint\u001b[39m(d1\u001b[38;5;241m>\u001b[39md2)\n",
      "\u001b[1;31mTypeError\u001b[0m: '>' not supported between instances of 'dict' and 'dict'"
     ]
    }
   ],
   "source": [
    "d1={'a':50,'b':50}\n",
    "d2={'a':500,'b':50}\n",
    "print(d1>d2)"
   ]
  },
  {
   "cell_type": "code",
   "execution_count": 35,
   "id": "f7bbd383-10e1-439d-944b-5ac8bfe93b77",
   "metadata": {},
   "outputs": [
    {
     "name": "stdout",
     "output_type": "stream",
     "text": [
      "dict_values([1, 4, 9])\n"
     ]
    }
   ],
   "source": [
    "d1={1:1,2:4,3:9}\n",
    "print(d1.values())"
   ]
  },
  {
   "cell_type": "code",
   "execution_count": 37,
   "id": "f5e7f50c-7e0e-423b-afae-6f4c6bee910c",
   "metadata": {},
   "outputs": [
    {
     "name": "stdout",
     "output_type": "stream",
     "text": [
      "{'a': 'anar', 'b': 'chiku', 'c': 'cat'}\n"
     ]
    }
   ],
   "source": [
    "a={'a':'apple','b':'chiku','c':'cat'}\n",
    "a['a']=\"anar\"\n",
    "print(a)"
   ]
  },
  {
   "cell_type": "code",
   "execution_count": 38,
   "id": "3f222999-cc72-4ff6-a596-0d17853b520a",
   "metadata": {},
   "outputs": [
    {
     "name": "stdout",
     "output_type": "stream",
     "text": [
      "{'a': 'apple', 'b': 'bat', 'c': 'cat'}\n"
     ]
    }
   ],
   "source": [
    "a={1:'one',2:'two',3:'three'}\n",
    "b={'a':'apple','b':'bat','c':'cat'}\n",
    "a.update(b)\n",
    "#print(b.value())\n",
    "print(b)"
   ]
  },
  {
   "cell_type": "code",
   "execution_count": 39,
   "id": "f6fb8aeb-9a06-49d4-8c37-55529aafc418",
   "metadata": {},
   "outputs": [
    {
     "name": "stdout",
     "output_type": "stream",
     "text": [
      "twoone\n"
     ]
    }
   ],
   "source": [
    "a={1:'one',2:'two',3:'three'}\n",
    "print(a[2]+a[1])"
   ]
  },
  {
   "cell_type": "code",
   "execution_count": 40,
   "id": "92f4359f-0786-4d89-af1b-fd900e4d31a7",
   "metadata": {},
   "outputs": [
    {
     "name": "stdout",
     "output_type": "stream",
     "text": [
      "False\n"
     ]
    }
   ],
   "source": [
    "a={1:'one',2:'two',3:'three'}\n",
    "print(\"one\" in a)"
   ]
  },
  {
   "cell_type": "code",
   "execution_count": 42,
   "id": "5a83b40a-dcbc-4eef-8b26-2a159e79de5a",
   "metadata": {},
   "outputs": [
    {
     "name": "stdout",
     "output_type": "stream",
     "text": [
      "True\n"
     ]
    }
   ],
   "source": [
    "a={1:'one',2:'two',3:'three'}\n",
    "print(1 in a)"
   ]
  },
  {
   "cell_type": "code",
   "execution_count": null,
   "id": "b9d3893f-6ecb-4ec6-aa35-74572bcb6d36",
   "metadata": {},
   "outputs": [],
   "source": []
  }
 ],
 "metadata": {
  "kernelspec": {
   "display_name": "Python 3 (ipykernel)",
   "language": "python",
   "name": "python3"
  },
  "language_info": {
   "codemirror_mode": {
    "name": "ipython",
    "version": 3
   },
   "file_extension": ".py",
   "mimetype": "text/x-python",
   "name": "python",
   "nbconvert_exporter": "python",
   "pygments_lexer": "ipython3",
   "version": "3.11.7"
  }
 },
 "nbformat": 4,
 "nbformat_minor": 5
}
