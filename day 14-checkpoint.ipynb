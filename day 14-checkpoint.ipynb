{
 "cells": [
  {
   "cell_type": "code",
   "execution_count": 1,
   "id": "859e2a82-8f71-437a-bdd6-b3a81d6f48b5",
   "metadata": {},
   "outputs": [
    {
     "name": "stdout",
     "output_type": "stream",
     "text": [
      "dictionary: {'I': 1, 'II': 2, 'III': 3}\n"
     ]
    }
   ],
   "source": [
    "#dictionary methods\n",
    "#python dictionary clear\n",
    "\n",
    "romansnums={'I':1,'II':2,'III':3}\n",
    "print('dictionary:',romansnums)"
   ]
  },
  {
   "cell_type": "code",
   "execution_count": 3,
   "id": "2f1b3fcd-4f34-4175-9126-458de52e7859",
   "metadata": {},
   "outputs": [
    {
     "name": "stdout",
     "output_type": "stream",
     "text": [
      "dictionary: {'I': 1, 'II': 2, 'III': 3}\n",
      "dictionary after calling clear()method: {}\n"
     ]
    }
   ],
   "source": [
    "romansnums={'I':1,'II':2,'III':3}\n",
    "print('dictionary:',romansnums)\n",
    "romansnums.clear()\n",
    "print('dictionary after calling clear()method:',romansnums)"
   ]
  },
  {
   "cell_type": "code",
   "execution_count": 5,
   "id": "6eae72c6-3540-4d69-94f9-c0e00dac23e9",
   "metadata": {},
   "outputs": [
    {
     "name": "stdout",
     "output_type": "stream",
     "text": [
      "original dictionary: {'I': 1, 'II': 2, 'III': 3}\n",
      "copied dictionary: {'I': 1, 'II': 2, 'III': 3}\n"
     ]
    }
   ],
   "source": [
    "# python dictionary copy \n",
    "romansnums={'I':1,'II':2,'III':3}\n",
    "newRomansnums=romansnums.copy()\n",
    "print('original dictionary:',romansnums)\n",
    "print('copied dictionary:',newRomansnums)"
   ]
  },
  {
   "cell_type": "code",
   "execution_count": 8,
   "id": "e97cde11-736a-44c1-906b-41468bef40ea",
   "metadata": {},
   "outputs": [
    {
     "name": "stdout",
     "output_type": "stream",
     "text": [
      "original dictionary: {'I': 1, 'II': 2}\n",
      "copied dictionary: {'I': 1, 'II': 2}\n"
     ]
    }
   ],
   "source": [
    "romansnums={'I':1,'II':2,'III':3}\n",
    "newRomansnums=romansnums\n",
    "del newRomansnums['III']\n",
    "print('original dictionary:',romansnums)\n",
    "print('copied dictionary:',newRomansnums)"
   ]
  },
  {
   "cell_type": "code",
   "execution_count": 9,
   "id": "90b29db5-d580-4d54-8a33-3ba53b849d7f",
   "metadata": {},
   "outputs": [
    {
     "name": "stdout",
     "output_type": "stream",
     "text": [
      "original dictionary: {'I': 1, 'II': 2, 'III': 3}\n",
      "copied dictionary: {'I': 1, 'II': 2}\n"
     ]
    }
   ],
   "source": [
    "romansnums={'I':1,'II':2,'III':3}\n",
    "newRomansnums=romansnums.copy()\n",
    "del newRomansnums['III']\n",
    "print('original dictionary:',romansnums)\n",
    "print('copied dictionary:',newRomansnums)"
   ]
  },
  {
   "cell_type": "code",
   "execution_count": 14,
   "id": "5ca448a9-0dcc-4091-8e58-7eb479b42c1c",
   "metadata": {},
   "outputs": [
    {
     "name": "stdout",
     "output_type": "stream",
     "text": [
      "{'goa': 'city', 'mumbai': 'city', 'jaipur': 'city', 'ooty': 'city'}\n"
     ]
    }
   ],
   "source": [
    "# python dictionary fromkeys\n",
    "keys={'mumbai','goa','jaipur','ooty'}\n",
    "value='city'\n",
    "dictionary= dict.fromkeys(keys,value)\n",
    "print(dictionary)"
   ]
  },
  {
   "cell_type": "code",
   "execution_count": 15,
   "id": "d03d0ba2-2ca6-498e-be1f-e166ab850373",
   "metadata": {},
   "outputs": [
    {
     "name": "stdout",
     "output_type": "stream",
     "text": [
      "{'goa': None, 'mumbai': None, 'jaipur': None, 'ooty': None}\n"
     ]
    }
   ],
   "source": [
    "keys={'mumbai','goa','jaipur','ooty'}\n",
    "dictionary= dict.fromkeys(keys)\n",
    "print(dictionary)"
   ]
  },
  {
   "cell_type": "code",
   "execution_count": 16,
   "id": "e88faddb-2790-4690-96ef-79d5523d6eee",
   "metadata": {},
   "outputs": [
    {
     "name": "stdout",
     "output_type": "stream",
     "text": [
      "{'h': 'char', 'e': 'char', 'l': 'char', 'o': 'char'}\n"
     ]
    }
   ],
   "source": [
    "chDict= dict.fromkeys('hello','char')\n",
    "print(chDict)"
   ]
  },
  {
   "cell_type": "code",
   "execution_count": 17,
   "id": "d0bf3cef-ee07-4fd0-ac8b-e01f724f187b",
   "metadata": {},
   "outputs": [
    {
     "name": "stdout",
     "output_type": "stream",
     "text": [
      "dict_items([('I', 1), ('II', 2), ('III', 3)])\n"
     ]
    }
   ],
   "source": [
    "#python dictionary item\n",
    "romansnums={'I':1,'II':2,'III':3}\n",
    "dictview=romansnums.items()\n",
    "print(dictview)"
   ]
  },
  {
   "cell_type": "code",
   "execution_count": 19,
   "id": "300d4d77-565b-4a31-af0a-9ac54efa582e",
   "metadata": {},
   "outputs": [
    {
     "name": "stdout",
     "output_type": "stream",
     "text": [
      "dict_keys(['I', 'II', 'III'])\n"
     ]
    }
   ],
   "source": [
    "#pyhons dictionary keys\n",
    "romansnums={'I':1,'II':2,'III':3}\n",
    "keys=romansnums.keys()\n",
    "print(keys)"
   ]
  },
  {
   "cell_type": "code",
   "execution_count": 22,
   "id": "5ab04d58-355c-46ff-9ab6-084a74f4bffd",
   "metadata": {},
   "outputs": [
    {
     "name": "stdout",
     "output_type": "stream",
     "text": [
      "the popped elementis: 2\n",
      "updated dictionary is: {'I': 1, 'III': 3}\n"
     ]
    }
   ],
   "source": [
    "#python dictionary pop\n",
    "romansnums={'I':1,'II':2,'III':3}\n",
    "deletedvalue=romansnums.pop('II')\n",
    "print('the popped elementis:',deletedvalue)\n",
    "print('updated dictionary is:',romansnums)"
   ]
  },
  {
   "cell_type": "code",
   "execution_count": 24,
   "id": "4de10fb7-bb2f-4d22-8725-9ef5d55e6909",
   "metadata": {},
   "outputs": [
    {
     "ename": "KeyError",
     "evalue": "'3'",
     "output_type": "error",
     "traceback": [
      "\u001b[1;31m---------------------------------------------------------------------------\u001b[0m",
      "\u001b[1;31mKeyError\u001b[0m                                  Traceback (most recent call last)",
      "Cell \u001b[1;32mIn[24], line 2\u001b[0m\n\u001b[0;32m      1\u001b[0m romansnums\u001b[38;5;241m=\u001b[39m{\u001b[38;5;124m'\u001b[39m\u001b[38;5;124mI\u001b[39m\u001b[38;5;124m'\u001b[39m:\u001b[38;5;241m1\u001b[39m,\u001b[38;5;124m'\u001b[39m\u001b[38;5;124mII\u001b[39m\u001b[38;5;124m'\u001b[39m:\u001b[38;5;241m2\u001b[39m,\u001b[38;5;124m'\u001b[39m\u001b[38;5;124mIII\u001b[39m\u001b[38;5;124m'\u001b[39m:\u001b[38;5;241m3\u001b[39m}\n\u001b[1;32m----> 2\u001b[0m deletedvalue\u001b[38;5;241m=\u001b[39mromansnums\u001b[38;5;241m.\u001b[39mpop(\u001b[38;5;124m'\u001b[39m\u001b[38;5;124m3\u001b[39m\u001b[38;5;124m'\u001b[39m)\n\u001b[0;32m      3\u001b[0m \u001b[38;5;28mprint\u001b[39m(\u001b[38;5;124m'\u001b[39m\u001b[38;5;124mthe popped elementis:\u001b[39m\u001b[38;5;124m'\u001b[39m,deletedvalue)\n",
      "\u001b[1;31mKeyError\u001b[0m: '3'"
     ]
    }
   ],
   "source": [
    "romansnums={'I':1,'II':2,'III':3}\n",
    "deletedvalue=romansnums.pop('3')\n",
    "print('the popped elementis:',deletedvalue)"
   ]
  },
  {
   "cell_type": "code",
   "execution_count": 29,
   "id": "f5be4d67-a656-4fce-9ec1-0c168b631542",
   "metadata": {},
   "outputs": [
    {
     "name": "stdout",
     "output_type": "stream",
     "text": [
      "('III', 3)\n",
      "('II', 2)\n",
      "('I', 1)\n",
      "{}\n"
     ]
    },
    {
     "ename": "KeyError",
     "evalue": "'popitem(): dictionary is empty'",
     "output_type": "error",
     "traceback": [
      "\u001b[1;31m---------------------------------------------------------------------------\u001b[0m",
      "\u001b[1;31mKeyError\u001b[0m                                  Traceback (most recent call last)",
      "Cell \u001b[1;32mIn[29], line 7\u001b[0m\n\u001b[0;32m      5\u001b[0m \u001b[38;5;28mprint\u001b[39m(romansnums\u001b[38;5;241m.\u001b[39mpopitem())\n\u001b[0;32m      6\u001b[0m \u001b[38;5;28mprint\u001b[39m(romansnums)\n\u001b[1;32m----> 7\u001b[0m \u001b[38;5;28mprint\u001b[39m(romansnums\u001b[38;5;241m.\u001b[39mpopitem())\n",
      "\u001b[1;31mKeyError\u001b[0m: 'popitem(): dictionary is empty'"
     ]
    }
   ],
   "source": [
    "#python dictionary popitem\n",
    "romansnums={'I':1,'II':2,'III':3}\n",
    "print(romansnums.popitem())\n",
    "print(romansnums.popitem())\n",
    "print(romansnums.popitem())\n",
    "print(romansnums)\n",
    "print(romansnums.popitem())"
   ]
  },
  {
   "cell_type": "code",
   "execution_count": 30,
   "id": "66960cd2-33ab-4a54-a874-93940c3128e9",
   "metadata": {},
   "outputs": [
    {
     "name": "stdout",
     "output_type": "stream",
     "text": [
      "dictionary: {'I': 1, 'III': 3, 'V': 5}\n",
      "updated dictionary: {'I': 1, 'III': 3, 'V': 5, 'II': 2, 'IV': 4}\n"
     ]
    }
   ],
   "source": [
    "#pythons dictionary update\n",
    "\n",
    "romansnums={'I':1,'III':3,'V':5}\n",
    "print('dictionary:',romansnums)\n",
    "evenromansnums={'II':2,'IV':4}\n",
    "romansnums.update(evenromansnums)\n",
    "print('updated dictionary:',romansnums)\n"
   ]
  },
  {
   "cell_type": "code",
   "execution_count": 34,
   "id": "0e8f8dbd-3140-4f31-b4f2-7f2f2b8ca254",
   "metadata": {},
   "outputs": [
    {
     "name": "stdout",
     "output_type": "stream",
     "text": [
      "dictionary: {'I': 1, 'III': 3, 'V': 5}\n",
      "update dictionary: {'I': 1, 'III': 3, 'V': 5, 'II': 2, 'IV': 4}\n"
     ]
    }
   ],
   "source": [
    "romansnums={'I':1,'III':3,'V':5}\n",
    "print('dictionary:',romansnums)\n",
    "romansnums.update((('II',2),('IV',4)))\n",
    "print('update dictionary:',romansnums)"
   ]
  },
  {
   "cell_type": "code",
   "execution_count": 36,
   "id": "23829749-616a-436f-999f-e6dfa80a81d6",
   "metadata": {},
   "outputs": [
    {
     "name": "stdout",
     "output_type": "stream",
     "text": [
      "dict_values([1, 3, 5, 4])\n"
     ]
    }
   ],
   "source": [
    "#python dictionary values\n",
    "\n",
    "romansnums={'I':1,'III':3,'V':5,'IV':4}\n",
    "values=romansnums.values()\n",
    "print(values)"
   ]
  },
  {
   "cell_type": "code",
   "execution_count": null,
   "id": "3f1b5a07-2741-47b5-a9e0-c2fa60fb5c70",
   "metadata": {},
   "outputs": [],
   "source": []
  }
 ],
 "metadata": {
  "kernelspec": {
   "display_name": "Python 3 (ipykernel)",
   "language": "python",
   "name": "python3"
  },
  "language_info": {
   "codemirror_mode": {
    "name": "ipython",
    "version": 3
   },
   "file_extension": ".py",
   "mimetype": "text/x-python",
   "name": "python",
   "nbconvert_exporter": "python",
   "pygments_lexer": "ipython3",
   "version": "3.11.7"
  }
 },
 "nbformat": 4,
 "nbformat_minor": 5
}
