{
 "cells": [
  {
   "cell_type": "code",
   "execution_count": 4,
   "id": "78f621d9-1767-40a9-ba8e-ebe8b5f08d30",
   "metadata": {},
   "outputs": [
    {
     "name": "stdin",
     "output_type": "stream",
     "text": [
      "enter the number 1\n",
      "enter the number 3\n",
      "enter the number 4\n"
     ]
    },
    {
     "name": "stdout",
     "output_type": "stream",
     "text": [
      "roots cannot be calculated\n"
     ]
    }
   ],
   "source": [
    "import math\n",
    "a=int(input('enter the number'))\n",
    "b=int(input('enter the number'))\n",
    "c=int(input('enter the number'))\n",
    "d=b*b-4*a*c\n",
    "if d<0:\n",
    "    print('roots cannot be calculated')\n",
    "else:\n",
    "    x1=(-b+math.sqrt(d))/(2*a)\n",
    "    x2=(-b-math.sqrt(d))/(2*a)\n",
    "    print('x1=',x1)\n",
    "    print('x2=',x2)"
   ]
  },
  {
   "cell_type": "code",
   "execution_count": 7,
   "id": "5d4dc00d-ff4b-4d8a-8036-60c8646beb5c",
   "metadata": {},
   "outputs": [
    {
     "name": "stdin",
     "output_type": "stream",
     "text": [
      "enter the number 1--7 4\n"
     ]
    },
    {
     "name": "stdout",
     "output_type": "stream",
     "text": [
      "wen\n"
     ]
    }
   ],
   "source": [
    "#if elif ladder form\n",
    "day=int(input('enter the number 1--7'))\n",
    "if day==1:\n",
    "        print('sun')\n",
    "elif day==2:\n",
    "    print('mon')\n",
    "elif day==3:\n",
    "    print('tue')\n",
    "elif day==4:\n",
    "    print('wen')\n",
    "elif day==5:\n",
    "    print('thu')\n",
    "elif day==6:\n",
    "    print('fri')\n",
    "elif day==7:\n",
    "    print('sat')\n",
    "else:\n",
    "    print('invalid choice')\n"
   ]
  },
  {
   "cell_type": "code",
   "execution_count": 8,
   "id": "77d188e8-f74c-407b-a38e-5cdc97f120ff",
   "metadata": {},
   "outputs": [
    {
     "name": "stdin",
     "output_type": "stream",
     "text": [
      "enter the nubmer 3\n"
     ]
    },
    {
     "name": "stdout",
     "output_type": "stream",
     "text": [
      "positive number\n"
     ]
    }
   ],
   "source": [
    "n=int(input('enter the nubmer'))\n",
    "if n>0:\n",
    "    print('positive number')\n",
    "elif n<0:\n",
    "    print('negative number')\n",
    "else:\n",
    "    print('number is zero')"
   ]
  },
  {
   "cell_type": "code",
   "execution_count": 12,
   "id": "35c01842-2119-48e1-b810-54e92308fdeb",
   "metadata": {},
   "outputs": [
    {
     "name": "stdin",
     "output_type": "stream",
     "text": [
      "enter the number 8\n",
      "enter the number 2\n",
      "enter the number 6\n"
     ]
    },
    {
     "name": "stdout",
     "output_type": "stream",
     "text": [
      "a is the greatest\n"
     ]
    }
   ],
   "source": [
    "a=int(input('enter the number'))\n",
    "b=int(input('enter the number'))\n",
    "c=int(input('enter the number'))\n",
    "if a>b and a>c:\n",
    "            print('a is the greatest')\n",
    "elif b>a and b>c:\n",
    "      print('b is the greatest')\n",
    "else:\n",
    "      print('c is the greatest')"
   ]
  },
  {
   "cell_type": "code",
   "execution_count": 13,
   "id": "5861ab6a-44c8-4078-9cb2-275e0b5532d9",
   "metadata": {},
   "outputs": [
    {
     "name": "stdin",
     "output_type": "stream",
     "text": [
      "enter the number 39\n",
      "enter the number 26\n",
      "enter the number 50\n",
      "enter the number 20\n",
      "enter the number 59\n"
     ]
    },
    {
     "name": "stdout",
     "output_type": "stream",
     "text": [
      "fail\n"
     ]
    }
   ],
   "source": [
    "p=float(input('enter the number'))\n",
    "c=float(input('enter the number'))\n",
    "m=float(input('enter the number'))\n",
    "e=float(input('enter the number'))\n",
    "h=float(input('enter the number'))\n",
    "sum=p+c+m+e+h\n",
    "per=sum*100/500\n",
    "if per>=60:\n",
    "    print('A')\n",
    "elif per>=50:\n",
    "    print('B')\n",
    "elif per>=40:\n",
    "    print('D')\n",
    "else:\n",
    "    print('fail')"
   ]
  },
  {
   "cell_type": "code",
   "execution_count": 15,
   "id": "b0f8e495-462f-4593-a5c2-cd4f110210b3",
   "metadata": {},
   "outputs": [
    {
     "name": "stdin",
     "output_type": "stream",
     "text": [
      "enter the alphabet a\n"
     ]
    },
    {
     "name": "stdout",
     "output_type": "stream",
     "text": [
      "vowel\n"
     ]
    }
   ],
   "source": [
    "#logical or \n",
    "\n",
    "ch=input(\"enter the alphabet\")\n",
    "if ch=='a' or ch=='e' or ch==\"i\" or ch=='o' or ch=='u':\n",
    "    print('vowel')\n",
    "elif ch==\"A\" or ch==\"E\" or ch==\"I\" or ch==\"O\" or ch==\"U\":\n",
    "    print('vowel')\n",
    "else:\n",
    "    print('consonant')"
   ]
  },
  {
   "cell_type": "code",
   "execution_count": 17,
   "id": "473b6776-f363-486f-8a83-7ea3bde2a02e",
   "metadata": {},
   "outputs": [
    {
     "name": "stdin",
     "output_type": "stream",
     "text": [
      "enter the alphabet like \n",
      " r of red \n",
      " y for yellow \n",
      " g for green \n",
      " i\n"
     ]
    },
    {
     "name": "stdout",
     "output_type": "stream",
     "text": [
      "pay challan\n"
     ]
    }
   ],
   "source": [
    "#traffic light\n",
    "ch=input('enter the alphabet like \\n r of red \\n y for yellow \\n g for green \\n')\n",
    "if ch==\"R\" or ch=='r':\n",
    "    print('stop')\n",
    "elif ch=='y' or ch=='Y':\n",
    "    print('slow down')\n",
    "elif ch=='g' or ch=='Y':\n",
    "    print('go forward')\n",
    "else:\n",
    "    print('pay challan')"
   ]
  },
  {
   "cell_type": "code",
   "execution_count": 20,
   "id": "42507db0-13dd-4435-9d65-4e5f985c7015",
   "metadata": {},
   "outputs": [
    {
     "name": "stdin",
     "output_type": "stream",
     "text": [
      "enter the number 98\n",
      "enter the number 23\n"
     ]
    },
    {
     "name": "stdout",
     "output_type": "stream",
     "text": [
      "1. add\n",
      "2. sub\n",
      "3. mul\n",
      "4. div\n"
     ]
    },
    {
     "name": "stdin",
     "output_type": "stream",
     "text": [
      "enter the above number 4\n"
     ]
    },
    {
     "name": "stdout",
     "output_type": "stream",
     "text": [
      "the div is  4.260869565217392\n"
     ]
    }
   ],
   "source": [
    "#mini calculater\n",
    "a=int(input('enter the number'))\n",
    "b=int(input('enter the number'))\n",
    "print('1. add')\n",
    "print('2. sub')\n",
    "print('3. mul')\n",
    "print('4. div')\n",
    "choice=int(input('enter the above number'))\n",
    "if choice==1:\n",
    "    print('the sum is ',a+b)\n",
    "elif choice==2:\n",
    "    print('the sub is',a-b)\n",
    "elif choice==3:\n",
    "    print('the mul is',a*b)\n",
    "elif choice==4:\n",
    "    print('the div is ',a/b)\n",
    "else:\n",
    "    print('invalid choice')\n",
    "           "
   ]
  },
  {
   "cell_type": "code",
   "execution_count": null,
   "id": "5e598a32-e42f-4be9-ad13-4d48f0b369ba",
   "metadata": {},
   "outputs": [],
   "source": []
  }
 ],
 "metadata": {
  "kernelspec": {
   "display_name": "Python 3 (ipykernel)",
   "language": "python",
   "name": "python3"
  },
  "language_info": {
   "codemirror_mode": {
    "name": "ipython",
    "version": 3
   },
   "file_extension": ".py",
   "mimetype": "text/x-python",
   "name": "python",
   "nbconvert_exporter": "python",
   "pygments_lexer": "ipython3",
   "version": "3.11.7"
  }
 },
 "nbformat": 4,
 "nbformat_minor": 5
}
