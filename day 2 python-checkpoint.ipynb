{
 "cells": [
  {
   "cell_type": "code",
   "execution_count": 1,
   "id": "591788c2-4190-4e3d-bf52-0f3356e956a1",
   "metadata": {},
   "outputs": [
    {
     "name": "stdout",
     "output_type": "stream",
     "text": [
      "shourya\n"
     ]
    }
   ],
   "source": [
    "print(\"shourya\")"
   ]
  },
  {
   "cell_type": "code",
   "execution_count": 2,
   "id": "d5ef11ce-c124-4303-9dc3-866402cbe910",
   "metadata": {},
   "outputs": [
    {
     "name": "stdout",
     "output_type": "stream",
     "text": [
      "shourya\n"
     ]
    }
   ],
   "source": [
    "print('shourya')"
   ]
  },
  {
   "cell_type": "code",
   "execution_count": 3,
   "id": "bc1d5447-fff3-44dd-be27-a1ce8725af4a",
   "metadata": {},
   "outputs": [],
   "source": [
    "a=10"
   ]
  },
  {
   "cell_type": "code",
   "execution_count": 4,
   "id": "30de2550-a890-46f0-834c-ee3793b38174",
   "metadata": {},
   "outputs": [
    {
     "name": "stdout",
     "output_type": "stream",
     "text": [
      "10\n"
     ]
    }
   ],
   "source": [
    "print(a)"
   ]
  },
  {
   "cell_type": "code",
   "execution_count": 5,
   "id": "1221d09c-9524-46af-bf92-8b8fff09b7f7",
   "metadata": {},
   "outputs": [
    {
     "name": "stdout",
     "output_type": "stream",
     "text": [
      "the value of a is 10\n"
     ]
    }
   ],
   "source": [
    "print('the value of a is',a)"
   ]
  },
  {
   "cell_type": "code",
   "execution_count": 8,
   "id": "2b251477-1b86-4dd4-855e-47e55f77c041",
   "metadata": {},
   "outputs": [
    {
     "name": "stdout",
     "output_type": "stream",
     "text": [
      "the sum of two number 30\n"
     ]
    }
   ],
   "source": [
    "#sum of two number\n",
    "a=10\n",
    "b=20\n",
    "c=a+b\n",
    "print('the sum of two number',c)"
   ]
  },
  {
   "cell_type": "code",
   "execution_count": 7,
   "id": "5ec2f131-5f56-465a-b9b1-89b474b4ab1f",
   "metadata": {},
   "outputs": [
    {
     "name": "stdout",
     "output_type": "stream",
     "text": [
      "30\n"
     ]
    }
   ],
   "source": [
    "print(c)\n"
   ]
  },
  {
   "cell_type": "code",
   "execution_count": 9,
   "id": "875ebffa-afef-40fd-a760-c6d25962311f",
   "metadata": {},
   "outputs": [
    {
     "name": "stdout",
     "output_type": "stream",
     "text": [
      "the simple intrest is 448.0\n"
     ]
    }
   ],
   "source": [
    "# simple intrest\n",
    "p=2000\n",
    "r=5.6\n",
    "t=4\n",
    "si=p*r*t/100\n",
    "print('the simple intrest is',si)"
   ]
  },
  {
   "cell_type": "code",
   "execution_count": 10,
   "id": "a5b553cb-b45f-4cda-836f-652fa98c39ce",
   "metadata": {},
   "outputs": [
    {
     "name": "stdout",
     "output_type": "stream",
     "text": [
      "avg of three number 4.333333333333333\n"
     ]
    }
   ],
   "source": [
    "#average of three number\n",
    "a=4\n",
    "b=8\n",
    "c=1\n",
    "avg=(a+b+c)/3\n",
    "print(\"avg of three number\",avg)"
   ]
  },
  {
   "cell_type": "code",
   "execution_count": 11,
   "id": "aad9e0ba-71f8-4fb4-b550-b4d1a66871e9",
   "metadata": {},
   "outputs": [
    {
     "name": "stdout",
     "output_type": "stream",
     "text": [
      "before swapping\n"
     ]
    }
   ],
   "source": [
    "# swapping of 2 number\n",
    "a=78\n",
    "b=87\n",
    "print('before swapping')"
   ]
  },
  {
   "cell_type": "code",
   "execution_count": 12,
   "id": "95486221-f0ff-4e2c-bc6e-92e6cfb73e79",
   "metadata": {},
   "outputs": [
    {
     "name": "stdout",
     "output_type": "stream",
     "text": [
      "A= 78\n",
      "B= 87\n"
     ]
    }
   ],
   "source": [
    "print('A=',a)\n",
    "print('B=',b)"
   ]
  },
  {
   "cell_type": "code",
   "execution_count": 13,
   "id": "60aa9be8-ab79-47fa-b78c-0fd0f96d720a",
   "metadata": {},
   "outputs": [
    {
     "name": "stdout",
     "output_type": "stream",
     "text": [
      "after swapping\n",
      "A= 87\n",
      "B= 78\n"
     ]
    }
   ],
   "source": [
    "temp=a\n",
    "a=b\n",
    "b=temp\n",
    "print('after swapping',)\n",
    "print('A=',a)\n",
    "print('B=',b)"
   ]
  },
  {
   "cell_type": "code",
   "execution_count": 14,
   "id": "de88c506-a3b9-465a-a809-035710007111",
   "metadata": {},
   "outputs": [
    {
     "name": "stdout",
     "output_type": "stream",
     "text": [
      "before swapping\n",
      "A= 10\n",
      "B= 20\n"
     ]
    }
   ],
   "source": [
    "a=10\n",
    "b=20\n",
    "print('before swapping')\n",
    "print('A=',a)\n",
    "print('B=',b)\n",
    "\n"
   ]
  },
  {
   "cell_type": "code",
   "execution_count": 15,
   "id": "97f57241-9880-4e2d-b55a-68fe801aa57f",
   "metadata": {},
   "outputs": [
    {
     "name": "stdout",
     "output_type": "stream",
     "text": [
      "after swapping\n",
      "A= 20\n",
      "B= 10\n"
     ]
    }
   ],
   "source": [
    "a=a+b\n",
    "b=a-b\n",
    "a=a-b\n",
    "print('after swapping',)\n",
    "print('A=',a)\n",
    "print('B=',b)"
   ]
  },
  {
   "cell_type": "code",
   "execution_count": 16,
   "id": "99cb1cc8-adbc-423c-81fb-38b4b071384c",
   "metadata": {},
   "outputs": [],
   "source": [
    "a,b=b,a"
   ]
  },
  {
   "cell_type": "code",
   "execution_count": 18,
   "id": "aa56193a-3718-443c-a9f4-081145054506",
   "metadata": {},
   "outputs": [
    {
     "name": "stdout",
     "output_type": "stream",
     "text": [
      "A= 10\n",
      "B= 20\n",
      "A= 20\n",
      "B= 10\n"
     ]
    }
   ],
   "source": [
    "a=10\n",
    "b=20\n",
    "print('A=',a)\n",
    "print('B=',b)\n",
    "a,b=b,a\n",
    "print('A=',a)\n",
    "print('B=',b)"
   ]
  },
  {
   "cell_type": "code",
   "execution_count": 19,
   "id": "69d2d984-e51b-4396-a4e1-d51e848d864d",
   "metadata": {},
   "outputs": [],
   "source": [
    "#opration\n",
    "a=63\n",
    "b=4"
   ]
  },
  {
   "cell_type": "code",
   "execution_count": 20,
   "id": "ec616f7d-e8fd-42a1-a8ea-1b2b5429ec2d",
   "metadata": {},
   "outputs": [
    {
     "data": {
      "text/plain": [
       "15.75"
      ]
     },
     "execution_count": 20,
     "metadata": {},
     "output_type": "execute_result"
    }
   ],
   "source": [
    "a/b"
   ]
  },
  {
   "cell_type": "code",
   "execution_count": 21,
   "id": "1fb78a03-6b33-4bea-9d87-8b62833a5e1e",
   "metadata": {},
   "outputs": [
    {
     "data": {
      "text/plain": [
       "15"
      ]
     },
     "execution_count": 21,
     "metadata": {},
     "output_type": "execute_result"
    }
   ],
   "source": [
    "a//b"
   ]
  },
  {
   "cell_type": "code",
   "execution_count": 22,
   "id": "4d96ea13-fa38-4987-98d9-b805924a15af",
   "metadata": {},
   "outputs": [
    {
     "data": {
      "text/plain": [
       "15752961"
      ]
     },
     "execution_count": 22,
     "metadata": {},
     "output_type": "execute_result"
    }
   ],
   "source": [
    "a**b"
   ]
  },
  {
   "cell_type": "code",
   "execution_count": 23,
   "id": "c8fecccb-e65c-4c6e-bca5-137e939a8523",
   "metadata": {},
   "outputs": [],
   "source": [
    "import math"
   ]
  },
  {
   "cell_type": "code",
   "execution_count": 24,
   "id": "995bd6ae-82bf-4ad2-a6dc-4510fd007064",
   "metadata": {},
   "outputs": [
    {
     "data": {
      "text/plain": [
       "15625.0"
      ]
     },
     "execution_count": 24,
     "metadata": {},
     "output_type": "execute_result"
    }
   ],
   "source": [
    "a=25\n",
    "b=3\n",
    "c=math.pow(a,b)\n",
    "c"
   ]
  },
  {
   "cell_type": "code",
   "execution_count": 25,
   "id": "6ec2a58d-c849-473b-ba81-687a61b55d6d",
   "metadata": {},
   "outputs": [
    {
     "data": {
      "text/plain": [
       "15625"
      ]
     },
     "execution_count": 25,
     "metadata": {},
     "output_type": "execute_result"
    }
   ],
   "source": [
    "a=25\n",
    "b=3\n",
    "c=pow(a,b)\n",
    "c"
   ]
  },
  {
   "cell_type": "code",
   "execution_count": 26,
   "id": "668f64ba-0275-4833-9600-5b1d469a8505",
   "metadata": {},
   "outputs": [
    {
     "data": {
      "text/plain": [
       "9.899494936611665"
      ]
     },
     "execution_count": 26,
     "metadata": {},
     "output_type": "execute_result"
    }
   ],
   "source": [
    "n=98\n",
    "x=math.sqrt(n)\n",
    "x"
   ]
  },
  {
   "cell_type": "code",
   "execution_count": 27,
   "id": "a1d680a1-7134-4dfa-99fc-c94b58c0f95b",
   "metadata": {},
   "outputs": [
    {
     "name": "stdin",
     "output_type": "stream",
     "text": [
      "enter the value of a 56\n",
      "enter the value of b 76\n"
     ]
    },
    {
     "name": "stdout",
     "output_type": "stream",
     "text": [
      "the sum is 132\n"
     ]
    }
   ],
   "source": [
    "#runtime value\n",
    "a=int(input('enter the value of a'))\n",
    "b=int(input('enter the value of b'))\n",
    "c=a+b\n",
    "print('the sum is',c)"
   ]
  },
  {
   "cell_type": "code",
   "execution_count": 28,
   "id": "745461b3-eb4e-4bb7-91fc-99b47ec40c56",
   "metadata": {},
   "outputs": [
    {
     "name": "stdin",
     "output_type": "stream",
     "text": [
      "enter the value of p 3\n",
      "enter the value of r 5\n",
      "enter the value of t 5\n"
     ]
    },
    {
     "name": "stdout",
     "output_type": "stream",
     "text": [
      "the simple interst is 0.75\n"
     ]
    }
   ],
   "source": [
    "p=int(input('enter the value of p'))\n",
    "r=int(input('enter the value of r'))\n",
    "t=int(input('enter the value of t'))\n",
    "si=p*r*t/100\n",
    "print('the simple interst is',si) "
   ]
  },
  {
   "cell_type": "code",
   "execution_count": 29,
   "id": "489578fe-3675-47cf-a7fe-1331ea4619d0",
   "metadata": {},
   "outputs": [
    {
     "name": "stdin",
     "output_type": "stream",
     "text": [
      "enter the value of a 4\n",
      "enter the value of b 5\n",
      "enter the value of c 7\n"
     ]
    },
    {
     "name": "stdout",
     "output_type": "stream",
     "text": [
      "the average is 5.333333333333333\n"
     ]
    }
   ],
   "source": [
    "#avg runtime value\n",
    "a=int(input('enter the value of a'))\n",
    "b=int(input('enter the value of b'))\n",
    "c=int(input('enter the value of c'))\n",
    "avg=(a+b+c)/3\n",
    "print('the average is',avg)"
   ]
  },
  {
   "cell_type": "code",
   "execution_count": 31,
   "id": "a74ebff8-ce19-447b-8162-e6fc9b75f10d",
   "metadata": {},
   "outputs": [
    {
     "name": "stdin",
     "output_type": "stream",
     "text": [
      "enter the value of p 28\n",
      "enter the value of e 38\n",
      "enter the value of w 58\n",
      "enter the value of s 83\n",
      "enter the value of t 94\n"
     ]
    },
    {
     "name": "stdout",
     "output_type": "stream",
     "text": [
      "per of 5 subject 60.2\n"
     ]
    }
   ],
   "source": [
    "p=int(input('enter the value of p'))\n",
    "e=int(input('enter the value of e'))\n",
    "w=int(input('enter the value of w'))\n",
    "s=int(input('enter the value of s'))\n",
    "t=int(input('enter the value of t'))\n",
    "sum=p+e+w+s+t\n",
    "per=sum*100/500\n",
    "print('per of 5 subject',per)"
   ]
  },
  {
   "cell_type": "code",
   "execution_count": null,
   "id": "36acc9a9-4d9f-4862-adcc-0163e88e383a",
   "metadata": {},
   "outputs": [],
   "source": []
  }
 ],
 "metadata": {
  "kernelspec": {
   "display_name": "Python 3 (ipykernel)",
   "language": "python",
   "name": "python3"
  },
  "language_info": {
   "codemirror_mode": {
    "name": "ipython",
    "version": 3
   },
   "file_extension": ".py",
   "mimetype": "text/x-python",
   "name": "python",
   "nbconvert_exporter": "python",
   "pygments_lexer": "ipython3",
   "version": "3.11.7"
  }
 },
 "nbformat": 4,
 "nbformat_minor": 5
}
