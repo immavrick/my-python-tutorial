{
 "cells": [
  {
   "cell_type": "code",
   "execution_count": 1,
   "id": "8436d7c8-ace8-4f32-9b4c-dcf19abeb1c6",
   "metadata": {},
   "outputs": [],
   "source": [
    "# pandas series\n",
    "import pandas as pd"
   ]
  },
  {
   "cell_type": "code",
   "execution_count": 3,
   "id": "3dfa741d-4b96-48d1-a347-e832e5781687",
   "metadata": {},
   "outputs": [
    {
     "data": {
      "text/plain": [
       "0     1\n",
       "1     2\n",
       "2     3\n",
       "3    45\n",
       "4     5\n",
       "dtype: int64"
      ]
     },
     "execution_count": 3,
     "metadata": {},
     "output_type": "execute_result"
    }
   ],
   "source": [
    "pd.Series([1,2,3,45,5])"
   ]
  },
  {
   "cell_type": "code",
   "execution_count": 6,
   "id": "c4058602-9bd1-4c00-9cf8-f7e19ae4e107",
   "metadata": {},
   "outputs": [
    {
     "data": {
      "text/plain": [
       "2018 profit    75\n",
       "2019 profit    35\n",
       "2020 profit    46\n",
       "dtype: int64"
      ]
     },
     "execution_count": 6,
     "metadata": {},
     "output_type": "execute_result"
    }
   ],
   "source": [
    "profit= pd.Series([75,35,46],index=['2018 profit','2019 profit','2020 profit'])\n",
    "profit"
   ]
  },
  {
   "cell_type": "code",
   "execution_count": 8,
   "id": "b746e7e6-d26a-4193-b1bd-4abc132b4b02",
   "metadata": {},
   "outputs": [],
   "source": [
    "customer_sales=pd.DataFrame([[371,'melb','80'],[244,'london','50']],columns= ['customer_id','city','sales'])"
   ]
  },
  {
   "cell_type": "code",
   "execution_count": 9,
   "id": "4bf9e4ae-f282-42e6-909a-3b769de9d2c0",
   "metadata": {},
   "outputs": [
    {
     "data": {
      "text/html": [
       "<div>\n",
       "<style scoped>\n",
       "    .dataframe tbody tr th:only-of-type {\n",
       "        vertical-align: middle;\n",
       "    }\n",
       "\n",
       "    .dataframe tbody tr th {\n",
       "        vertical-align: top;\n",
       "    }\n",
       "\n",
       "    .dataframe thead th {\n",
       "        text-align: right;\n",
       "    }\n",
       "</style>\n",
       "<table border=\"1\" class=\"dataframe\">\n",
       "  <thead>\n",
       "    <tr style=\"text-align: right;\">\n",
       "      <th></th>\n",
       "      <th>customer_id</th>\n",
       "      <th>city</th>\n",
       "      <th>sales</th>\n",
       "    </tr>\n",
       "  </thead>\n",
       "  <tbody>\n",
       "    <tr>\n",
       "      <th>0</th>\n",
       "      <td>371</td>\n",
       "      <td>melb</td>\n",
       "      <td>80</td>\n",
       "    </tr>\n",
       "    <tr>\n",
       "      <th>1</th>\n",
       "      <td>244</td>\n",
       "      <td>london</td>\n",
       "      <td>50</td>\n",
       "    </tr>\n",
       "  </tbody>\n",
       "</table>\n",
       "</div>"
      ],
      "text/plain": [
       "   customer_id    city sales\n",
       "0          371    melb    80\n",
       "1          244  london    50"
      ]
     },
     "execution_count": 9,
     "metadata": {},
     "output_type": "execute_result"
    }
   ],
   "source": [
    "customer_sales"
   ]
  },
  {
   "cell_type": "markdown",
   "id": "75988d6c-5798-4bdf-9cd1-1a4da4558a17",
   "metadata": {},
   "source": []
  }
 ],
 "metadata": {
  "kernelspec": {
   "display_name": "Python 3 (ipykernel)",
   "language": "python",
   "name": "python3"
  },
  "language_info": {
   "codemirror_mode": {
    "name": "ipython",
    "version": 3
   },
   "file_extension": ".py",
   "mimetype": "text/x-python",
   "name": "python",
   "nbconvert_exporter": "python",
   "pygments_lexer": "ipython3",
   "version": "3.11.7"
  }
 },
 "nbformat": 4,
 "nbformat_minor": 5
}
