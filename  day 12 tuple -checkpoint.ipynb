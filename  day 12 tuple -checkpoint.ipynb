{
 "cells": [
  {
   "cell_type": "code",
   "execution_count": 1,
   "id": "1c4b8748-eceb-4bbc-8023-7e6807f6021e",
   "metadata": {},
   "outputs": [
    {
     "name": "stdout",
     "output_type": "stream",
     "text": [
      "['Hello', 'World']\n"
     ]
    }
   ],
   "source": [
    "#python strung split() method \n",
    "#str.split(separator)\n",
    "\n",
    "mystr='Hello World'\n",
    "print(mystr.split())"
   ]
  },
  {
   "cell_type": "code",
   "execution_count": 3,
   "id": "e5b6dbae-b5e3-4919-b925-da49b6bf803a",
   "metadata": {},
   "outputs": [
    {
     "name": "stdout",
     "output_type": "stream",
     "text": [
      "['c', 'python', 'r', 'lava', 'sql', 'hadoop', '']\n"
     ]
    }
   ],
   "source": [
    "langs='c,python,r,lava,sql,hadoop,'\n",
    "print(langs.split(','))"
   ]
  },
  {
   "cell_type": "code",
   "execution_count": 5,
   "id": "7220ae6f-d6ac-48fd-b84a-de2ffba60f74",
   "metadata": {},
   "outputs": [
    {
     "name": "stdout",
     "output_type": "stream",
     "text": [
      "['apples', 'banana', 'mango', 'fig', 'pear']\n"
     ]
    }
   ],
   "source": [
    "fruits='apples$banana$mango$fig$pear'\n",
    "print(fruits.split('$'))"
   ]
  },
  {
   "cell_type": "code",
   "execution_count": 6,
   "id": "68681d09-f82f-47fa-a748-2d1da4e72438",
   "metadata": {},
   "outputs": [
    {
     "name": "stdout",
     "output_type": "stream",
     "text": [
      "['c', 'python', 'r', 'lava,sql,hadoop,']\n"
     ]
    }
   ],
   "source": [
    "#the following examples limits the split by specifying the maxsplit parameter \n",
    "\n",
    "langs='c,python,r,lava,sql,hadoop,'\n",
    "print(langs.split(',',3))"
   ]
  },
  {
   "cell_type": "code",
   "execution_count": 8,
   "id": "8bb47aa9-d42d-4a62-9222-f1b9ed2c7f0c",
   "metadata": {},
   "outputs": [
    {
     "name": "stdout",
     "output_type": "stream",
     "text": [
      "['apples', 'banana', 'mango$fig$pear']\n"
     ]
    }
   ],
   "source": [
    "fruits='apples$banana$mango$fig$pear'\n",
    "print(fruits.split('$',2))"
   ]
  },
  {
   "cell_type": "code",
   "execution_count": 10,
   "id": "70a51e3c-4250-45fd-98f5-8517c0356853",
   "metadata": {},
   "outputs": [
    {
     "name": "stdout",
     "output_type": "stream",
     "text": [
      "HELLO WORLD\n"
     ]
    }
   ],
   "source": [
    "#python string upper() method \n",
    "#str.upper()\n",
    "mystr=\"Hello World\"\n",
    "print(mystr.upper())"
   ]
  },
  {
   "cell_type": "code",
   "execution_count": 11,
   "id": "73924b64-59af-4599-8e06-42798525e663",
   "metadata": {},
   "outputs": [],
   "source": [
    "# TUPLE TUPLE TUPLE TUPLE TUPLE\n",
    "\n",
    "t1= (12,23,45,56) #tuple of integer\n",
    "t1=('how','are','you')\n",
    "t1=((1,2),(2,3))"
   ]
  },
  {
   "cell_type": "code",
   "execution_count": 15,
   "id": "e8994545-77e3-43b3-ac1b-954005e5504b",
   "metadata": {},
   "outputs": [
    {
     "name": "stdout",
     "output_type": "stream",
     "text": [
      "12\n",
      "23\n",
      "45\n",
      "56\n",
      "67\n"
     ]
    }
   ],
   "source": [
    "# TUPLE CONSTRUCTER--------\n",
    "t1=tuple('shourya')\n",
    "\n",
    "\n",
    "a=12,23,45\n",
    "\n",
    "t1=12,23,45,56,67 # tuple packing\n",
    "a,b,c,d,e=t1   # unpacking\n",
    "print(a)\n",
    "print(b)\n",
    "print(c)\n",
    "print(d)\n",
    "print(e)"
   ]
  },
  {
   "cell_type": "code",
   "execution_count": 16,
   "id": "f4b9b679-95b0-48c1-913d-b8f01469977e",
   "metadata": {},
   "outputs": [
    {
     "name": "stdout",
     "output_type": "stream",
     "text": [
      "<class 'int'>\n"
     ]
    }
   ],
   "source": [
    "t2=(12)\n",
    "print(type(t2))"
   ]
  },
  {
   "cell_type": "code",
   "execution_count": 17,
   "id": "613a0585-a62c-4ac0-ba5c-97e0a21502f4",
   "metadata": {},
   "outputs": [
    {
     "name": "stdout",
     "output_type": "stream",
     "text": [
      "<class 'tuple'>\n"
     ]
    }
   ],
   "source": [
    "t2=(12,)\n",
    "print(type(t2))"
   ]
  },
  {
   "cell_type": "code",
   "execution_count": 18,
   "id": "3d147e9f-f3ff-4083-9cd1-8c29fe6c6ce2",
   "metadata": {},
   "outputs": [
    {
     "name": "stdout",
     "output_type": "stream",
     "text": [
      "12\n",
      "56\n",
      "67\n",
      "56\n"
     ]
    }
   ],
   "source": [
    "#accessing\n",
    "t1=(12,23,45,56,67)\n",
    "print(t1[0])\n",
    "print(t1[3])\n",
    "print(t1[-1])\n",
    "print(t1[-2])"
   ]
  },
  {
   "cell_type": "code",
   "execution_count": 19,
   "id": "78057605-17b6-4fff-8ef8-cf29db86e2af",
   "metadata": {},
   "outputs": [
    {
     "name": "stdout",
     "output_type": "stream",
     "text": [
      "(12, 23, 45, 56, 'how', 'are')\n"
     ]
    }
   ],
   "source": [
    "#updating\n",
    "t1=(12,23,45,56)\n",
    "t2=('how','are')\n",
    "print(t1+t2)"
   ]
  },
  {
   "cell_type": "code",
   "execution_count": 22,
   "id": "5e0e332d-cb27-4c08-9147-4a6eb33de059",
   "metadata": {},
   "outputs": [
    {
     "name": "stdout",
     "output_type": "stream",
     "text": [
      "(12, 23, 45, 56)\n",
      "1\n"
     ]
    }
   ],
   "source": [
    "#index()\n",
    "ti=(12,23,45,12,23,12)\n",
    "print(t1)\n",
    "x=t1.index(23)\n",
    "print(x)"
   ]
  },
  {
   "cell_type": "code",
   "execution_count": 26,
   "id": "2ef619c4-eca8-44a8-b793-a68a2ce3492c",
   "metadata": {},
   "outputs": [
    {
     "name": "stdout",
     "output_type": "stream",
     "text": [
      "(1, 2, 3, 4, 5, 6, 98)\n"
     ]
    }
   ],
   "source": [
    "#t1=(1,2,3,4,5,6)\n",
    "#immutable\n",
    "#addinf one element in tuple\n",
    "\n",
    "t1=(1,2,3,4,5,6)\n",
    "ls=list(t1)\n",
    "ls.append(98)\n",
    "t1=tuple(ls)\n",
    "print(t1)"
   ]
  },
  {
   "cell_type": "code",
   "execution_count": 25,
   "id": "79ce1a20-e77f-4ef9-bb02-2a3408bdf70e",
   "metadata": {},
   "outputs": [
    {
     "name": "stdout",
     "output_type": "stream",
     "text": [
      "(1, 2, 'hello', 4, 5, 6)\n"
     ]
    }
   ],
   "source": [
    "#update an element in the tuple\n",
    "t1=(1,2,3,4,5,6)\n",
    "ls=list(t1)\n",
    "ls[2]='hello'\n",
    "t1=tuple(ls)\n",
    "print(t1)"
   ]
  },
  {
   "cell_type": "code",
   "execution_count": 27,
   "id": "348fba8b-1c1b-4d90-880c-b15b338e880d",
   "metadata": {},
   "outputs": [
    {
     "ename": "NameError",
     "evalue": "name 't1' is not defined",
     "output_type": "error",
     "traceback": [
      "\u001b[1;31m---------------------------------------------------------------------------\u001b[0m",
      "\u001b[1;31mNameError\u001b[0m                                 Traceback (most recent call last)",
      "Cell \u001b[1;32mIn[27], line 2\u001b[0m\n\u001b[0;32m      1\u001b[0m \u001b[38;5;28;01mdel\u001b[39;00m t1\n\u001b[1;32m----> 2\u001b[0m \u001b[38;5;28mprint\u001b[39m(t1)\n",
      "\u001b[1;31mNameError\u001b[0m: name 't1' is not defined"
     ]
    }
   ],
   "source": [
    "del t1\n",
    "print(t1)"
   ]
  },
  {
   "cell_type": "code",
   "execution_count": 28,
   "id": "2e3c8a4c-39fa-435a-bc40-8f1dc09916ef",
   "metadata": {},
   "outputs": [
    {
     "name": "stdout",
     "output_type": "stream",
     "text": [
      "<class 'tuple'>\n"
     ]
    }
   ],
   "source": [
    "t2=12,\n",
    "print(type(t2))"
   ]
  },
  {
   "cell_type": "code",
   "execution_count": null,
   "id": "8f7c78e5-3635-47e0-af0c-306ea7f5cbe8",
   "metadata": {},
   "outputs": [],
   "source": []
  }
 ],
 "metadata": {
  "kernelspec": {
   "display_name": "Python 3 (ipykernel)",
   "language": "python",
   "name": "python3"
  },
  "language_info": {
   "codemirror_mode": {
    "name": "ipython",
    "version": 3
   },
   "file_extension": ".py",
   "mimetype": "text/x-python",
   "name": "python",
   "nbconvert_exporter": "python",
   "pygments_lexer": "ipython3",
   "version": "3.11.7"
  }
 },
 "nbformat": 4,
 "nbformat_minor": 5
}
