{
 "cells": [
  {
   "cell_type": "code",
   "execution_count": 4,
   "id": "62ad7d73-f0c4-4651-b71c-87021a8d3a22",
   "metadata": {},
   "outputs": [
    {
     "name": "stdout",
     "output_type": "stream",
     "text": [
      "{2, 4, 6, 8, 10}\n"
     ]
    }
   ],
   "source": [
    "# python - set\n",
    "\n",
    "even_nums={2,4,6,8,10}\n",
    "print(even_nums)\n"
   ]
  },
  {
   "cell_type": "code",
   "execution_count": 7,
   "id": "25be9579-4e03-49b8-a4e1-21a218790b46",
   "metadata": {},
   "outputs": [
    {
     "name": "stdout",
     "output_type": "stream",
     "text": [
      "{1, 'steve', 10.5}\n"
     ]
    }
   ],
   "source": [
    "emp={1,'steve',10.5, True}\n",
    "print(emp)"
   ]
  },
  {
   "cell_type": "code",
   "execution_count": 9,
   "id": "2705fb31-7ac7-40b5-ae50-049f2802d07f",
   "metadata": {},
   "outputs": [
    {
     "name": "stdout",
     "output_type": "stream",
     "text": [
      "{0, 1, 'steve', 10.5}\n"
     ]
    }
   ],
   "source": [
    "emp = {1,'steve',10.5,True,0,False}\n",
    "print(emp)"
   ]
  },
  {
   "cell_type": "code",
   "execution_count": 10,
   "id": "b30548c1-d71b-426b-a9bd-5359c1c87015",
   "metadata": {},
   "outputs": [
    {
     "name": "stdout",
     "output_type": "stream",
     "text": [
      "{1, 2, 3, 4, 5}\n"
     ]
    }
   ],
   "source": [
    "######\n",
    "nums={1,2,2,3,4,4,5,}\n",
    "print(nums)#output:{1,2,3,4,5}\n"
   ]
  },
  {
   "cell_type": "code",
   "execution_count": 11,
   "id": "56deb332-5532-41fb-a9f1-3ea56ea07a75",
   "metadata": {},
   "outputs": [
    {
     "name": "stdout",
     "output_type": "stream",
     "text": [
      "{(10, 10), 10, 20}\n"
     ]
    }
   ],
   "source": [
    "myset={(10,10),10,20}\n",
    "print(myset)"
   ]
  },
  {
   "cell_type": "code",
   "execution_count": 12,
   "id": "73fcd632-0790-4f9f-b8fd-c66bc95214b2",
   "metadata": {},
   "outputs": [
    {
     "ename": "TypeError",
     "evalue": "unhashable type: 'list'",
     "output_type": "error",
     "traceback": [
      "\u001b[1;31m---------------------------------------------------------------------------\u001b[0m",
      "\u001b[1;31mTypeError\u001b[0m                                 Traceback (most recent call last)",
      "Cell \u001b[1;32mIn[12], line 1\u001b[0m\n\u001b[1;32m----> 1\u001b[0m myset\u001b[38;5;241m=\u001b[39m{[\u001b[38;5;241m10\u001b[39m,\u001b[38;5;241m10\u001b[39m],\u001b[38;5;241m10\u001b[39m,\u001b[38;5;241m20\u001b[39m}\u001b[38;5;66;03m#typeerror cant add a list #hashable object\u001b[39;00m\n\u001b[0;32m      2\u001b[0m \u001b[38;5;28mprint\u001b[39m(myset)\n",
      "\u001b[1;31mTypeError\u001b[0m: unhashable type: 'list'"
     ]
    }
   ],
   "source": [
    "myset={[10,10],10,20}#typeerror cant add a list #hashable object\n",
    "print(myset)"
   ]
  },
  {
   "cell_type": "code",
   "execution_count": 13,
   "id": "0623fcd3-a5f0-4332-b122-b24531c69854",
   "metadata": {},
   "outputs": [
    {
     "ename": "TypeError",
     "evalue": "unhashable type: 'set'",
     "output_type": "error",
     "traceback": [
      "\u001b[1;31m---------------------------------------------------------------------------\u001b[0m",
      "\u001b[1;31mTypeError\u001b[0m                                 Traceback (most recent call last)",
      "Cell \u001b[1;32mIn[13], line 1\u001b[0m\n\u001b[1;32m----> 1\u001b[0m myset\u001b[38;5;241m=\u001b[39m{{\u001b[38;5;241m10\u001b[39m,\u001b[38;5;241m10\u001b[39m},\u001b[38;5;241m10\u001b[39m,\u001b[38;5;241m20\u001b[39m}\u001b[38;5;66;03m# typeerror cant add a set #hashable\u001b[39;00m\n\u001b[0;32m      2\u001b[0m \u001b[38;5;28mprint\u001b[39m(myset)\n",
      "\u001b[1;31mTypeError\u001b[0m: unhashable type: 'set'"
     ]
    }
   ],
   "source": [
    "myset={{10,10},10,20}# typeerror cant add a set #hashable\n",
    "print(myset)"
   ]
  },
  {
   "cell_type": "code",
   "execution_count": 14,
   "id": "b70d34ac-42cf-4f65-9001-e85bdb99371d",
   "metadata": {},
   "outputs": [
    {
     "name": "stdout",
     "output_type": "stream",
     "text": [
      "<class 'dict'>\n"
     ]
    }
   ],
   "source": [
    "emp={} # creats an empty dictionary \n",
    "print(type(emp)) #<calss'dict'>\n"
   ]
  },
  {
   "cell_type": "code",
   "execution_count": 16,
   "id": "5e58954c-5479-4cbc-80dd-c10235d8e4f8",
   "metadata": {},
   "outputs": [
    {
     "name": "stdout",
     "output_type": "stream",
     "text": [
      "<class 'set'>\n"
     ]
    }
   ],
   "source": [
    "s=set() # creats an empty set \n",
    "print(type(s)) # <calss 'set\">"
   ]
  },
  {
   "cell_type": "code",
   "execution_count": 17,
   "id": "e28afa1b-9bf2-4770-ac17-36ab017b5201",
   "metadata": {},
   "outputs": [
    {
     "name": "stdout",
     "output_type": "stream",
     "text": [
      "{1, 2, 3, 4, 5}\n"
     ]
    }
   ],
   "source": [
    "#set constructor\n",
    "s= set((1,2,3,4,5)) #sonvert tuple to set \n",
    "print(s)"
   ]
  },
  {
   "cell_type": "code",
   "execution_count": 18,
   "id": "d8c2093b-d71f-4f9a-b043-b893bd36e3ad",
   "metadata": {},
   "outputs": [
    {
     "name": "stdout",
     "output_type": "stream",
     "text": [
      "{'o', 'l', 'h', 'e'}\n"
     ]
    }
   ],
   "source": [
    "s=set(\"hello\") #converts string to set \n",
    "print(s)\n"
   ]
  },
  {
   "cell_type": "code",
   "execution_count": 19,
   "id": "7ff33f13-ff0c-4f57-89f8-8b17586ec22b",
   "metadata": {},
   "outputs": [
    {
     "name": "stdout",
     "output_type": "stream",
     "text": [
      "{1, 2}\n"
     ]
    }
   ],
   "source": [
    "d={1:\"one\",2:\"two\"}\n",
    "s= set(d) #sonverts dict to set \n",
    "print(s)"
   ]
  },
  {
   "cell_type": "code",
   "execution_count": 20,
   "id": "cc167874-0c28-458c-bace-104b1513ddc2",
   "metadata": {},
   "outputs": [
    {
     "name": "stdout",
     "output_type": "stream",
     "text": [
      "{10, 20, 30}\n"
     ]
    }
   ],
   "source": [
    "\n",
    "#modify set element\n",
    "\n",
    "s=set() #creates an empty set \n",
    "s.add(10)\n",
    "s.add(20)\n",
    "s.add(30)\n",
    "print(s)"
   ]
  },
  {
   "cell_type": "code",
   "execution_count": 21,
   "id": "9607c6bb-0afa-4fac-a2ae-5f70f75413d7",
   "metadata": {},
   "outputs": [
    {
     "name": "stdout",
     "output_type": "stream",
     "text": [
      "{2, 3, 20, 5, 7, 10, 30}\n"
     ]
    }
   ],
   "source": [
    "primenums={2,3,5,7}\n",
    "s.update(primenums)#update set with another set \n",
    "print(s)"
   ]
  },
  {
   "cell_type": "code",
   "execution_count": 22,
   "id": "fce94ceb-dadb-4f3d-98cc-296841be42b3",
   "metadata": {},
   "outputs": [
    {
     "name": "stdout",
     "output_type": "stream",
     "text": [
      "{3, 20, 5, 7, 10, 30}\n"
     ]
    }
   ],
   "source": [
    "s.remove(2)\n",
    "print(s)"
   ]
  },
  {
   "cell_type": "code",
   "execution_count": 24,
   "id": "e7326f36-bbb6-456a-ac9e-e257cdf5b23c",
   "metadata": {},
   "outputs": [
    {
     "name": "stdout",
     "output_type": "stream",
     "text": [
      "set after the clear()method is called: set()\n"
     ]
    }
   ],
   "source": [
    " #python set clear() method \n",
    "langs={'python','c++','c','go'}\n",
    "langs.clear()\n",
    "print('set after the clear()method is called:',langs) "
   ]
  },
  {
   "cell_type": "code",
   "execution_count": 26,
   "id": "0df16e54-3955-4cbd-ba7e-9ce982a24bde",
   "metadata": {},
   "outputs": [
    {
     "name": "stdout",
     "output_type": "stream",
     "text": [
      "original set: {'python', 'java', 'c++'}\n",
      "copied set: {'python', 'java', 'c++'}\n"
     ]
    }
   ],
   "source": [
    "#python set copy()\n",
    "langs = {'python','c++','java'}\n",
    "copiedlangs=langs.copy()\n",
    "print('original set:',langs)\n",
    "print('copied set:',langs)"
   ]
  },
  {
   "cell_type": "code",
   "execution_count": 27,
   "id": "e4877b84-1b2c-4487-b783-eb1e947cbc1e",
   "metadata": {},
   "outputs": [
    {
     "name": "stdout",
     "output_type": "stream",
     "text": [
      "nums1-nums2: {1, 2, 3}\n",
      "nums2-nums1: {8, 6, 7}\n"
     ]
    }
   ],
   "source": [
    "# python set difference\n",
    "nums1={1,2,2,3,4,5}\n",
    "nums2={4,5,4,6,7,8,8}\n",
    "nums3=nums1.difference(nums2)\n",
    "nums4=nums2.difference(nums1)\n",
    "print('nums1-nums2:',nums3)\n",
    "print('nums2-nums1:',nums4)"
   ]
  },
  {
   "cell_type": "markdown",
   "id": "368d8a02-5aeb-458b-909e-3b56918e86e7",
   "metadata": {},
   "source": [
    "# python set intersection\n"
   ]
  },
  {
   "cell_type": "code",
   "execution_count": 29,
   "id": "37c2d15e-b64a-4821-ad12-2cbe297d9701",
   "metadata": {},
   "outputs": [
    {
     "name": "stdout",
     "output_type": "stream",
     "text": [
      "common elements in nums and oddnums are: {1, 3, 5}\n"
     ]
    }
   ],
   "source": [
    "nums= {1,2,3,4,5}\n",
    "oddnums={1,3,5,7,9}\n",
    "commonnums=nums.intersection(oddnums)\n",
    "print('common elements in nums and oddnums are:',commonnums)"
   ]
  },
  {
   "cell_type": "code",
   "execution_count": 30,
   "id": "fd345820-5e9c-4f2c-92c8-0d7ce90a7e3c",
   "metadata": {},
   "outputs": [
    {
     "name": "stdout",
     "output_type": "stream",
     "text": [
      "common elemnts: set()\n"
     ]
    }
   ],
   "source": [
    "nums={1,2,3,4,5,6,7}\n",
    "oddnums={1,3,5,7,9}\n",
    "evennums={2,4,6,8}\n",
    "commonnums=nums.intersection(oddnums,evennums)\n",
    "print('common elemnts:',commonnums)"
   ]
  },
  {
   "cell_type": "markdown",
   "id": "fcc09b81-4e3d-40cf-957f-f74d7b6aa06a",
   "metadata": {},
   "source": [
    "# python set union "
   ]
  },
  {
   "cell_type": "code",
   "execution_count": 31,
   "id": "5e55761b-44f6-451f-ad3a-592e717bef2f",
   "metadata": {},
   "outputs": [
    {
     "name": "stdout",
     "output_type": "stream",
     "text": [
      "the union of two set is : {1, 2, 3, 4, 5, 6, 7}\n"
     ]
    }
   ],
   "source": [
    "nums1={1,2,2,3,3,4,5}\n",
    "nums2={4,5,5,6,6,7}\n",
    "distinct_nums= nums1.union(nums2)\n",
    "print('the union of two set is :',distinct_nums)"
   ]
  },
  {
   "cell_type": "code",
   "execution_count": null,
   "id": "038e45fe-d127-4eb8-bbd6-346f9a671f50",
   "metadata": {},
   "outputs": [],
   "source": []
  }
 ],
 "metadata": {
  "kernelspec": {
   "display_name": "Python 3 (ipykernel)",
   "language": "python",
   "name": "python3"
  },
  "language_info": {
   "codemirror_mode": {
    "name": "ipython",
    "version": 3
   },
   "file_extension": ".py",
   "mimetype": "text/x-python",
   "name": "python",
   "nbconvert_exporter": "python",
   "pygments_lexer": "ipython3",
   "version": "3.11.7"
  }
 },
 "nbformat": 4,
 "nbformat_minor": 5
}
