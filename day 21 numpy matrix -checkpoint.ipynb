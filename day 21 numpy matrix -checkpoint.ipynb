{
 "cells": [
  {
   "cell_type": "code",
   "execution_count": 1,
   "id": "66fb5e0d-be6c-4058-b8ac-036c6c3e992b",
   "metadata": {},
   "outputs": [],
   "source": [
    "# create the matrix in numpy \n",
    "# in numpy, we use the np.array() function to create a matrix.for example\n",
    "import numpy as np"
   ]
  },
  {
   "cell_type": "code",
   "execution_count": 2,
   "id": "d913742d-daae-43c4-b459-5de34cfbb05d",
   "metadata": {},
   "outputs": [
    {
     "name": "stdout",
     "output_type": "stream",
     "text": [
      "2x2 matrix:\n",
      " [[1 3]\n",
      " [5 6]]\n"
     ]
    }
   ],
   "source": [
    "#create a 2x2 matrix\n",
    "matrix1= np.array([[1,3],[5,6]])\n",
    "print('2x2 matrix:\\n',matrix1)"
   ]
  },
  {
   "cell_type": "code",
   "execution_count": 7,
   "id": "5eff4e6c-6265-48e1-8d14-cb3cfdaaf571",
   "metadata": {},
   "outputs": [
    {
     "name": "stdout",
     "output_type": "stream",
     "text": [
      "\n",
      "3x3 matrix:\n",
      " [[2 3 4]\n",
      " [4 5 6]\n",
      " [6 7 8]]\n"
     ]
    }
   ],
   "source": [
    "#create a 3x3 matrix\n",
    "matrix2=np.array([[2,3,4],[4,5,6],[6,7,8]])\n",
    "print('\\n3x3 matrix:\\n',matrix2)"
   ]
  },
  {
   "cell_type": "code",
   "execution_count": 9,
   "id": "ada8480b-1ce1-4f73-b50a-242c4473fed1",
   "metadata": {},
   "outputs": [
    {
     "name": "stdout",
     "output_type": "stream",
     "text": [
      "[[2 3 4]\n",
      " [4 5 6]\n",
      " [6 7 8]]\n",
      "\n",
      "[[23 34 45]\n",
      " [32  4  2]\n",
      " [12  3  7]]\n",
      "\n",
      "sum of a and b\n",
      " [[25 37 49]\n",
      " [36  9  8]\n",
      " [18 10 15]]\n"
     ]
    }
   ],
   "source": [
    "a=np.array([[2,3,4],[4,5,6],[6,7,8]])\n",
    "b=np.array([[23,34,45,],[32,4,2],[12,3,7]])\n",
    "print(a)\n",
    "print()\n",
    "print(b)\n",
    "print('\\nsum of a and b\\n',a+b)"
   ]
  },
  {
   "cell_type": "code",
   "execution_count": 10,
   "id": "250e7f77-b143-49c2-a470-8da0301e105c",
   "metadata": {},
   "outputs": [
    {
     "name": "stdout",
     "output_type": "stream",
     "text": [
      "matrix1 x matrix2:\n",
      " [[  77  313]\n",
      " [ 917 4303]]\n"
     ]
    }
   ],
   "source": [
    "# create two matrices\n",
    "matrix1=np.array([[2,3],[23,45]])\n",
    "matrix2=np.array([[34,56],[3,67]])\n",
    "\n",
    "result=np.dot(matrix1,matrix2)\n",
    "print('matrix1 x matrix2:\\n',result)"
   ]
  },
  {
   "cell_type": "code",
   "execution_count": 11,
   "id": "9e717050-639d-41e9-a4ca-37993d05548b",
   "metadata": {},
   "outputs": [
    {
     "ename": "SyntaxError",
     "evalue": "invalid syntax (2561561355.py, line 2)",
     "output_type": "error",
     "traceback": [
      "\u001b[1;36m  Cell \u001b[1;32mIn[11], line 2\u001b[1;36m\u001b[0m\n\u001b[1;33m    1 3       2 6\u001b[0m\n\u001b[1;37m      ^\u001b[0m\n\u001b[1;31mSyntaxError\u001b[0m\u001b[1;31m:\u001b[0m invalid syntax\n"
     ]
    }
   ],
   "source": [
    "# explaination\n",
    "1 3       2 6     \n",
    "5 7       4 8     "
   ]
  },
  {
   "cell_type": "code",
   "execution_count": 12,
   "id": "9c01386b-6dc2-4b9e-a5de-59b82aef6c33",
   "metadata": {},
   "outputs": [
    {
     "name": "stdout",
     "output_type": "stream",
     "text": [
      "[[1 3]\n",
      " [5 7]]\n",
      "\n",
      "[[1 5]\n",
      " [3 7]]\n"
     ]
    }
   ],
   "source": [
    "# matrix transpose\n",
    "matrix1= np.array([[1,3],[5,7]])\n",
    "print(matrix1)\n",
    "print()\n",
    "#get transpose of matrix1\n",
    "result=np.transpose(matrix1)\n",
    "print(result)"
   ]
  },
  {
   "cell_type": "code",
   "execution_count": 19,
   "id": "13692d05-892f-416d-8b50-deaec630c6de",
   "metadata": {},
   "outputs": [
    {
     "name": "stdout",
     "output_type": "stream",
     "text": [
      "8\n"
     ]
    }
   ],
   "source": [
    "# random number generator\n",
    "random_number=np.random.randint(0,10)\n",
    "print(random_number)\n"
   ]
  },
  {
   "cell_type": "code",
   "execution_count": 21,
   "id": "4b170ea5-b04e-4721-ad9c-2e943e7a921b",
   "metadata": {},
   "outputs": [
    {
     "name": "stdout",
     "output_type": "stream",
     "text": [
      "4\n"
     ]
    }
   ],
   "source": [
    "# we can also import and use the random module like this:\n",
    "from numpy import random\n",
    "random_number=random.randint(0,10)\n",
    "print(random_number)"
   ]
  },
  {
   "cell_type": "code",
   "execution_count": 23,
   "id": "7ab77c57-befc-4d3f-9d3d-e45ea7063e6c",
   "metadata": {},
   "outputs": [
    {
     "name": "stdout",
     "output_type": "stream",
     "text": [
      "0.9530458410815646\n"
     ]
    }
   ],
   "source": [
    "# we can aslo generate a random floating-point number between 0 and one from the we can use the random.rand() function \n",
    "\n",
    "random_number=np.random.rand()\n",
    "print(random_number)"
   ]
  },
  {
   "cell_type": "code",
   "execution_count": 25,
   "id": "9e38fa57-fb8b-41c9-ab2a-f3313c9b9fe0",
   "metadata": {},
   "outputs": [
    {
     "name": "stdout",
     "output_type": "stream",
     "text": [
      "1d random integer array:\n",
      " [2 0 1 0 1 3 3 0 0]\n"
     ]
    }
   ],
   "source": [
    "# generate random array in numpy\n",
    "integer_array=np.random.randint(0,4,9)\n",
    "print('1d random integer array:\\n',integer_array)"
   ]
  },
  {
   "cell_type": "code",
   "execution_count": 26,
   "id": "59aaa62a-fe21-46c1-863a-34bcd7393c8e",
   "metadata": {},
   "outputs": [
    {
     "name": "stdout",
     "output_type": "stream",
     "text": [
      "\n",
      "1d random float array:\n",
      " [0.66251439 0.96177791 0.36270731 0.42980607 0.28927821]\n"
     ]
    }
   ],
   "source": [
    "# generate 1d array of 5 random number between 0 and 1\n",
    "float_array=np.random.rand(5)\n",
    "print('\\n1d random float array:\\n',float_array)"
   ]
  },
  {
   "cell_type": "code",
   "execution_count": 27,
   "id": "c83ce555-19b3-45b5-89d2-d1a3e51e552a",
   "metadata": {},
   "outputs": [
    {
     "name": "stdout",
     "output_type": "stream",
     "text": [
      "\n",
      " random integer array:\n",
      " [[9 5 3 2]\n",
      " [4 3 4 6]\n",
      " [6 8 1 4]]\n"
     ]
    }
   ],
   "source": [
    "#generate 2d array of shape (3,4) with random integer \n",
    "result=np.random.randint(0,10,(3,4))\n",
    "print('\\n random integer array:\\n',result)"
   ]
  },
  {
   "cell_type": "code",
   "execution_count": 32,
   "id": "decd3c78-adf3-4d4a-abbc-5ad2e0b5dd40",
   "metadata": {},
   "outputs": [
    {
     "name": "stdout",
     "output_type": "stream",
     "text": [
      "2\n"
     ]
    }
   ],
   "source": [
    "# create an array of integer from 1 to 5\n",
    "array1=np.array([1,2,3,4,5])\n",
    "random_choice= np.random.choice(array1)\n",
    "print(random_choice)"
   ]
  },
  {
   "cell_type": "code",
   "execution_count": 34,
   "id": "58d02a2c-06b3-4c56-9c18-f16de140797c",
   "metadata": {},
   "outputs": [
    {
     "data": {
      "text/plain": [
       "array([3, 4, 5, 5, 6, 7])"
      ]
     },
     "execution_count": 34,
     "metadata": {},
     "output_type": "execute_result"
    }
   ],
   "source": [
    "# np.hstack\n",
    "x=np.array([3,4,5])\n",
    "y=np.array([5,6,7])\n",
    "np.hstack((x,y))"
   ]
  },
  {
   "cell_type": "code",
   "execution_count": 36,
   "id": "0290d70c-1188-4ba7-9cc2-91aa45255673",
   "metadata": {},
   "outputs": [
    {
     "data": {
      "text/plain": [
       "array([[3, 4],\n",
       "       [4, 5],\n",
       "       [5, 7]])"
      ]
     },
     "execution_count": 36,
     "metadata": {},
     "output_type": "execute_result"
    }
   ],
   "source": [
    "x=np.array([[3],[4],[5]])\n",
    "y=np.array([[4],[5],[7]])\n",
    "np.hstack((x,y))"
   ]
  },
  {
   "cell_type": "code",
   "execution_count": 37,
   "id": "fefbbf58-3aeb-4fd0-a491-2e5ac5da86e6",
   "metadata": {},
   "outputs": [
    {
     "data": {
      "text/plain": [
       "array([[3],\n",
       "       [4],\n",
       "       [5],\n",
       "       [4],\n",
       "       [5],\n",
       "       [7]])"
      ]
     },
     "execution_count": 37,
     "metadata": {},
     "output_type": "execute_result"
    }
   ],
   "source": [
    "#numpy.vstack\n",
    "x=np.array([[3],[4],[5]])\n",
    "y=np.array([[4],[5],[7]])\n",
    "np.vstack((x,y))"
   ]
  },
  {
   "cell_type": "code",
   "execution_count": 38,
   "id": "1cd4f602-feb0-4574-952f-7ad19d0eb436",
   "metadata": {},
   "outputs": [
    {
     "data": {
      "text/plain": [
       "array([[3, 4, 5],\n",
       "       [5, 6, 7]])"
      ]
     },
     "execution_count": 38,
     "metadata": {},
     "output_type": "execute_result"
    }
   ],
   "source": [
    "x=np.array([3,4,5])\n",
    "y=np.array([5,6,7])\n",
    "np.vstack((x,y))"
   ]
  },
  {
   "cell_type": "code",
   "execution_count": null,
   "id": "4651cdfb-a3c2-4633-b230-f6acd46d976c",
   "metadata": {},
   "outputs": [],
   "source": []
  }
 ],
 "metadata": {
  "kernelspec": {
   "display_name": "Python 3 (ipykernel)",
   "language": "python",
   "name": "python3"
  },
  "language_info": {
   "codemirror_mode": {
    "name": "ipython",
    "version": 3
   },
   "file_extension": ".py",
   "mimetype": "text/x-python",
   "name": "python",
   "nbconvert_exporter": "python",
   "pygments_lexer": "ipython3",
   "version": "3.11.7"
  }
 },
 "nbformat": 4,
 "nbformat_minor": 5
}
