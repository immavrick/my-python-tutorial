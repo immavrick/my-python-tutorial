{
 "cells": [
  {
   "cell_type": "code",
   "execution_count": 2,
   "id": "42f28de5-8207-44a0-8058-7298592a3167",
   "metadata": {},
   "outputs": [
    {
     "name": "stdin",
     "output_type": "stream",
     "text": [
      "enter the number 2\n",
      "enter the number 5\n",
      "enter the number 6\n"
     ]
    },
    {
     "name": "stdout",
     "output_type": "stream",
     "text": [
      "c is the greatest\n"
     ]
    }
   ],
   "source": [
    "#nested if\n",
    "a=int(input('enter the number'))\n",
    "b=int(input('enter the number'))\n",
    "c=int(input('enter the number'))\n",
    "if a>b:\n",
    "    if a>c:\n",
    "        print('a is thegreatest')\n",
    "else:\n",
    "    if b>c:\n",
    "        print('b is the greatest')\n",
    "    else:\n",
    "        print('c is the greatest')"
   ]
  },
  {
   "cell_type": "code",
   "execution_count": 6,
   "id": "4966ee9c-61ba-4ed7-80d0-9288f4450f5e",
   "metadata": {},
   "outputs": [
    {
     "name": "stdin",
     "output_type": "stream",
     "text": [
      "enter the number of unit 249\n"
     ]
    },
    {
     "name": "stdout",
     "output_type": "stream",
     "text": [
      "amunt to pay: 990\n"
     ]
    }
   ],
   "source": [
    "amt=0\n",
    "nu=int(input('enter the number of unit'))\n",
    "if nu<=100:\n",
    "       amt=0\n",
    "if nu>100:\n",
    "    amt=(nu-100)*5\n",
    "if nu>200:\n",
    "    amt=500+(nu-200)*10\n",
    "print('amunt to pay:',amt) "
   ]
  },
  {
   "cell_type": "code",
   "execution_count": 7,
   "id": "91c746c2-be4b-4990-a6b2-29c2819f13ef",
   "metadata": {},
   "outputs": [
    {
     "name": "stdout",
     "output_type": "stream",
     "text": [
      "enter the number\n"
     ]
    },
    {
     "name": "stdin",
     "output_type": "stream",
     "text": [
      " 29\n"
     ]
    },
    {
     "name": "stdout",
     "output_type": "stream",
     "text": [
      "29\n"
     ]
    }
   ],
   "source": [
    "print('enter the number')\n",
    "number =int(input())\n",
    "if number<0:\n",
    "    print(number*-1)\n",
    "else:\n",
    "    print(number)\n",
    "    "
   ]
  },
  {
   "cell_type": "code",
   "execution_count": 8,
   "id": "79d76237-1975-4e52-ba5e-ed645285c9d0",
   "metadata": {},
   "outputs": [
    {
     "name": "stdin",
     "output_type": "stream",
     "text": [
      "enter the number -89\n"
     ]
    },
    {
     "name": "stdout",
     "output_type": "stream",
     "text": [
      "89\n"
     ]
    }
   ],
   "source": [
    "n=int(input(\"enter the number\"))\n",
    "r=abs(n)\n",
    "print(r)"
   ]
  },
  {
   "cell_type": "code",
   "execution_count": 11,
   "id": "c86f9deb-9d23-447a-93da-935be173aec0",
   "metadata": {},
   "outputs": [
    {
     "name": "stdout",
     "output_type": "stream",
     "text": [
      "enter length\n"
     ]
    },
    {
     "name": "stdin",
     "output_type": "stream",
     "text": [
      "length 20\n"
     ]
    },
    {
     "name": "stdout",
     "output_type": "stream",
     "text": [
      "enter breadth\n"
     ]
    },
    {
     "name": "stdin",
     "output_type": "stream",
     "text": [
      "enter breadth 20\n"
     ]
    },
    {
     "name": "stdout",
     "output_type": "stream",
     "text": [
      "yes its a square\n",
      "the area of square is 400\n"
     ]
    }
   ],
   "source": [
    "print('enter length')\n",
    "length=int(input('length'))\n",
    "print('enter breadth')\n",
    "breadth=int(input('enter breadth'))\n",
    "if length==breadth:\n",
    "    print('yes its a square')\n",
    "    print('the area of square is',length**2)\n",
    "else:\n",
    "    print('no,its a rectangle')\n",
    "    print('the area of reactangle is ',length*breadth)"
   ]
  },
  {
   "cell_type": "code",
   "execution_count": 16,
   "id": "a33b2788-4778-47e9-8913-8de19caddad7",
   "metadata": {},
   "outputs": [
    {
     "name": "stdout",
     "output_type": "stream",
     "text": [
      "number of class held\n"
     ]
    },
    {
     "name": "stdin",
     "output_type": "stream",
     "text": [
      " 100\n"
     ]
    },
    {
     "name": "stdout",
     "output_type": "stream",
     "text": [
      "number of calsse attendence\n"
     ]
    },
    {
     "name": "stdin",
     "output_type": "stream",
     "text": [
      " 38\n"
     ]
    },
    {
     "name": "stdout",
     "output_type": "stream",
     "text": [
      "attendence is 38.0\n",
      "not allowed\n"
     ]
    }
   ],
   "source": [
    "print('number of class held')\n",
    "noh=int(input())\n",
    "print('number of calsse attendence')\n",
    "noa=int(input())\n",
    "attend=(noa/noh)*100\n",
    "print(\"attendence is\",attend)\n",
    "if attend>=75:\n",
    "    print('you are allowed')\n",
    "else:\n",
    "    print('not allowed')"
   ]
  },
  {
   "cell_type": "code",
   "execution_count": 18,
   "id": "7b9b8195-554f-47d3-b1e9-25175f44c79b",
   "metadata": {},
   "outputs": [
    {
     "name": "stdout",
     "output_type": "stream",
     "text": [
      "shourya\n",
      "shourya\n",
      "shourya\n",
      "shourya\n",
      "shourya\n",
      "shourya\n",
      "shourya\n",
      "shourya\n",
      "shourya\n",
      "shourya\n"
     ]
    }
   ],
   "source": [
    "i=1\n",
    "while i<=10:\n",
    "    print('shourya')\n",
    "    i=i+1"
   ]
  },
  {
   "cell_type": "code",
   "execution_count": 19,
   "id": "d9d650d4-307f-41d7-9f1c-cade91290127",
   "metadata": {},
   "outputs": [
    {
     "name": "stdout",
     "output_type": "stream",
     "text": [
      "12345678910"
     ]
    }
   ],
   "source": [
    "i=1\n",
    "while i<=10:\n",
    "    print(i,end='')\n",
    "    i=i+1"
   ]
  },
  {
   "cell_type": "code",
   "execution_count": 22,
   "id": "03184ae8-a98e-42a4-959a-c675de635722",
   "metadata": {},
   "outputs": [
    {
     "name": "stdout",
     "output_type": "stream",
     "text": [
      "the sum is 55\n"
     ]
    }
   ],
   "source": [
    "#sum of first 10 natural number\n",
    "i=1\n",
    "s=0\n",
    "while i<=10:\n",
    "    s=s+i\n",
    "    i=i+1\n",
    "print('the sum is',s)"
   ]
  },
  {
   "cell_type": "code",
   "execution_count": 26,
   "id": "1e68296c-ad83-47e2-8f1a-7b17b2bc3e29",
   "metadata": {},
   "outputs": [
    {
     "name": "stdin",
     "output_type": "stream",
     "text": [
      "enter the stop value 200\n"
     ]
    },
    {
     "name": "stdout",
     "output_type": "stream",
     "text": [
      "13579111315171921232527293133353739414345474951535557596163656769717375777981838587899193959799101103105107109111113115117119121123125127129131133135137139141143145147149151153155157159161163165167169171173175177179181183185187189191193195197199"
     ]
    }
   ],
   "source": [
    "#s=s+I\n",
    "#s=0+1=1\n",
    "#s=1+2=3\n",
    "#s=3+3=6\n",
    "\n",
    "#print only even number in our range\n",
    "n=int(input('enter the stop value'))\n",
    "i=1\n",
    "while i<=n:\n",
    "    if i%2==1:\n",
    "        print(i,end='')\n",
    "    i=i+1"
   ]
  },
  {
   "cell_type": "code",
   "execution_count": null,
   "id": "9a3644fc-8542-41ee-992f-c68a713d4ed7",
   "metadata": {},
   "outputs": [
    {
     "name": "stdin",
     "output_type": "stream",
     "text": [
      "enter the stop vale 100\n"
     ]
    }
   ],
   "source": [
    "# sum of even and odd\n",
    "n=int(input('enter the stop vale'))\n",
    "i=1\n",
    "se=0\n",
    "so=0\n",
    "while i<=n:\n",
    "    if i%2==0:\n",
    "        se=se+i\n",
    "else:\n",
    "    so=so+i\n",
    "i=i+1\n",
    "print('yes',se)\n",
    "print('ok',so)"
   ]
  },
  {
   "cell_type": "code",
   "execution_count": null,
   "id": "ce999e7f-ef8b-42a7-920c-2db6f45c5c5e",
   "metadata": {},
   "outputs": [],
   "source": [
    "#table of given number\n",
    "n=int(input('enter the number'))\n",
    "i=1\n",
    "while i<=10:"
   ]
  }
 ],
 "metadata": {
  "kernelspec": {
   "display_name": "Python 3 (ipykernel)",
   "language": "python",
   "name": "python3"
  },
  "language_info": {
   "codemirror_mode": {
    "name": "ipython",
    "version": 3
   },
   "file_extension": ".py",
   "mimetype": "text/x-python",
   "name": "python",
   "nbconvert_exporter": "python",
   "pygments_lexer": "ipython3",
   "version": "3.11.7"
  }
 },
 "nbformat": 4,
 "nbformat_minor": 5
}
