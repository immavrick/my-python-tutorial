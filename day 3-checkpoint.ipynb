{
 "cells": [
  {
   "cell_type": "code",
   "execution_count": 1,
   "id": "bfea8cbf-154d-4473-bd90-8b434b7e5b85",
   "metadata": {},
   "outputs": [
    {
     "name": "stdout",
     "output_type": "stream",
     "text": [
      "True\n",
      "False\n"
     ]
    }
   ],
   "source": [
    "#logical AND\n",
    "print(True and True and True)\n",
    "print(True and True and False)"
   ]
  },
  {
   "cell_type": "code",
   "execution_count": 5,
   "id": "1bddbc11-5454-4413-8290-624efb6c7cf8",
   "metadata": {},
   "outputs": [
    {
     "ename": "SyntaxError",
     "evalue": "invalid syntax. Perhaps you forgot a comma? (441949999.py, line 2)",
     "output_type": "error",
     "traceback": [
      "\u001b[1;36m  Cell \u001b[1;32mIn[5], line 2\u001b[1;36m\u001b[0m\n\u001b[1;33m    print(True not True )\u001b[0m\n\u001b[1;37m          ^\u001b[0m\n\u001b[1;31mSyntaxError\u001b[0m\u001b[1;31m:\u001b[0m invalid syntax. Perhaps you forgot a comma?\n"
     ]
    }
   ],
   "source": [
    "#logical not"
   ]
  },
  {
   "cell_type": "code",
   "execution_count": 6,
   "id": "13cfb558-243b-41a5-8c05-e8d7f577aed4",
   "metadata": {},
   "outputs": [
    {
     "name": "stdin",
     "output_type": "stream",
     "text": [
      "10 10\n"
     ]
    },
    {
     "name": "stdout",
     "output_type": "stream",
     "text": [
      "you waon\n"
     ]
    }
   ],
   "source": [
    "#if condition\n",
    "n=int(input('enter the number'))\n",
    "if n==10:\n",
    "    print('you won')"
   ]
  },
  {
   "cell_type": "code",
   "execution_count": 7,
   "id": "cf408dad-9186-41b1-ac13-55b1feb6a9f8",
   "metadata": {},
   "outputs": [
    {
     "name": "stdin",
     "output_type": "stream",
     "text": [
      "enter the number 7\n"
     ]
    }
   ],
   "source": [
    "n=int(input('enter the number'))\n",
    "if n==10:\n",
    "    print('you won')"
   ]
  },
  {
   "cell_type": "code",
   "execution_count": 9,
   "id": "3b017dc6-c1f7-42c8-8953-7f8f86a158c4",
   "metadata": {},
   "outputs": [
    {
     "name": "stdin",
     "output_type": "stream",
     "text": [
      "enter the number 8\n",
      "enter the number 3\n",
      "enter the number 1\n"
     ]
    },
    {
     "name": "stdout",
     "output_type": "stream",
     "text": [
      "a is greater\n"
     ]
    }
   ],
   "source": [
    "# greater number amoung 3\n",
    "a=int(input('enter the number'))\n",
    "b=int(input('enter the number'))\n",
    "c=int(input('enter the number'))\n",
    "if a>b and a>c:\n",
    "    print('a is greater')\n",
    "if b>a and b>c:\n",
    "          print('b is greater')\n",
    "if c>a and c>b:\n",
    "                print('c is greater')"
   ]
  },
  {
   "cell_type": "code",
   "execution_count": 12,
   "id": "edff7251-18c2-41ce-8f59-34034e7dff80",
   "metadata": {},
   "outputs": [
    {
     "name": "stdin",
     "output_type": "stream",
     "text": [
      "enter the number 8\n"
     ]
    },
    {
     "name": "stdout",
     "output_type": "stream",
     "text": [
      "even number\n"
     ]
    }
   ],
   "source": [
    "# if else condition\n",
    "n=int(input('enter the number'))\n",
    "if n%2==0:\n",
    "    print('even number')\n",
    "else:\n",
    "    print('odd number')\n"
   ]
  },
  {
   "cell_type": "code",
   "execution_count": 21,
   "id": "fd0ce659-69e2-4880-8ac0-919895066cab",
   "metadata": {},
   "outputs": [
    {
     "name": "stdin",
     "output_type": "stream",
     "text": [
      "enter the year 2024\n"
     ]
    },
    {
     "name": "stdout",
     "output_type": "stream",
     "text": [
      "leap year\n"
     ]
    }
   ],
   "source": [
    "year=int(input('enter the year'))\n",
    "if year%4==0:\n",
    "         print('leap year')\n",
    "else:\n",
    "    print('not leap year')\n",
    "            "
   ]
  },
  {
   "cell_type": "code",
   "execution_count": 17,
   "id": "17d774f5-21d8-4ab0-a313-f972e94c4abe",
   "metadata": {},
   "outputs": [
    {
     "name": "stdin",
     "output_type": "stream",
     "text": [
      "enter the age 19\n"
     ]
    },
    {
     "name": "stdout",
     "output_type": "stream",
     "text": [
      "allowed\n"
     ]
    }
   ],
   "source": [
    "age=int(input('enter the age'))\n",
    "if age>=18:\n",
    "        print('allowed')\n",
    "else:\n",
    "        print('not allowed')"
   ]
  },
  {
   "cell_type": "code",
   "execution_count": 27,
   "id": "b1fa364d-52d2-4f07-89f6-5941d184d6f2",
   "metadata": {},
   "outputs": [
    {
     "name": "stdin",
     "output_type": "stream",
     "text": [
      "enter the number -4\n"
     ]
    },
    {
     "name": "stdout",
     "output_type": "stream",
     "text": [
      "negative num\n"
     ]
    }
   ],
   "source": [
    "n=int(input('enter the number'))\n",
    "if n>0:\n",
    "      print('positive num')\n",
    "if n==0:\n",
    "    print('not leap year')\n",
    "if n<0:\n",
    "    print('negative num')\n"
   ]
  },
  {
   "cell_type": "code",
   "execution_count": null,
   "id": "cdaa970c-5a7f-452a-8ceb-571bae97bd66",
   "metadata": {},
   "outputs": [],
   "source": []
  }
 ],
 "metadata": {
  "kernelspec": {
   "display_name": "Python 3 (ipykernel)",
   "language": "python",
   "name": "python3"
  },
  "language_info": {
   "codemirror_mode": {
    "name": "ipython",
    "version": 3
   },
   "file_extension": ".py",
   "mimetype": "text/x-python",
   "name": "python",
   "nbconvert_exporter": "python",
   "pygments_lexer": "ipython3",
   "version": "3.11.7"
  }
 },
 "nbformat": 4,
 "nbformat_minor": 5
}
