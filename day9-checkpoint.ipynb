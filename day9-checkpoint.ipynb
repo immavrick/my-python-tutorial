{
 "cells": [
  {
   "cell_type": "code",
   "execution_count": 4,
   "id": "a26278dd-9b1c-47ba-8979-378a4bbc5467",
   "metadata": {},
   "outputs": [
    {
     "name": "stdin",
     "output_type": "stream",
     "text": [
      "enter the number 1\n",
      "enter the number 2\n",
      "enter the number 3\n",
      "enter the number 4\n",
      "enter the number 5\n",
      "enter the number 6\n",
      "enter the number 7\n",
      "enter the number 4\n",
      "enter the number 6\n",
      "enter the number 4\n"
     ]
    },
    {
     "name": "stdout",
     "output_type": "stream",
     "text": [
      "[1, 2, 3, 4, 5, 6, 7, 4, 6, 4]\n",
      "[2, 4, 6, 4, 6, 4]\n",
      "[1, 3, 5, 7]\n"
     ]
    }
   ],
   "source": [
    "# list method\n",
    "#append\n",
    "ls=[]\n",
    "for i in range(10):\n",
    "    n=int(input('enter the number'))\n",
    "    ls.append(n)\n",
    "print(ls)\n",
    "\n",
    "ls_e=[]\n",
    "ls_o=[]\n",
    "for i in ls:\n",
    "    if i%2==0:\n",
    "         ls_e.append(i)\n",
    "    else:\n",
    "         ls_o.append(i)\n",
    "print(ls_e)\n",
    "print(ls_o)"
   ]
  },
  {
   "cell_type": "code",
   "execution_count": 6,
   "id": "674db729-fb48-461a-bc70-1fb38aa6460c",
   "metadata": {},
   "outputs": [
    {
     "name": "stdin",
     "output_type": "stream",
     "text": [
      "enter the number 3\n",
      "enter the number 4\n",
      "enter the number 5\n",
      "enter the number 2\n",
      "enter the number 3\n",
      "enter the number 44\n",
      "enter the number 2\n",
      "enter the number 444\n",
      "enter the number 3\n",
      "enter the number 555\n"
     ]
    },
    {
     "name": "stdout",
     "output_type": "stream",
     "text": [
      "[3, 4, 5, 2, 3, 44, 2, 444, 3, 555]\n",
      "largest num is 555\n"
     ]
    }
   ],
   "source": [
    "# find the largest number\n",
    "ls=[]\n",
    "for i in range(10):\n",
    "    n=int(input('enter the number'))\n",
    "    ls.append(n)\n",
    "print(ls)\n",
    "big=ls[0]\n",
    "for i in ls:\n",
    "    if i>big:\n",
    "        big=i\n",
    "print('largest num is',big)\n",
    "    "
   ]
  },
  {
   "cell_type": "code",
   "execution_count": 8,
   "id": "80add333-7d9f-463f-9c7d-9415ddb1ea4b",
   "metadata": {},
   "outputs": [
    {
     "name": "stdin",
     "output_type": "stream",
     "text": [
      "enter the number 2\n",
      "enter the number 23\n",
      "enter the number 2314\n",
      "enter the number 23\n",
      "enter the number 234\n",
      "enter the number 25\n",
      "enter the number 6\n",
      "enter the number 634\n",
      "enter the number 2\n",
      "enter the number 523\n"
     ]
    },
    {
     "name": "stdout",
     "output_type": "stream",
     "text": [
      "[2, 23, 2314, 23, 234, 25, 6, 634, 2, 523]\n",
      "largest num is 2\n"
     ]
    }
   ],
   "source": [
    "#smallest elememt\n",
    "ls=[]\n",
    "for i in range(10):\n",
    "    n=int(input('enter the number'))\n",
    "    ls.append(n)\n",
    "print(ls)\n",
    "small=ls[0]\n",
    "for i in ls:\n",
    "    if i<small:\n",
    "        small=i\n",
    "print('largest num is',small)"
   ]
  },
  {
   "cell_type": "code",
   "execution_count": 11,
   "id": "f9350a31-0507-4e97-9c96-c53e2ce87353",
   "metadata": {},
   "outputs": [
    {
     "name": "stdin",
     "output_type": "stream",
     "text": [
      "enter the number 23\n",
      "enter the number 34\n",
      "enter the number 3245\n",
      "enter the number 55\n",
      "enter the number 443\n",
      "enter the number 34\n",
      "enter the number 54\n",
      "enter the number 2234\n",
      "enter the number 453\n",
      "enter the number 435\n"
     ]
    },
    {
     "name": "stdout",
     "output_type": "stream",
     "text": [
      "[23, 34, 3245, 55, 443, 34, 54, 2234, 453, 435]\n",
      "biggest element is 3245\n",
      "smallest elemntis 23\n"
     ]
    }
   ],
   "source": [
    "ls=[]\n",
    "for i in range(10):\n",
    "    n=int(input('enter the number'))\n",
    "    ls.append(n)\n",
    "print(ls)\n",
    "big=ls[0]\n",
    "small=ls[0]\n",
    "for i in ls:\n",
    "    if i>big:\n",
    "        big=i\n",
    "    if i<small:\n",
    "        small=i\n",
    "print('biggest element is', big)\n",
    "print('smallest elemntis', small)"
   ]
  },
  {
   "cell_type": "code",
   "execution_count": 13,
   "id": "649f4852-093e-48c1-b963-212757db184b",
   "metadata": {},
   "outputs": [
    {
     "name": "stdout",
     "output_type": "stream",
     "text": [
      "[21, 23, 45, 56, 67, 78, 89, 21, 45, 32, 23]\n",
      "[21, 23, 45, 56, 67, 78, 89, 32]\n"
     ]
    }
   ],
   "source": [
    "# duplicate number not enter in the list\n",
    "ls=[21,23,45,56,67,78,89,21,45,32,23]\n",
    "ls1=[]\n",
    "for i in ls:\n",
    "    if i not in ls1:\n",
    "        ls1.append(i)\n",
    "print(ls)\n",
    "print(ls1)"
   ]
  },
  {
   "cell_type": "code",
   "execution_count": 15,
   "id": "3f890326-6f90-4d79-897e-eb95f02ce0c4",
   "metadata": {},
   "outputs": [
    {
     "name": "stdout",
     "output_type": "stream",
     "text": [
      "[12, 223, 34, 45, 56, 67]\n",
      "[12, 223, 34, 45, 56, 67, 'deepanshu', 'shourya', 'dev', 'akshat', 'iqbal']\n"
     ]
    }
   ],
   "source": [
    "# extend\n",
    "ls=[12,223,34,45,56,67]\n",
    "print(ls)\n",
    "ls.extend(['deepanshu','shourya','dev','akshat','iqbal'])\n",
    "print(ls)"
   ]
  },
  {
   "cell_type": "code",
   "execution_count": 19,
   "id": "816a9bda-39c4-4034-8b6b-e9bd843995ee",
   "metadata": {},
   "outputs": [
    {
     "name": "stdout",
     "output_type": "stream",
     "text": [
      "[12, 23, 34, 45, 56]\n",
      "[12, 23, 34, ['shourya', 'madrid'], 45, 56]\n"
     ]
    }
   ],
   "source": [
    "#insert\n",
    "ls=[12,23,34,45,56]\n",
    "print(ls)\n",
    "ls.insert(3,['shourya','madrid'])\n",
    "print(ls)"
   ]
  },
  {
   "cell_type": "code",
   "execution_count": 22,
   "id": "1dc06b42-8e7c-4080-8802-e517f5895c57",
   "metadata": {},
   "outputs": [
    {
     "name": "stdout",
     "output_type": "stream",
     "text": [
      "[12, 23, 34, 45, 64, 53, 12, 23]\n",
      "2\n"
     ]
    }
   ],
   "source": [
    "#count\n",
    "ls=[12,23,34,45,64,53,12,23]\n",
    "print(ls)\n",
    "x=ls.count(23)\n",
    "print(x)"
   ]
  },
  {
   "cell_type": "code",
   "execution_count": 24,
   "id": "b7b07dc7-85dc-4eb8-a433-efcde8674bc3",
   "metadata": {},
   "outputs": [
    {
     "name": "stdin",
     "output_type": "stream",
     "text": [
      "emter the no 34\n"
     ]
    },
    {
     "name": "stdout",
     "output_type": "stream",
     "text": [
      "1\n"
     ]
    }
   ],
   "source": [
    "#alternate method\n",
    "ls=[12,12,12,23324,34,45,56,]\n",
    "co=0\n",
    "n=int(input('emter the no'))\n",
    "for i in ls:\n",
    "    if i==n:\n",
    "        co=co+1\n",
    "print(co)\n"
   ]
  },
  {
   "cell_type": "code",
   "execution_count": 26,
   "id": "03ca700f-8fe0-479a-9946-a4272238bd8c",
   "metadata": {},
   "outputs": [
    {
     "name": "stdout",
     "output_type": "stream",
     "text": [
      "1\n"
     ]
    }
   ],
   "source": [
    "#INDEX\n",
    "ls=[12,23,34,45,12,23,12,23,]\n",
    "x=ls.index(23)\n",
    "print(x)"
   ]
  },
  {
   "cell_type": "code",
   "execution_count": 31,
   "id": "2cb6f817-1ca6-460c-9609-2508df6eacbc",
   "metadata": {},
   "outputs": [
    {
     "name": "stdin",
     "output_type": "stream",
     "text": [
      "enderthe nnum 23\n"
     ]
    },
    {
     "name": "stdout",
     "output_type": "stream",
     "text": [
      "23 is foundat 2\n",
      "23 is foundat 3\n",
      "23 is foundat 4\n",
      "23 is foundat 5\n",
      "23 is foundat 6\n",
      "23 is foundat 7\n",
      "23 is foundat 8\n"
     ]
    }
   ],
   "source": [
    "ls=[12,12,23,23,23,23,34,45,56]\n",
    "co=0\n",
    "n=int(input('enderthe nnum'))\n",
    "for i in range(len(ls)):\n",
    "    if n==ls[i]:\n",
    "        co=co+1\n",
    "    if co>0:\n",
    "        print(n,'is foundat',i)\n"
   ]
  },
  {
   "cell_type": "code",
   "execution_count": 32,
   "id": "def04d53-14cd-4e54-8dfa-b649b0959d58",
   "metadata": {},
   "outputs": [
    {
     "name": "stdout",
     "output_type": "stream",
     "text": [
      "[12, 23, 34, 45, 56]\n",
      "[12, 23, 34, 45, 56]\n",
      "[12, 23, 'aryan', 45, 56]\n",
      "[12, 23, 'aryan', 45, 56]\n"
     ]
    }
   ],
   "source": [
    "#COPY METHOD\n",
    "ls=[12,23,34,45,56,]\n",
    "ls1=ls\n",
    "print(ls)\n",
    "print(ls1)\n",
    "ls1[2]='aryan'\n",
    "print(ls)\n",
    "print(ls1)"
   ]
  },
  {
   "cell_type": "code",
   "execution_count": 33,
   "id": "b071fb46-c94e-4046-a079-488cb71839d2",
   "metadata": {},
   "outputs": [
    {
     "name": "stdout",
     "output_type": "stream",
     "text": [
      "[12, 23, 34, 45, 56]\n",
      "[12, 23, 34, 45, 56]\n",
      "[12, 23, 34, 45, 56]\n",
      "[12, 23, 'aryan', 45, 56]\n"
     ]
    }
   ],
   "source": [
    "ls=[12,23,34,45,56,]\n",
    "ls1=ls.copy()\n",
    "print(ls)\n",
    "print(ls1)\n",
    "ls1[2]='aryan'\n",
    "print(ls)\n",
    "print(ls1)"
   ]
  },
  {
   "cell_type": "code",
   "execution_count": 34,
   "id": "182ac7d3-86bd-4615-9185-034c5f8774e8",
   "metadata": {},
   "outputs": [
    {
     "name": "stdout",
     "output_type": "stream",
     "text": [
      "[12, 23, 34, 45]\n",
      "[]\n"
     ]
    }
   ],
   "source": [
    "#clear \n",
    "ls=[12,23,34,45]\n",
    "print(ls)\n",
    "ls.clear()\n",
    "print(ls)"
   ]
  },
  {
   "cell_type": "code",
   "execution_count": 35,
   "id": "279d5896-e2cd-4680-89d6-903a0d33dce2",
   "metadata": {},
   "outputs": [
    {
     "name": "stdout",
     "output_type": "stream",
     "text": [
      "[12, 23, 34, 4556]\n",
      "[4556, 34, 23, 12]\n"
     ]
    }
   ],
   "source": [
    "#reverse\n",
    "ls=[12,23,34,4556,]\n",
    "print(ls)\n",
    "ls.reverse()\n",
    "print(ls)"
   ]
  },
  {
   "cell_type": "code",
   "execution_count": null,
   "id": "47d0116d-90c6-4332-ac49-5d7bab8b7960",
   "metadata": {},
   "outputs": [],
   "source": []
  }
 ],
 "metadata": {
  "kernelspec": {
   "display_name": "Python 3 (ipykernel)",
   "language": "python",
   "name": "python3"
  },
  "language_info": {
   "codemirror_mode": {
    "name": "ipython",
    "version": 3
   },
   "file_extension": ".py",
   "mimetype": "text/x-python",
   "name": "python",
   "nbconvert_exporter": "python",
   "pygments_lexer": "ipython3",
   "version": "3.11.7"
  }
 },
 "nbformat": 4,
 "nbformat_minor": 5
}
