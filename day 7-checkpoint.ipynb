{
 "cells": [
  {
   "cell_type": "code",
   "execution_count": 1,
   "id": "ba3ebeca-50d3-43b8-b2cc-d7c42993b853",
   "metadata": {},
   "outputs": [
    {
     "name": "stdout",
     "output_type": "stream",
     "text": [
      "s\n",
      "h\n",
      "o\n",
      "u\n",
      "r\n",
      "y\n",
      "a\n"
     ]
    }
   ],
   "source": [
    "#for loop\n",
    "\n",
    "s1='shourya'\n",
    "for i in s1:\n",
    "    print(i)"
   ]
  },
  {
   "cell_type": "code",
   "execution_count": 5,
   "id": "b51aca9f-14eb-4b72-a7bc-4a6459ee078a",
   "metadata": {},
   "outputs": [
    {
     "name": "stdout",
     "output_type": "stream",
     "text": [
      "12\n",
      "23\n",
      "34\n",
      "56\n",
      "45\n",
      "76\n"
     ]
    }
   ],
   "source": [
    "name=[12,23,34,56,45,76]   #[]--list\n",
    "for i in name:\n",
    "    print(i)"
   ]
  },
  {
   "cell_type": "code",
   "execution_count": 6,
   "id": "f8e13ca5-62d9-4d4d-8444-ed4aeab7fbf3",
   "metadata": {},
   "outputs": [
    {
     "name": "stdout",
     "output_type": "stream",
     "text": [
      "12\n",
      "33\n",
      "34\n",
      "56\n"
     ]
    }
   ],
   "source": [
    "t1=(12,33,34,56,)  #(0---tuple\n",
    "for i in t1:\n",
    "    print(i)"
   ]
  },
  {
   "cell_type": "code",
   "execution_count": 8,
   "id": "9d360e9a-7c2d-49fb-8b7c-af9b8f42e941",
   "metadata": {},
   "outputs": [
    {
     "name": "stdout",
     "output_type": "stream",
     "text": [
      "0 1 2 3 4 5 6 7 8 9 "
     ]
    }
   ],
   "source": [
    "#range functon\n",
    "# range(10)----    0--9\n",
    "#range(1,10)--- 1--9\n",
    "#range(1,100,3)--- 1 4 7 10---\n",
    "\n",
    "for i in range(10):\n",
    "    print(i,end=' ')"
   ]
  },
  {
   "cell_type": "code",
   "execution_count": 11,
   "id": "99b9f1b3-f20f-4e96-a358-0ab807bfcf11",
   "metadata": {},
   "outputs": [
    {
     "name": "stdout",
     "output_type": "stream",
     "text": [
      "1 2 3 4 5 6 7 8 9 10 "
     ]
    }
   ],
   "source": [
    "for i in range(1,11):\n",
    "    print(i,end=' ')"
   ]
  },
  {
   "cell_type": "code",
   "execution_count": 13,
   "id": "e3dc8bd4-7805-4794-a1e6-66066bc96dc0",
   "metadata": {},
   "outputs": [
    {
     "name": "stdout",
     "output_type": "stream",
     "text": [
      "1 4 7 10 13 16 19 22 25 28 31 34 37 40 43 46 49 52 55 58 61 64 67 70 73 76 79 82 85 88 91 94 97 "
     ]
    }
   ],
   "source": [
    "for i in range(1,100,3):\n",
    "    print(i,end=' ')\n"
   ]
  },
  {
   "cell_type": "code",
   "execution_count": 16,
   "id": "02729eaa-5877-4c6c-b0f4-c48ee5ad6db3",
   "metadata": {},
   "outputs": [
    {
     "name": "stdin",
     "output_type": "stream",
     "text": [
      "enter the stop value 3\n"
     ]
    },
    {
     "name": "stdout",
     "output_type": "stream",
     "text": [
      "sum is  6\n"
     ]
    }
   ],
   "source": [
    "#sum of first n natural number\n",
    "\n",
    "n=int(input('enter the stop value'))\n",
    "s=0\n",
    "for i in range(1,n+1):\n",
    "    s=s+i\n",
    "print('sum is ',s)\n"
   ]
  },
  {
   "cell_type": "code",
   "execution_count": 20,
   "id": "d4c677b3-3031-4c3a-9508-05d867c196cf",
   "metadata": {},
   "outputs": [
    {
     "name": "stdin",
     "output_type": "stream",
     "text": [
      "enter the number 3\n"
     ]
    },
    {
     "name": "stdout",
     "output_type": "stream",
     "text": [
      "3 * 1 = 3\n",
      "3 * 2 = 6\n",
      "3 * 3 = 9\n",
      "3 * 4 = 12\n",
      "3 * 5 = 15\n",
      "3 * 6 = 18\n",
      "3 * 7 = 21\n",
      "3 * 8 = 24\n",
      "3 * 9 = 27\n",
      "3 * 10 = 30\n"
     ]
    }
   ],
   "source": [
    "#table of a given number\n",
    "n=int(input('enter the number'))\n",
    "for i in range(1,11):\n",
    "      print(n,'*',i,'=',n*i)"
   ]
  },
  {
   "cell_type": "code",
   "execution_count": 25,
   "id": "b90ed09c-d1c0-4dd7-80bb-f1d003df976c",
   "metadata": {},
   "outputs": [
    {
     "name": "stdin",
     "output_type": "stream",
     "text": [
      "enter the nmber 64\n"
     ]
    },
    {
     "name": "stdout",
     "output_type": "stream",
     "text": [
      "1 2 4 8 16 32 64 "
     ]
    }
   ],
   "source": [
    "#factors or divisor of a given number\n",
    "n=int(input('enter the nmber'))\n",
    "for i in range(1,n+1):\n",
    "    if n%i==0:\n",
    "        print(i,end=' ')\n"
   ]
  },
  {
   "cell_type": "code",
   "execution_count": 27,
   "id": "a734c750-9a76-451c-a8f9-c18d8b8e56d9",
   "metadata": {},
   "outputs": [
    {
     "name": "stdout",
     "output_type": "stream",
     "text": [
      "bye\n",
      "bye\n",
      "54\n",
      "bye\n",
      "bye\n",
      "34\n"
     ]
    }
   ],
   "source": [
    "\n",
    "a=[1,3,54,3,3,34,]\n",
    "for shourya in a:\n",
    "    if shourya%2==0:\n",
    "        print(shourya)\n",
    "    else:\n",
    "        print('bye')"
   ]
  },
  {
   "cell_type": "code",
   "execution_count": 29,
   "id": "18153709-82cf-49c3-83c8-87343ab1eb7d",
   "metadata": {},
   "outputs": [
    {
     "name": "stdout",
     "output_type": "stream",
     "text": [
      "\n",
      "a\n",
      "aa\n",
      "aaa\n",
      "aaaa\n"
     ]
    }
   ],
   "source": [
    "si='a'\n",
    "for i in range(5):\n",
    "    print(si*i)"
   ]
  },
  {
   "cell_type": "code",
   "execution_count": 33,
   "id": "f5d65bc7-b806-44ca-a5ba-dab1196a11b7",
   "metadata": {},
   "outputs": [
    {
     "name": "stdout",
     "output_type": "stream",
     "text": [
      "i#i#t# #d#e#l#h#i#"
     ]
    }
   ],
   "source": [
    "st='iit delhi'\n",
    "for t in st:\n",
    "    print(t,end='#')"
   ]
  },
  {
   "cell_type": "code",
   "execution_count": 35,
   "id": "ac1da6f8-0794-4667-9391-73f5e6a4418a",
   "metadata": {},
   "outputs": [
    {
     "name": "stdout",
     "output_type": "stream",
     "text": [
      "h\n",
      "l\n",
      "l\n",
      " \n",
      "v\n",
      "r\n",
      "y\n",
      "n\n"
     ]
    }
   ],
   "source": [
    "a='hello everyone'\n",
    "vowel=('a','e','i','o','u')\n",
    "for i in a:\n",
    "    if i not in vowel:\n",
    "        print(i)"
   ]
  },
  {
   "cell_type": "code",
   "execution_count": 37,
   "id": "97ebef33-92c9-4433-a299-e37f7d487a1b",
   "metadata": {},
   "outputs": [
    {
     "name": "stdout",
     "output_type": "stream",
     "text": [
      "data science\n",
      "data science\n",
      "goodone\n",
      "data science\n",
      "goodone\n",
      "data science\n",
      "data science\n",
      "data science\n"
     ]
    }
   ],
   "source": [
    "word='hello1'\n",
    "for w in word:\n",
    "    if w=='l':\n",
    "        print('goodone')\n",
    "    print('data science')"
   ]
  },
  {
   "cell_type": "code",
   "execution_count": 40,
   "id": "8168d327-4930-4334-94d8-8fc87fb10d9a",
   "metadata": {},
   "outputs": [
    {
     "name": "stdout",
     "output_type": "stream",
     "text": [
      "sum of even num 2450\n",
      "sum of odd number 2500\n"
     ]
    }
   ],
   "source": [
    "se=0\n",
    "so=0\n",
    "for i in range(1,100):\n",
    "    if i%2==0:\n",
    "        se=se+i\n",
    "    else:\n",
    "        so=so+i\n",
    "print('sum of even num',se)\n",
    "print('sum of odd number',so)"
   ]
  },
  {
   "cell_type": "code",
   "execution_count": 43,
   "id": "7e9eade9-a615-42fe-90e3-03b5321ac9b0",
   "metadata": {},
   "outputs": [
    {
     "name": "stdin",
     "output_type": "stream",
     "text": [
      "enter teh number 9\n"
     ]
    },
    {
     "data": {
      "text/plain": [
       "362880"
      ]
     },
     "execution_count": 43,
     "metadata": {},
     "output_type": "execute_result"
    }
   ],
   "source": [
    "n=int(input('enter teh number'))\n",
    "f=1\n",
    "for i in range(1,n+1):\n",
    "    f=f*i\n",
    "f\n"
   ]
  },
  {
   "cell_type": "code",
   "execution_count": 45,
   "id": "cbc1956b-9013-43cc-8609-b42e876266be",
   "metadata": {},
   "outputs": [
    {
     "name": "stdout",
     "output_type": "stream",
     "text": [
      "s\n",
      "u\n",
      "a\n",
      "l\n"
     ]
    }
   ],
   "source": [
    "# ---CONTINUE STATEMENTS---\n",
    "\n",
    "s='sural'\n",
    "for i in s:\n",
    "    if i=='r':\n",
    "        continue\n",
    "        print('hello')\n",
    "    else:\n",
    "        print(i)"
   ]
  },
  {
   "cell_type": "code",
   "execution_count": 46,
   "id": "005e23d3-1d0e-45a8-94e1-d7c5ef0cff77",
   "metadata": {},
   "outputs": [
    {
     "name": "stdout",
     "output_type": "stream",
     "text": [
      "s\n",
      "u\n"
     ]
    }
   ],
   "source": [
    "#---break statement--\n",
    "\n",
    "s='suraj'\n",
    "for i in s:\n",
    "    if i=='r':\n",
    "        break\n",
    "    print(i)"
   ]
  },
  {
   "cell_type": "code",
   "execution_count": 49,
   "id": "bd908c65-1788-4556-ae26-8c9e88be2844",
   "metadata": {},
   "outputs": [
    {
     "name": "stdout",
     "output_type": "stream",
     "text": [
      "s\n",
      "t\n",
      "r\n",
      "i\n",
      "n\n",
      "g\n"
     ]
    }
   ],
   "source": [
    "# **pass statement**\n",
    "s='string'\n",
    "for i in s:\n",
    "    if i=='r':\n",
    "        pass\n",
    "    print(i)\n"
   ]
  },
  {
   "cell_type": "code",
   "execution_count": null,
   "id": "fef5ef73-ddc1-40b8-b2b2-d22f79feae38",
   "metadata": {},
   "outputs": [],
   "source": []
  }
 ],
 "metadata": {
  "kernelspec": {
   "display_name": "Python 3 (ipykernel)",
   "language": "python",
   "name": "python3"
  },
  "language_info": {
   "codemirror_mode": {
    "name": "ipython",
    "version": 3
   },
   "file_extension": ".py",
   "mimetype": "text/x-python",
   "name": "python",
   "nbconvert_exporter": "python",
   "pygments_lexer": "ipython3",
   "version": "3.11.7"
  }
 },
 "nbformat": 4,
 "nbformat_minor": 5
}
