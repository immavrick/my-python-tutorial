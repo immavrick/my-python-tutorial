{
 "cells": [
  {
   "cell_type": "code",
   "execution_count": 2,
   "id": "d8f1712f-3e50-4741-8dac-dd686cc76a20",
   "metadata": {},
   "outputs": [
    {
     "name": "stdin",
     "output_type": "stream",
     "text": [
      "enter the number 3\n"
     ]
    },
    {
     "name": "stdout",
     "output_type": "stream",
     "text": [
      "3 * i = 3\n",
      "3 * i = 6\n",
      "3 * i = 9\n",
      "3 * i = 12\n",
      "3 * i = 15\n",
      "3 * i = 18\n",
      "3 * i = 21\n",
      "3 * i = 24\n",
      "3 * i = 27\n",
      "3 * i = 30\n"
     ]
    }
   ],
   "source": [
    "n=int(input('enter the number'))\n",
    "i=1\n",
    "while i<=10:\n",
    "    print(n,'*','i','=',n*i)\n",
    "    i=i+1"
   ]
  },
  {
   "cell_type": "code",
   "execution_count": 5,
   "id": "c4beec2d-77f8-495d-93c9-fbd7e8052b8a",
   "metadata": {},
   "outputs": [
    {
     "name": "stdin",
     "output_type": "stream",
     "text": [
      "enter the number 6\n"
     ]
    },
    {
     "name": "stdout",
     "output_type": "stream",
     "text": [
      "the factorial is  720\n"
     ]
    }
   ],
   "source": [
    "#factorial of given number\n",
    "n=int(input('enter the number'))\n",
    "f=1\n",
    "if n<0:\n",
    "    print('the factorial of -ve number cant be calculated')\n",
    "else:\n",
    "    while n>0:\n",
    "        f=f*n\n",
    "        n=n-1\n",
    "    print('the factorial is ',f)"
   ]
  },
  {
   "cell_type": "code",
   "execution_count": 10,
   "id": "a9dd193f-97df-4ab8-9daa-3b4954f1625d",
   "metadata": {},
   "outputs": [
    {
     "name": "stdin",
     "output_type": "stream",
     "text": [
      "enter the number 7\n"
     ]
    },
    {
     "name": "stdout",
     "output_type": "stream",
     "text": [
      "1 7 "
     ]
    }
   ],
   "source": [
    "#factor or divisor of given number\n",
    "i=1\n",
    "n=int(input('enter the number'))\n",
    "while i<=n:\n",
    "    if n%i==0:\n",
    "        print(i,end=' ')\n",
    "    i=i+1"
   ]
  },
  {
   "cell_type": "code",
   "execution_count": 14,
   "id": "7c195a43-790d-4e02-b778-c85e7f1adc67",
   "metadata": {},
   "outputs": [
    {
     "name": "stdin",
     "output_type": "stream",
     "text": [
      "enter the number 82\n"
     ]
    },
    {
     "name": "stdout",
     "output_type": "stream",
     "text": [
      "82 is a nin prime number\n"
     ]
    }
   ],
   "source": [
    "#check prime number\n",
    "i=1\n",
    "n=int(input('enter the number'))\n",
    "co=0\n",
    "while i<=n:\n",
    "    if n%i==0:\n",
    "        co=co+1\n",
    "    i=i+1\n",
    "if co==2:\n",
    "    print(n,' is a prme number')\n",
    "else:\n",
    "    print(n,'is a nin prime number')"
   ]
  },
  {
   "cell_type": "code",
   "execution_count": 16,
   "id": "6d17f498-e56d-4267-b529-c5b09bb56c87",
   "metadata": {},
   "outputs": [
    {
     "name": "stdin",
     "output_type": "stream",
     "text": [
      "enter the number  1234\n"
     ]
    },
    {
     "name": "stdout",
     "output_type": "stream",
     "text": [
      "the sum of the digit is 10\n"
     ]
    }
   ],
   "source": [
    "#sum of digits of a number\n",
    "sum=0\n",
    "n=int(input('enter the number '))\n",
    "while n>0:\n",
    "    rem=n%10\n",
    "    sum=sum+rem\n",
    "    n=n//10\n",
    "print('the sum of the digit is',sum)"
   ]
  },
  {
   "cell_type": "code",
   "execution_count": 17,
   "id": "a1543adc-3053-4e4b-8507-e1045cc29229",
   "metadata": {},
   "outputs": [
    {
     "ename": "SyntaxError",
     "evalue": "cannot assign to expression (862908195.py, line 4)",
     "output_type": "error",
     "traceback": [
      "\u001b[1;36m  Cell \u001b[1;32mIn[17], line 4\u001b[1;36m\u001b[0m\n\u001b[1;33m    sum=0+6=6\u001b[0m\n\u001b[1;37m        ^\u001b[0m\n\u001b[1;31mSyntaxError\u001b[0m\u001b[1;31m:\u001b[0m cannot assign to expression\n"
     ]
    }
   ],
   "source": [
    "#exicution\n",
    "n=7896\n",
    "rem=6\n",
    "sum=0+6=6\n",
    "n=789\n",
    "\n",
    "rem=9\n",
    "sum=6+9=15\n",
    "n=78\n",
    "\n",
    "rem=8\n",
    "sum=15+8=23\n",
    "n=7\n",
    "\n",
    "rem=7\n",
    "sum=23+7=30\n",
    "n=0\n",
    "# count of the digit\n",
    "co=0\n",
    "n=int(input('enter the number '))\n",
    "while n>0:\n",
    "    rem=n%10\n",
    "    n=n//10\n",
    "print('the sum of the digit is',co)"
   ]
  },
  {
   "cell_type": "code",
   "execution_count": 20,
   "id": "60802768-f1c6-48d7-ae33-5f12d9a78eb5",
   "metadata": {},
   "outputs": [
    {
     "name": "stdin",
     "output_type": "stream",
     "text": [
      "enter the number  38578391932\n"
     ]
    },
    {
     "name": "stdout",
     "output_type": "stream",
     "text": [
      "the count of the digit is 11\n"
     ]
    }
   ],
   "source": [
    "co=0\n",
    "n=int(input('enter the number '))\n",
    "while n>0:\n",
    "    rem=n%10\n",
    "    co=co+1\n",
    "    n=n//10\n",
    "print('the count of the digit is',co)"
   ]
  },
  {
   "cell_type": "code",
   "execution_count": 22,
   "id": "36484655-fb45-4e84-a9ea-3fa6df854cc6",
   "metadata": {},
   "outputs": [
    {
     "name": "stdin",
     "output_type": "stream",
     "text": [
      "enter the number 23456\n"
     ]
    },
    {
     "name": "stdout",
     "output_type": "stream",
     "text": [
      "the reverse 65432\n"
     ]
    }
   ],
   "source": [
    "#reverse of a number\n",
    "n=int(input('enter the number'))\n",
    "rev=0\n",
    "while n>0:\n",
    "    rem=n%10\n",
    "    rev=rev*10+rem\n",
    "    n=n//10\n",
    "print('the reverse',rev)"
   ]
  },
  {
   "cell_type": "code",
   "execution_count": null,
   "id": "8fa82191-0d40-46be-b348-8f280b954bb6",
   "metadata": {},
   "outputs": [],
   "source": [
    "#pallendrome number\n",
    "n=int(input('enter the number'))\n",
    "n1=n\n",
    "rev=0\n",
    "while n>0:\n",
    "    rem=n%10\n",
    "    rev=rev*10+rem\n",
    "    n=n//10\n",
    "if rev==n1:\n",
    "    print('pal')\n",
    "else:\n",
    "    print('not pla')"
   ]
  },
  {
   "cell_type": "code",
   "execution_count": 25,
   "id": "cd471411-3b1e-4a8e-8b39-d565597731b9",
   "metadata": {},
   "outputs": [
    {
     "name": "stdin",
     "output_type": "stream",
     "text": [
      "enter the number 153\n"
     ]
    },
    {
     "name": "stdout",
     "output_type": "stream",
     "text": [
      "armstrong no\n"
     ]
    }
   ],
   "source": [
    "#\n",
    "n=int(input('enter the number'))\n",
    "sum=0\n",
    "n1=n\n",
    "while n>0:\n",
    "    rem=n%10\n",
    "    sum=sum+rem**3\n",
    "    n=n//10\n",
    "if sum==n1:\n",
    "    print('armstrong no')\n",
    "else:\n",
    "    print('not arms')"
   ]
  },
  {
   "cell_type": "code",
   "execution_count": 29,
   "id": "0c1d0ca1-9ac7-4628-86d8-80e328baf74b",
   "metadata": {},
   "outputs": [
    {
     "name": "stdin",
     "output_type": "stream",
     "text": [
      "enter the number 1634\n"
     ]
    },
    {
     "name": "stdout",
     "output_type": "stream",
     "text": [
      "not arms\n"
     ]
    }
   ],
   "source": [
    "#\n",
    "n=int(input('enter the number'))\n",
    "n1=n\n",
    "n2=n\n",
    "sum=0\n",
    "while n>0:\n",
    "    rem=n%10\n",
    "    co=co+1\n",
    "    n=n//10\n",
    "while n1>0:\n",
    "    rem=n1%10\n",
    "    sum=sum+pow(rem,co)\n",
    "    n1=n1//10\n",
    "if sum==n2:\n",
    "    print('arms nu')\n",
    "else:\n",
    "    print('not arms')\n",
    "    "
   ]
  },
  {
   "cell_type": "code",
   "execution_count": 32,
   "id": "793dd8a1-d977-47f3-b550-b03660cbecc2",
   "metadata": {},
   "outputs": [
    {
     "name": "stdin",
     "output_type": "stream",
     "text": [
      "enter the number 54748\n"
     ]
    },
    {
     "name": "stdout",
     "output_type": "stream",
     "text": [
      "arms nu\n"
     ]
    }
   ],
   "source": [
    "n=int(input('enter the number'))\n",
    "n1=n\n",
    "n2=n\n",
    "sum=0\n",
    "co=0\n",
    "while n>0:\n",
    "    rem=n%10\n",
    "    co=co+1\n",
    "    n=n//10\n",
    "while n1>0:\n",
    "    rem=n1%10\n",
    "    sum=sum+pow(rem,co)\n",
    "    n1=n1//10\n",
    "if sum==n2:\n",
    "    print('arms nu')\n",
    "else:\n",
    "    print('not arms')\n",
    "    "
   ]
  },
  {
   "cell_type": "code",
   "execution_count": null,
   "id": "5aa9e51f-2630-477d-9359-d145ba4ae433",
   "metadata": {},
   "outputs": [],
   "source": []
  }
 ],
 "metadata": {
  "kernelspec": {
   "display_name": "Python 3 (ipykernel)",
   "language": "python",
   "name": "python3"
  },
  "language_info": {
   "codemirror_mode": {
    "name": "ipython",
    "version": 3
   },
   "file_extension": ".py",
   "mimetype": "text/x-python",
   "name": "python",
   "nbconvert_exporter": "python",
   "pygments_lexer": "ipython3",
   "version": "3.11.7"
  }
 },
 "nbformat": 4,
 "nbformat_minor": 5
}
