{
 "cells": [
  {
   "cell_type": "markdown",
   "id": "57b9f7c1-54a1-4b9d-89b9-b706b7d2355b",
   "metadata": {},
   "source": [
    "# advanced numpy \n"
   ]
  },
  {
   "cell_type": "code",
   "execution_count": 2,
   "id": "ca94e6f4-7d6c-47bd-80d3-fd9bbe0d5700",
   "metadata": {},
   "outputs": [
    {
     "name": "stdout",
     "output_type": "stream",
     "text": [
      "[[1. 0. 0. 0. 0.]\n",
      " [0. 1. 0. 0. 0.]\n",
      " [0. 0. 1. 0. 0.]\n",
      " [0. 0. 0. 1. 0.]\n",
      " [0. 0. 0. 0. 1.]]\n"
     ]
    }
   ],
   "source": [
    "#numpy.eye   IDENTIDY MATRIX\n",
    "import numpy as np\n",
    "a=np.eye(5)\n",
    "print(a)"
   ]
  },
  {
   "cell_type": "code",
   "execution_count": 3,
   "id": "76535433-d0f5-4acc-9037-6238806e55ac",
   "metadata": {},
   "outputs": [
    {
     "name": "stdout",
     "output_type": "stream",
     "text": [
      "[[1. 0. 0.]\n",
      " [0. 1. 0.]\n",
      " [0. 0. 1.]]\n"
     ]
    }
   ],
   "source": [
    "a=np.eye(3,3)\n",
    "print(a)"
   ]
  },
  {
   "cell_type": "code",
   "execution_count": 4,
   "id": "69d8ab3e-b837-4e08-9f21-1d3b88d0e132",
   "metadata": {},
   "outputs": [
    {
     "name": "stdout",
     "output_type": "stream",
     "text": [
      "[[0 0 0]\n",
      " [0 0 0]\n",
      " [0 0 0]]\n",
      "\n",
      "[[1 0 0]\n",
      " [0 1 0]\n",
      " [0 0 1]]\n"
     ]
    }
   ],
   "source": [
    "# without using np.eye\n",
    "a=np.zeros((3,3),dtype=int)\n",
    "print(a)\n",
    "for i in range(3):\n",
    "    for j in range(3):\n",
    "        if i==j:\n",
    "            a[i][j]=1\n",
    "        else:\n",
    "            a[i][j]=0\n",
    "print()\n",
    "print(a)"
   ]
  },
  {
   "cell_type": "code",
   "execution_count": 5,
   "id": "5c5f7202-53e8-4cc5-86b1-fe3851d39393",
   "metadata": {},
   "outputs": [
    {
     "name": "stdout",
     "output_type": "stream",
     "text": [
      "[[ 3  0  0  0  0  0]\n",
      " [ 0  4  0  0  0  0]\n",
      " [ 0  0  5  0  0  0]\n",
      " [ 0  0  0  3  0  0]\n",
      " [ 0  0  0  0 24  0]\n",
      " [ 0  0  0  0  0  5]]\n"
     ]
    }
   ],
   "source": [
    "# numpy.diag\n",
    "x=np.diag([3,4,5,3,24,5])\n",
    "print(x)"
   ]
  },
  {
   "cell_type": "code",
   "execution_count": 9,
   "id": "f1f1ebdb-7dfb-4b5c-bb4d-a16a5bab3fb5",
   "metadata": {},
   "outputs": [
    {
     "name": "stdout",
     "output_type": "stream",
     "text": [
      "[[12 23 45]\n",
      " [11 67 34]\n",
      " [84  1  5]]\n",
      "\n",
      "[12 67  5]\n"
     ]
    }
   ],
   "source": [
    "a=np.array([[12,23,45],[11,67,34],[84,1,5]])\n",
    "print(a)\n",
    "x=np.diag(a)\n",
    "print()\n",
    "print(x)"
   ]
  },
  {
   "cell_type": "markdown",
   "id": "9d6c7607-6c3b-447f-ae9e-01f2d59b7028",
   "metadata": {},
   "source": [
    "# indexinf and slicing - 1D ARRAY"
   ]
  },
  {
   "cell_type": "code",
   "execution_count": 10,
   "id": "9130d51b-872e-4d79-830c-4e412770d20f",
   "metadata": {},
   "outputs": [
    {
     "name": "stdout",
     "output_type": "stream",
     "text": [
      "[1 2 3 4 5]\n"
     ]
    }
   ],
   "source": [
    "a=np.array([1,2,3,4,5])\n",
    "print(a)"
   ]
  },
  {
   "cell_type": "code",
   "execution_count": 11,
   "id": "ae0462dc-2343-44a3-b7f8-86c395459bff",
   "metadata": {},
   "outputs": [
    {
     "data": {
      "text/plain": [
       "array([1, 2, 3, 4, 5])"
      ]
     },
     "execution_count": 11,
     "metadata": {},
     "output_type": "execute_result"
    }
   ],
   "source": [
    "a[:]"
   ]
  },
  {
   "cell_type": "code",
   "execution_count": 12,
   "id": "25c994aa-a354-4354-87bc-6a7a50a65731",
   "metadata": {},
   "outputs": [
    {
     "data": {
      "text/plain": [
       "array([1, 2, 3, 4, 5])"
      ]
     },
     "execution_count": 12,
     "metadata": {},
     "output_type": "execute_result"
    }
   ],
   "source": [
    "a[::]"
   ]
  },
  {
   "cell_type": "code",
   "execution_count": 15,
   "id": "3ebdd388-e1cf-48cd-8f37-0ea3a0af83e9",
   "metadata": {},
   "outputs": [
    {
     "data": {
      "text/plain": [
       "array([3, 4])"
      ]
     },
     "execution_count": 15,
     "metadata": {},
     "output_type": "execute_result"
    }
   ],
   "source": [
    "a[2:4]"
   ]
  },
  {
   "cell_type": "code",
   "execution_count": 16,
   "id": "beb28029-ac69-45df-bcd4-549ec9c547df",
   "metadata": {},
   "outputs": [
    {
     "data": {
      "text/plain": [
       "array([2, 3, 4])"
      ]
     },
     "execution_count": 16,
     "metadata": {},
     "output_type": "execute_result"
    }
   ],
   "source": [
    "a[1:4]"
   ]
  },
  {
   "cell_type": "code",
   "execution_count": 18,
   "id": "2c3d9d34-b981-4f1c-b830-4b0179b65740",
   "metadata": {},
   "outputs": [
    {
     "data": {
      "text/plain": [
       "array([4, 5])"
      ]
     },
     "execution_count": 18,
     "metadata": {},
     "output_type": "execute_result"
    }
   ],
   "source": [
    "a[-2:]"
   ]
  },
  {
   "cell_type": "code",
   "execution_count": 19,
   "id": "99f12e16-456c-4156-af3b-fdc2f0c67e8c",
   "metadata": {},
   "outputs": [
    {
     "data": {
      "text/plain": [
       "array([5])"
      ]
     },
     "execution_count": 19,
     "metadata": {},
     "output_type": "execute_result"
    }
   ],
   "source": [
    "a[-1:]"
   ]
  },
  {
   "cell_type": "code",
   "execution_count": 21,
   "id": "dfc2178e-f57d-4f2c-a902-55ec16cb9439",
   "metadata": {},
   "outputs": [
    {
     "data": {
      "text/plain": [
       "array([4])"
      ]
     },
     "execution_count": 21,
     "metadata": {},
     "output_type": "execute_result"
    }
   ],
   "source": [
    "a[-2:-1]"
   ]
  },
  {
   "cell_type": "code",
   "execution_count": 23,
   "id": "20821f25-6e78-4339-85d4-b46ffed6828a",
   "metadata": {},
   "outputs": [
    {
     "data": {
      "text/plain": [
       "array([1, 2])"
      ]
     },
     "execution_count": 23,
     "metadata": {},
     "output_type": "execute_result"
    }
   ],
   "source": [
    "a[:-3]"
   ]
  },
  {
   "cell_type": "markdown",
   "id": "84a0e724-64fb-467a-9aa8-85f3a9e1c604",
   "metadata": {},
   "source": [
    "# indexing and slicing - 2D ARRAY"
   ]
  },
  {
   "cell_type": "code",
   "execution_count": 25,
   "id": "c1aa1af7-f32e-4937-8597-7971d3511686",
   "metadata": {},
   "outputs": [
    {
     "name": "stdout",
     "output_type": "stream",
     "text": [
      "[[1 2 3 3 5]\n",
      " [3 4 5 1 8]\n",
      " [5 6 7 0 1]\n",
      " [5 3 7 3 7]\n",
      " [4 5 0 8 9]]\n"
     ]
    }
   ],
   "source": [
    "a=np.array([[1,2,3,3,5],[3,4,5,1,8],[5,6,7,0,1],[5,3,7,3,7],[4,5,0,8,9]])\n",
    "print(a)\n",
    "print(a=np"
   ]
  },
  {
   "cell_type": "code",
   "execution_count": 26,
   "id": "2deb3e0b-fe88-47b2-a4da-76d21dd4c19d",
   "metadata": {},
   "outputs": [
    {
     "data": {
      "text/plain": [
       "array([[4, 5, 1],\n",
       "       [6, 7, 0],\n",
       "       [3, 7, 3]])"
      ]
     },
     "execution_count": 26,
     "metadata": {},
     "output_type": "execute_result"
    }
   ],
   "source": [
    "a[1:4,1:4]"
   ]
  },
  {
   "cell_type": "code",
   "execution_count": 27,
   "id": "f4434fd3-8fb9-4e02-8c7d-a35bc4a8ab3a",
   "metadata": {},
   "outputs": [
    {
     "name": "stdout",
     "output_type": "stream",
     "text": [
      "[[12 23 45]\n",
      " [11 67 34]\n",
      " [84  1  5]]\n"
     ]
    },
    {
     "data": {
      "text/plain": [
       "array([[23, 45],\n",
       "       [67, 34]])"
      ]
     },
     "execution_count": 27,
     "metadata": {},
     "output_type": "execute_result"
    }
   ],
   "source": [
    "a=np.array([[12,23,45],[11,67,34],[84,1,5]])\n",
    "print(a)\n",
    "a[:2,1:3]"
   ]
  },
  {
   "cell_type": "code",
   "execution_count": 29,
   "id": "8fbb443a-cb5a-442f-acde-ff5030f561a6",
   "metadata": {},
   "outputs": [
    {
     "data": {
      "text/plain": [
       "array([[12, 23, 45],\n",
       "       [11, 67, 34],\n",
       "       [84,  1,  5]])"
      ]
     },
     "execution_count": 29,
     "metadata": {},
     "output_type": "execute_result"
    }
   ],
   "source": [
    "a[:3,0:4]"
   ]
  },
  {
   "cell_type": "code",
   "execution_count": 30,
   "id": "8b498ebe-7f29-4fb6-bd90-c9b1268d0342",
   "metadata": {},
   "outputs": [
    {
     "data": {
      "text/plain": [
       "array([[5]])"
      ]
     },
     "execution_count": 30,
     "metadata": {},
     "output_type": "execute_result"
    }
   ],
   "source": [
    "a[2:,2:]"
   ]
  },
  {
   "cell_type": "markdown",
   "id": "4dfcfde8-d34d-44b1-b9ec-ed8278417556",
   "metadata": {},
   "source": [
    "# conditional selection"
   ]
  },
  {
   "cell_type": "code",
   "execution_count": 32,
   "id": "3288c25d-76ee-4bd0-b5cc-44192a68f314",
   "metadata": {},
   "outputs": [
    {
     "name": "stdout",
     "output_type": "stream",
     "text": [
      "[ 1  2  3  4  5  6  7  8  9 10 11 12 13 14 15 16 17 18 19 20]\n",
      "\n"
     ]
    },
    {
     "data": {
      "text/plain": [
       "array([False, False, False, False, False, False, False, False, False,\n",
       "       False,  True,  True,  True,  True,  True,  True,  True,  True,\n",
       "        True,  True])"
      ]
     },
     "execution_count": 32,
     "metadata": {},
     "output_type": "execute_result"
    }
   ],
   "source": [
    "a=np.arange(1,21)\n",
    "print(a)\n",
    "print()\n",
    "a>10"
   ]
  },
  {
   "cell_type": "code",
   "execution_count": 33,
   "id": "5470ca1c-78cf-41b9-9970-f47c9c916630",
   "metadata": {},
   "outputs": [
    {
     "name": "stdout",
     "output_type": "stream",
     "text": [
      "[False False False False False False False False False False  True  True\n",
      "  True  True  True  True  True  True  True  True]\n"
     ]
    }
   ],
   "source": [
    "b= a>10\n",
    "print(b)"
   ]
  },
  {
   "cell_type": "code",
   "execution_count": 34,
   "id": "2e594af4-1e65-446d-aeb7-4c19268d4f10",
   "metadata": {},
   "outputs": [
    {
     "data": {
      "text/plain": [
       "array([11, 12, 13, 14, 15, 16, 17, 18, 19, 20])"
      ]
     },
     "execution_count": 34,
     "metadata": {},
     "output_type": "execute_result"
    }
   ],
   "source": [
    "a[a>10]"
   ]
  },
  {
   "cell_type": "code",
   "execution_count": 35,
   "id": "f18647fb-c195-4adc-8635-fbc65f10abae",
   "metadata": {},
   "outputs": [
    {
     "data": {
      "text/plain": [
       "array([1, 2, 3, 4, 5, 6, 7, 8, 9])"
      ]
     },
     "execution_count": 35,
     "metadata": {},
     "output_type": "execute_result"
    }
   ],
   "source": [
    "a[a<10]"
   ]
  },
  {
   "cell_type": "code",
   "execution_count": 36,
   "id": "3d9be9a1-22f4-4fb3-9f82-d2612dbec387",
   "metadata": {},
   "outputs": [
    {
     "data": {
      "text/plain": [
       "array([ 2,  4,  6,  8, 10, 12, 14, 16, 18, 20])"
      ]
     },
     "execution_count": 36,
     "metadata": {},
     "output_type": "execute_result"
    }
   ],
   "source": [
    "a[a%2==0]"
   ]
  },
  {
   "cell_type": "code",
   "execution_count": 37,
   "id": "0ab861d1-ed6b-4e4f-ad50-3160ae5cc401",
   "metadata": {},
   "outputs": [
    {
     "data": {
      "text/plain": [
       "array([ 1,  3,  5,  7,  9, 11, 13, 15, 17, 19])"
      ]
     },
     "execution_count": 37,
     "metadata": {},
     "output_type": "execute_result"
    }
   ],
   "source": [
    "a[a%2!=0]"
   ]
  },
  {
   "cell_type": "code",
   "execution_count": 48,
   "id": "65ce69d1-4a5d-455f-90cd-a6b3d7ad4100",
   "metadata": {},
   "outputs": [
    {
     "data": {
      "text/plain": [
       "array([], dtype=int32)"
      ]
     },
     "execution_count": 48,
     "metadata": {},
     "output_type": "execute_result"
    }
   ],
   "source": [
    "a[a==5]"
   ]
  },
  {
   "cell_type": "code",
   "execution_count": 43,
   "id": "b31306b2-71da-4b74-ab72-57e42f0673c9",
   "metadata": {},
   "outputs": [
    {
     "name": "stdout",
     "output_type": "stream",
     "text": [
      "[ 0  2  0  4  0  6  0  8  0 10  0 12  0 14  0 16  0 18  0 20]\n"
     ]
    }
   ],
   "source": [
    "a[a%2 !=0] =0\n",
    "print(a)"
   ]
  },
  {
   "cell_type": "markdown",
   "id": "626f45f8-8da5-4de4-a68e-d5cee5f729fe",
   "metadata": {},
   "source": [
    "# function in numpy"
   ]
  },
  {
   "cell_type": "code",
   "execution_count": 52,
   "id": "8d964bea-70be-4e29-ac5f-4d0ef41bb5c9",
   "metadata": {},
   "outputs": [
    {
     "name": "stdout",
     "output_type": "stream",
     "text": [
      "[[3 7 4]\n",
      " [1 1 7]\n",
      " [8 3 3]]\n"
     ]
    }
   ],
   "source": [
    "import numpy as np\n",
    "a=np.random.randint(1,10,(3,3))\n",
    "print(a)"
   ]
  },
  {
   "cell_type": "code",
   "execution_count": 53,
   "id": "0247160d-13df-450c-9d9c-f61b3d90b2b1",
   "metadata": {},
   "outputs": [
    {
     "data": {
      "text/plain": [
       "2"
      ]
     },
     "execution_count": 53,
     "metadata": {},
     "output_type": "execute_result"
    }
   ],
   "source": [
    "a.ndim"
   ]
  },
  {
   "cell_type": "code",
   "execution_count": 54,
   "id": "6a6f39c0-70e4-4a00-a18a-c34bc87ce21e",
   "metadata": {},
   "outputs": [
    {
     "data": {
      "text/plain": [
       "(3, 3)"
      ]
     },
     "execution_count": 54,
     "metadata": {},
     "output_type": "execute_result"
    }
   ],
   "source": [
    "a.shape"
   ]
  },
  {
   "cell_type": "code",
   "execution_count": 55,
   "id": "e1c82dcf-17d4-45e0-b4e3-87e50730d2a3",
   "metadata": {},
   "outputs": [
    {
     "data": {
      "text/plain": [
       "37"
      ]
     },
     "execution_count": 55,
     "metadata": {},
     "output_type": "execute_result"
    }
   ],
   "source": [
    "np.sum(a)"
   ]
  },
  {
   "cell_type": "code",
   "execution_count": 56,
   "id": "3f35ec27-d112-4715-ae39-7578b6f97e6d",
   "metadata": {},
   "outputs": [
    {
     "data": {
      "text/plain": [
       "array([12, 11, 14])"
      ]
     },
     "execution_count": 56,
     "metadata": {},
     "output_type": "execute_result"
    }
   ],
   "source": [
    "np.sum(a,axis=0) # coloumn "
   ]
  },
  {
   "cell_type": "code",
   "execution_count": 57,
   "id": "1dfe1710-8750-4a0e-9fd3-cb4911af3353",
   "metadata": {},
   "outputs": [
    {
     "data": {
      "text/plain": [
       "array([14,  9, 14])"
      ]
     },
     "execution_count": 57,
     "metadata": {},
     "output_type": "execute_result"
    }
   ],
   "source": [
    "np.sum(a,axis=1) # row"
   ]
  },
  {
   "cell_type": "code",
   "execution_count": 58,
   "id": "dea46a9b-121c-45d5-a94f-d032285bf059",
   "metadata": {},
   "outputs": [
    {
     "data": {
      "text/plain": [
       "1"
      ]
     },
     "execution_count": 58,
     "metadata": {},
     "output_type": "execute_result"
    }
   ],
   "source": [
    "np.min(a)"
   ]
  },
  {
   "cell_type": "code",
   "execution_count": 59,
   "id": "fd773a0e-c254-45d6-bfa3-b8a2330277c8",
   "metadata": {},
   "outputs": [
    {
     "data": {
      "text/plain": [
       "8"
      ]
     },
     "execution_count": 59,
     "metadata": {},
     "output_type": "execute_result"
    }
   ],
   "source": [
    "np.max(a)"
   ]
  },
  {
   "cell_type": "code",
   "execution_count": 60,
   "id": "20637636-90cf-4c08-a32a-b81be047289f",
   "metadata": {},
   "outputs": [
    {
     "data": {
      "text/plain": [
       "array([1, 1, 3])"
      ]
     },
     "execution_count": 60,
     "metadata": {},
     "output_type": "execute_result"
    }
   ],
   "source": [
    "np.min(a,axis=0)"
   ]
  },
  {
   "cell_type": "code",
   "execution_count": 61,
   "id": "c89cd212-fed6-4e7d-9ae5-b12295be546d",
   "metadata": {},
   "outputs": [
    {
     "data": {
      "text/plain": [
       "array([8, 7, 7])"
      ]
     },
     "execution_count": 61,
     "metadata": {},
     "output_type": "execute_result"
    }
   ],
   "source": [
    "np.max(a,axis=0)"
   ]
  },
  {
   "cell_type": "code",
   "execution_count": 62,
   "id": "dc49e06b-8822-47b0-ad5e-10c8a9ceac85",
   "metadata": {},
   "outputs": [
    {
     "data": {
      "text/plain": [
       "array([3, 1, 3])"
      ]
     },
     "execution_count": 62,
     "metadata": {},
     "output_type": "execute_result"
    }
   ],
   "source": [
    "np.min(a,axis=1)"
   ]
  },
  {
   "cell_type": "code",
   "execution_count": 63,
   "id": "b2df8036-a323-4ff9-b7ea-c5016ac82c7c",
   "metadata": {},
   "outputs": [
    {
     "data": {
      "text/plain": [
       "array([7, 7, 8])"
      ]
     },
     "execution_count": 63,
     "metadata": {},
     "output_type": "execute_result"
    }
   ],
   "source": [
    "np.max(a,axis=1)"
   ]
  },
  {
   "cell_type": "code",
   "execution_count": 64,
   "id": "5504568d-ca33-408b-9ace-27176e01d585",
   "metadata": {},
   "outputs": [],
   "source": [
    "#cumulative sum "
   ]
  },
  {
   "cell_type": "code",
   "execution_count": 65,
   "id": "744f715c-c6fa-4a4d-b899-c8fc19452798",
   "metadata": {},
   "outputs": [
    {
     "data": {
      "text/plain": [
       "array([ 3, 10, 14, 15, 16, 23, 31, 34, 37])"
      ]
     },
     "execution_count": 65,
     "metadata": {},
     "output_type": "execute_result"
    }
   ],
   "source": [
    "np.cumsum(a)"
   ]
  },
  {
   "cell_type": "code",
   "execution_count": 67,
   "id": "f47d35e9-74ed-4f15-878f-1a264f1e19f7",
   "metadata": {},
   "outputs": [
    {
     "data": {
      "text/plain": [
       "array([[ 3,  7,  4],\n",
       "       [ 4,  8, 11],\n",
       "       [12, 11, 14]])"
      ]
     },
     "execution_count": 67,
     "metadata": {},
     "output_type": "execute_result"
    }
   ],
   "source": [
    "np.cumsum(a,axis=0)"
   ]
  },
  {
   "cell_type": "code",
   "execution_count": 69,
   "id": "b43eaa4f-ac86-451a-9ce6-b6c5ac20ce8b",
   "metadata": {},
   "outputs": [
    {
     "data": {
      "text/plain": [
       "array([[ 3, 10, 14],\n",
       "       [ 1,  2,  9],\n",
       "       [ 8, 11, 14]])"
      ]
     },
     "execution_count": 69,
     "metadata": {},
     "output_type": "execute_result"
    }
   ],
   "source": [
    "np.cumsum(a,axis=1)"
   ]
  },
  {
   "cell_type": "code",
   "execution_count": 70,
   "id": "6bd510de-dd19-471c-b33e-b32c974ae37f",
   "metadata": {},
   "outputs": [],
   "source": [
    "from numpy.random import randint as ri"
   ]
  },
  {
   "cell_type": "code",
   "execution_count": 77,
   "id": "724145ce-5a4d-4e74-b642-6b73e6cd2005",
   "metadata": {},
   "outputs": [
    {
     "data": {
      "text/plain": [
       "array([[42, 81,  3, 10, 39, 37],\n",
       "       [ 3, 57,  4, 90, 28, 41],\n",
       "       [17, 61, 53, 98, 53, 16],\n",
       "       [85, 95, 61, 83, 63, 11],\n",
       "       [82, 82, 55, 34, 13, 99]])"
      ]
     },
     "execution_count": 77,
     "metadata": {},
     "output_type": "execute_result"
    }
   ],
   "source": [
    "np.random.seed(675)\n",
    "ri(1,100,(5,6))"
   ]
  },
  {
   "cell_type": "code",
   "execution_count": 80,
   "id": "12db8cd0-b5aa-4598-82f5-d79142e9ba31",
   "metadata": {},
   "outputs": [],
   "source": [
    "np.random.seed(675)\n",
    "m=ri(1,100,25).reshape(5,5)"
   ]
  },
  {
   "cell_type": "code",
   "execution_count": 81,
   "id": "b1aa89b9-4cf8-4722-951f-a0be7eff9d75",
   "metadata": {},
   "outputs": [
    {
     "data": {
      "text/plain": [
       "array([[42, 81,  3, 10, 39],\n",
       "       [37,  3, 57,  4, 90],\n",
       "       [28, 41, 17, 61, 53],\n",
       "       [98, 53, 16, 85, 95],\n",
       "       [61, 83, 63, 11, 82]])"
      ]
     },
     "execution_count": 81,
     "metadata": {},
     "output_type": "execute_result"
    }
   ],
   "source": [
    "m"
   ]
  },
  {
   "cell_type": "code",
   "execution_count": 82,
   "id": "3d70ca03-9326-4655-a20e-e468fb3d46cc",
   "metadata": {},
   "outputs": [
    {
     "data": {
      "text/plain": [
       "array([[ 3, 10, 39, 42, 81],\n",
       "       [ 3,  4, 37, 57, 90],\n",
       "       [17, 28, 41, 53, 61],\n",
       "       [16, 53, 85, 95, 98],\n",
       "       [11, 61, 63, 82, 83]])"
      ]
     },
     "execution_count": 82,
     "metadata": {},
     "output_type": "execute_result"
    }
   ],
   "source": [
    "np.sort(m)"
   ]
  },
  {
   "cell_type": "code",
   "execution_count": 83,
   "id": "a194e2a7-9608-40b8-a183-add443bf2c17",
   "metadata": {},
   "outputs": [
    {
     "data": {
      "text/plain": [
       "array([[28,  3,  3,  4, 39],\n",
       "       [37, 41, 16, 10, 53],\n",
       "       [42, 53, 17, 11, 82],\n",
       "       [61, 81, 57, 61, 90],\n",
       "       [98, 83, 63, 85, 95]])"
      ]
     },
     "execution_count": 83,
     "metadata": {},
     "output_type": "execute_result"
    }
   ],
   "source": [
    "np.sort(m,axis=0)"
   ]
  },
  {
   "cell_type": "code",
   "execution_count": 84,
   "id": "2b0b725d-6662-4b75-9edb-a29c32c92eb2",
   "metadata": {},
   "outputs": [
    {
     "data": {
      "text/plain": [
       "array([[ 3, 10, 39, 42, 81],\n",
       "       [ 3,  4, 37, 57, 90],\n",
       "       [17, 28, 41, 53, 61],\n",
       "       [16, 53, 85, 95, 98],\n",
       "       [11, 61, 63, 82, 83]])"
      ]
     },
     "execution_count": 84,
     "metadata": {},
     "output_type": "execute_result"
    }
   ],
   "source": [
    "np.sort(m,axis=1)"
   ]
  },
  {
   "cell_type": "code",
   "execution_count": 85,
   "id": "369fd1df-bae7-4034-ad79-49a626fb70ce",
   "metadata": {},
   "outputs": [],
   "source": [
    "# argmax is used to find the index of maximum value\n"
   ]
  },
  {
   "cell_type": "code",
   "execution_count": 87,
   "id": "0a396617-1b5c-41ca-9e9b-1aab4b43c60f",
   "metadata": {},
   "outputs": [
    {
     "data": {
      "text/plain": [
       "3"
      ]
     },
     "execution_count": 87,
     "metadata": {},
     "output_type": "execute_result"
    }
   ],
   "source": [
    "ls=[1,2,3,444,5,57]\n",
    "a=np.array(ls)\n",
    "a.argmax()     #reture the index of max element"
   ]
  },
  {
   "cell_type": "code",
   "execution_count": 88,
   "id": "af226ecc-9ca5-41cd-8773-c304e07db0a9",
   "metadata": {},
   "outputs": [
    {
     "data": {
      "text/plain": [
       "array([0, 3, 4, 2, 1], dtype=int64)"
      ]
     },
     "execution_count": 88,
     "metadata": {},
     "output_type": "execute_result"
    }
   ],
   "source": [
    "# argsort\n",
    "ls=[12,3445,56,12,45]\n",
    "a=np.array(ls)\n",
    "a.argsort()"
   ]
  },
  {
   "cell_type": "code",
   "execution_count": 90,
   "id": "879dd66e-a408-4d8f-a010-99f5c3f85bb3",
   "metadata": {},
   "outputs": [
    {
     "data": {
      "text/plain": [
       "array([  12,   12,   45,   56, 3445])"
      ]
     },
     "execution_count": 90,
     "metadata": {},
     "output_type": "execute_result"
    }
   ],
   "source": [
    "ls=[12,3445,56,12,45]\n",
    "a=np.array(ls)\n",
    "a[a.argsort()]"
   ]
  },
  {
   "cell_type": "code",
   "execution_count": null,
   "id": "d69fc8c3-202f-40a5-9bad-191f23729841",
   "metadata": {},
   "outputs": [],
   "source": []
  }
 ],
 "metadata": {
  "kernelspec": {
   "display_name": "Python 3 (ipykernel)",
   "language": "python",
   "name": "python3"
  },
  "language_info": {
   "codemirror_mode": {
    "name": "ipython",
    "version": 3
   },
   "file_extension": ".py",
   "mimetype": "text/x-python",
   "name": "python",
   "nbconvert_exporter": "python",
   "pygments_lexer": "ipython3",
   "version": "3.11.7"
  }
 },
 "nbformat": 4,
 "nbformat_minor": 5
}
