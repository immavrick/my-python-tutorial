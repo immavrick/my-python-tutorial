{
 "cells": [
  {
   "cell_type": "code",
   "execution_count": 1,
   "id": "bc41b49a-8165-4810-99a6-c8f8a1cd4e1f",
   "metadata": {},
   "outputs": [],
   "source": [
    "# zip fnction\n",
    "a = ['jhin','peter']\n",
    "b =['jemmmy','ashwin']\n"
   ]
  },
  {
   "cell_type": "code",
   "execution_count": 2,
   "id": "ac2f8f22-c658-4d16-8592-520cd9c0cf7a",
   "metadata": {},
   "outputs": [
    {
     "data": {
      "text/plain": [
       "[('jhin', 'jemmmy'), ('peter', 'ashwin')]"
      ]
     },
     "execution_count": 2,
     "metadata": {},
     "output_type": "execute_result"
    }
   ],
   "source": [
    "list(zip(a,b))"
   ]
  },
  {
   "cell_type": "code",
   "execution_count": 3,
   "id": "5526a888-f8af-4b71-b815-96c29c19d577",
   "metadata": {},
   "outputs": [],
   "source": [
    "a = 'bhusan'\n",
    "b= 'akhbaihbawij'\n"
   ]
  },
  {
   "cell_type": "code",
   "execution_count": 4,
   "id": "ae5414d6-04f2-4f40-a5a9-b57a93b33f7d",
   "metadata": {},
   "outputs": [
    {
     "data": {
      "text/plain": [
       "[('b', 'a'), ('h', 'k'), ('u', 'h'), ('s', 'b'), ('a', 'a'), ('n', 'i')]"
      ]
     },
     "execution_count": 4,
     "metadata": {},
     "output_type": "execute_result"
    }
   ],
   "source": [
    "list(zip(a,b))"
   ]
  },
  {
   "cell_type": "code",
   "execution_count": 5,
   "id": "85499987-999c-4277-8fb0-b17bd1be50bf",
   "metadata": {},
   "outputs": [
    {
     "data": {
      "text/plain": [
       "{(1, 'one'), (2, 'two'), (3, 'three'), (4, 'four')}"
      ]
     },
     "execution_count": 5,
     "metadata": {},
     "output_type": "execute_result"
    }
   ],
   "source": [
    "number_list=[1,2,3,4,3,4]\n",
    "str_list=['one','two','three','four','three','four']\n",
    "result= zip(number_list,str_list)\n",
    "result_set= set(result)\n",
    "result_set"
   ]
  },
  {
   "cell_type": "code",
   "execution_count": 6,
   "id": "3a960697-abe1-46e4-beb1-c11336e8b879",
   "metadata": {},
   "outputs": [
    {
     "data": {
      "text/plain": [
       "[(1, 'one', 'one'), (2, 'two', 'two')]"
      ]
     },
     "execution_count": 6,
     "metadata": {},
     "output_type": "execute_result"
    }
   ],
   "source": [
    "nmber_list=[1,2,3]\n",
    "str_list=['one','two']\n",
    "number_tuple=('one','two','three','four')\n",
    "result = zip(number_list,number_tuple)\n",
    "list(result)\n",
    "result= zip(number_list,str_list,number_tuple)\n",
    "list(result)"
   ]
  },
  {
   "cell_type": "code",
   "execution_count": 9,
   "id": "70392544-fdbc-4c03-8cc1-a77da67e81c4",
   "metadata": {},
   "outputs": [
    {
     "data": {
      "text/plain": [
       "[('x', 3), ('y', 4), ('z', 5)]"
      ]
     },
     "execution_count": 9,
     "metadata": {},
     "output_type": "execute_result"
    }
   ],
   "source": [
    "coordinate=['x','y','z']\n",
    "value=[3,4,5]\n",
    "result=zip(coordinate,value)\n",
    "result_list=list(result)\n",
    "result_list\n"
   ]
  },
  {
   "cell_type": "code",
   "execution_count": 11,
   "id": "710f8996-f294-4dab-b125-40c044d154a3",
   "metadata": {},
   "outputs": [
    {
     "data": {
      "text/plain": [
       "('x', 'y', 'z')"
      ]
     },
     "execution_count": 11,
     "metadata": {},
     "output_type": "execute_result"
    }
   ],
   "source": [
    "coordinate=['x','y','z']\n",
    "value=[3,4,5]\n",
    "result=zip(coordinate,value)\n",
    "result_list=list(result)\n",
    "result_list\n",
    "c"
   ]
  },
  {
   "cell_type": "code",
   "execution_count": 13,
   "id": "de18d0a3-dd92-4d22-b788-d915b5b0ccaf",
   "metadata": {},
   "outputs": [
    {
     "data": {
      "text/plain": [
       "(3, 4, 5)"
      ]
     },
     "execution_count": 13,
     "metadata": {},
     "output_type": "execute_result"
    }
   ],
   "source": [
    "v"
   ]
  },
  {
   "cell_type": "code",
   "execution_count": 14,
   "id": "287eaed9-63b5-4b88-be00-11a876f99f3b",
   "metadata": {},
   "outputs": [
    {
     "name": "stdout",
     "output_type": "stream",
     "text": [
      "ashwin\n",
      "jyoti\n"
     ]
    }
   ],
   "source": [
    "a=['ashwin','jyoti','ashish']\n",
    "b=[90,70,60]\n",
    "for i,j in zip(a,b):\n",
    "    if j>=70:\n",
    "        print(i)"
   ]
  },
  {
   "cell_type": "code",
   "execution_count": 15,
   "id": "cb9c7e54-3ac8-4262-8b36-702d4344ca78",
   "metadata": {},
   "outputs": [],
   "source": [
    "a=[1,2,3]\n",
    "b=[4,5,6]\n",
    "c=[1,4,5]"
   ]
  },
  {
   "cell_type": "code",
   "execution_count": 17,
   "id": "2a9536f9-a3b2-4063-adc0-ce0ff55d12ef",
   "metadata": {},
   "outputs": [
    {
     "data": {
      "text/plain": [
       "[6, 11, 14]"
      ]
     },
     "execution_count": 17,
     "metadata": {},
     "output_type": "execute_result"
    }
   ],
   "source": [
    "x=list(map(lambda x,y,z:x+y+z,a,b,c))\n",
    "x"
   ]
  },
  {
   "cell_type": "code",
   "execution_count": 19,
   "id": "bf44cd7b-62b6-4e4e-9460-7abf3250fac2",
   "metadata": {},
   "outputs": [],
   "source": [
    "d=[]\n",
    "for i,j,k in zip(a,b,c):\n",
    "    d.append(i+j+k)"
   ]
  },
  {
   "cell_type": "code",
   "execution_count": 20,
   "id": "d98b975f-c0a5-4d4a-9eb6-efef2ad32510",
   "metadata": {},
   "outputs": [
    {
     "data": {
      "text/plain": [
       "[6, 11, 14]"
      ]
     },
     "execution_count": 20,
     "metadata": {},
     "output_type": "execute_result"
    }
   ],
   "source": [
    "d"
   ]
  },
  {
   "cell_type": "markdown",
   "id": "45a294b8-0478-4026-a8e5-553b24807066",
   "metadata": {},
   "source": [
    "# ------list comprihension-------"
   ]
  },
  {
   "cell_type": "code",
   "execution_count": 21,
   "id": "4d7c07cc-f118-4bec-b045-9896194e2c65",
   "metadata": {},
   "outputs": [
    {
     "data": {
      "text/plain": [
       "['ss', 'hh', 'oo', 'uu', 'rr', 'yy', 'aa']"
      ]
     },
     "execution_count": 21,
     "metadata": {},
     "output_type": "execute_result"
    }
   ],
   "source": [
    "a='shourya'\n",
    "w=[i+i for i in a]\n",
    "w"
   ]
  },
  {
   "cell_type": "code",
   "execution_count": 22,
   "id": "ab590514-c0d0-447a-a291-ebabf246a04f",
   "metadata": {},
   "outputs": [
    {
     "data": {
      "text/plain": [
       "[1, 4, 9, 16, 25]"
      ]
     },
     "execution_count": 22,
     "metadata": {},
     "output_type": "execute_result"
    }
   ],
   "source": [
    "A=[i*i for i in [1,2,3,4,5]]\n",
    "A"
   ]
  },
  {
   "cell_type": "code",
   "execution_count": 23,
   "id": "1f9118a3-65cc-4917-a3ca-8ce78e73a8d4",
   "metadata": {},
   "outputs": [
    {
     "data": {
      "text/plain": [
       "[3, 72, 9, 15, 18, 18]"
      ]
     },
     "execution_count": 23,
     "metadata": {},
     "output_type": "execute_result"
    }
   ],
   "source": [
    "x=[i*3 for i in [1,24,3,5,6,6,]]\n",
    "x"
   ]
  },
  {
   "cell_type": "code",
   "execution_count": 27,
   "id": "aa7ddf57-1181-48a2-857b-95d1d13c5d5a",
   "metadata": {},
   "outputs": [
    {
     "data": {
      "text/plain": [
       "[8, 16]"
      ]
     },
     "execution_count": 27,
     "metadata": {},
     "output_type": "execute_result"
    }
   ],
   "source": [
    "y=[i*4 for i in [1,2,3,4,5]if i%2==0]\n",
    "y"
   ]
  },
  {
   "cell_type": "markdown",
   "id": "dfd6dca1-5dc7-4ab2-8587-8440baebd337",
   "metadata": {},
   "source": [
    "num_list= [y for y in range(150) if y%2==0 and y%7==0]\n"
   ]
  },
  {
   "cell_type": "code",
   "execution_count": 29,
   "id": "111f6549-570f-49c1-a45c-8b80750835d9",
   "metadata": {},
   "outputs": [
    {
     "data": {
      "text/plain": [
       "[0, 14, 28, 42, 56, 70, 84, 98, 112, 126, 140]"
      ]
     },
     "execution_count": 29,
     "metadata": {},
     "output_type": "execute_result"
    }
   ],
   "source": [
    "num_list= [y for y in range(150) if y%2==0 and y%7==0]\n",
    "num_list"
   ]
  },
  {
   "cell_type": "code",
   "execution_count": 30,
   "id": "3c0db27b-2a04-47e4-9e88-2892926b0305",
   "metadata": {},
   "outputs": [],
   "source": [
    "obj=[i if i%2==0 else 'good' for i in  range (10)]"
   ]
  },
  {
   "cell_type": "code",
   "execution_count": 31,
   "id": "6df2276f-126d-4b86-be33-a32ff12d4a60",
   "metadata": {},
   "outputs": [
    {
     "data": {
      "text/plain": [
       "[0, 'good', 2, 'good', 4, 'good', 6, 'good', 8, 'good']"
      ]
     },
     "execution_count": 31,
     "metadata": {},
     "output_type": "execute_result"
    }
   ],
   "source": [
    "obj"
   ]
  },
  {
   "cell_type": "markdown",
   "id": "86af6fea-f4a7-4cad-a4b7-6f6430292e7a",
   "metadata": {},
   "source": [
    "# nested for loop in list comrehension\n"
   ]
  },
  {
   "cell_type": "code",
   "execution_count": 33,
   "id": "d4ff9d6e-b079-4955-88b3-84241ec55c49",
   "metadata": {},
   "outputs": [
    {
     "data": {
      "text/plain": [
       "[[0, 0, 0, 0, 0],\n",
       " [0, 1, 2, 3, 4],\n",
       " [0, 2, 4, 6, 8],\n",
       " [0, 3, 6, 9, 12],\n",
       " [0, 4, 8, 12, 16],\n",
       " [0, 5, 10, 15, 20],\n",
       " [0, 6, 12, 18, 24],\n",
       " [0, 7, 14, 21, 28],\n",
       " [0, 8, 16, 24, 32],\n",
       " [0, 9, 18, 27, 36]]"
      ]
     },
     "execution_count": 33,
     "metadata": {},
     "output_type": "execute_result"
    }
   ],
   "source": [
    "[[j*i for j in range(5)]for i in range(10)]"
   ]
  },
  {
   "cell_type": "markdown",
   "id": "4fda91b9-b55a-4c6d-b450-c546ea68d0ac",
   "metadata": {},
   "source": [
    "# numpy\n",
    "\n"
   ]
  },
  {
   "cell_type": "code",
   "execution_count": 34,
   "id": "80f4c69f-be07-45bb-aa7f-1bf149ab8271",
   "metadata": {},
   "outputs": [],
   "source": [
    "import numpy as np"
   ]
  },
  {
   "cell_type": "code",
   "execution_count": 35,
   "id": "766453c4-1cda-4cf6-96ca-739667d9b629",
   "metadata": {},
   "outputs": [],
   "source": [
    "a=[1,2,3,4,5]"
   ]
  },
  {
   "cell_type": "code",
   "execution_count": 36,
   "id": "f6164c1c-0470-4008-a686-64be831b18ef",
   "metadata": {},
   "outputs": [
    {
     "data": {
      "text/plain": [
       "array([1, 2, 3, 4, 5])"
      ]
     },
     "execution_count": 36,
     "metadata": {},
     "output_type": "execute_result"
    }
   ],
   "source": [
    "c=np.array(a)\n",
    "c"
   ]
  },
  {
   "cell_type": "code",
   "execution_count": 37,
   "id": "46c0f99a-49c6-4884-bfff-afd4d8f0ca31",
   "metadata": {},
   "outputs": [
    {
     "data": {
      "text/plain": [
       "array([1, 2, 3, 4, 4, 5, 6])"
      ]
     },
     "execution_count": 37,
     "metadata": {},
     "output_type": "execute_result"
    }
   ],
   "source": [
    "b=np.array([1,2,3,4,4,5,6])\n",
    "b"
   ]
  },
  {
   "cell_type": "code",
   "execution_count": null,
   "id": "9ef13a4b-1a4b-4188-8d17-e50bb766e6a0",
   "metadata": {},
   "outputs": [],
   "source": []
  }
 ],
 "metadata": {
  "kernelspec": {
   "display_name": "Python 3 (ipykernel)",
   "language": "python",
   "name": "python3"
  },
  "language_info": {
   "codemirror_mode": {
    "name": "ipython",
    "version": 3
   },
   "file_extension": ".py",
   "mimetype": "text/x-python",
   "name": "python",
   "nbconvert_exporter": "python",
   "pygments_lexer": "ipython3",
   "version": "3.11.7"
  }
 },
 "nbformat": 4,
 "nbformat_minor": 5
}
