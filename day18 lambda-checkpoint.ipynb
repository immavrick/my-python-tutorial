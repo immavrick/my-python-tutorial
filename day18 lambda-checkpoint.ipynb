{
 "cells": [
  {
   "cell_type": "markdown",
   "id": "72c5c471-7239-4f74-bd12-b5735b5e5a5e",
   "metadata": {},
   "source": [
    "# lambda function\n"
   ]
  },
  {
   "cell_type": "code",
   "execution_count": 1,
   "id": "5c11192a-ab50-46be-875b-faa81ea735a6",
   "metadata": {},
   "outputs": [
    {
     "data": {
      "text/plain": [
       "1010"
      ]
     },
     "execution_count": 1,
     "metadata": {},
     "output_type": "execute_result"
    }
   ],
   "source": [
    "x=lambda a: a+10 #lambda var: expression(annonymous function)\n",
    "x(1000)"
   ]
  },
  {
   "cell_type": "code",
   "execution_count": 2,
   "id": "39a15697-b167-4acc-9525-18f7166caf7b",
   "metadata": {},
   "outputs": [
    {
     "data": {
      "text/plain": [
       "6"
      ]
     },
     "execution_count": 2,
     "metadata": {},
     "output_type": "execute_result"
    }
   ],
   "source": [
    "z=lambda a,b,c:a+b+c\n",
    "z(1,2,3)"
   ]
  },
  {
   "cell_type": "code",
   "execution_count": 3,
   "id": "064b310f-fc58-4e6f-8943-e1117e2bd1e8",
   "metadata": {},
   "outputs": [
    {
     "data": {
      "text/plain": [
       "24"
      ]
     },
     "execution_count": 3,
     "metadata": {},
     "output_type": "execute_result"
    }
   ],
   "source": [
    "a=lambda x: x+2\n",
    "a(22)"
   ]
  },
  {
   "cell_type": "code",
   "execution_count": 5,
   "id": "c17fcf8a-6b1a-489e-bc8e-65a228310ce9",
   "metadata": {},
   "outputs": [
    {
     "data": {
      "text/plain": [
       "820"
      ]
     },
     "execution_count": 5,
     "metadata": {},
     "output_type": "execute_result"
    }
   ],
   "source": [
    "#PEMDAS parenthysis, exponent,multiply,divide,addision,substract\n",
    "ismail=lambda a,b,c: a+b*c \n",
    "ismail(72,22,34)"
   ]
  },
  {
   "cell_type": "markdown",
   "id": "7ac0dd45-56a2-44b2-8f6e-43bfee24b594",
   "metadata": {},
   "source": [
    "# ------ if & else condition with lambda "
   ]
  },
  {
   "cell_type": "code",
   "execution_count": 7,
   "id": "73f75905-f6b1-46f9-b06c-3c9b580e5d8b",
   "metadata": {},
   "outputs": [
    {
     "data": {
      "text/plain": [
       "31"
      ]
     },
     "execution_count": 7,
     "metadata": {},
     "output_type": "execute_result"
    }
   ],
   "source": [
    "a=lambda x:x*2 if x%2==0 else x    # true if false\n",
    "a(31)"
   ]
  },
  {
   "cell_type": "markdown",
   "id": "a25d0cd0-9cf3-4e25-ac3f-f55234c17d6e",
   "metadata": {},
   "source": [
    "#                   map function   \n",
    "syntax \n",
    "      map(fun, iter)\n",
    "\n",
    "prarmeters:-\n",
    "fun: its is a function to which map passes each element of given iterable.\n",
    "iter: it is a iterable which is to be mapped."
   ]
  },
  {
   "cell_type": "code",
   "execution_count": 9,
   "id": "1eaff1f0-2e98-4a4b-a583-c05495cf1e2a",
   "metadata": {},
   "outputs": [
    {
     "data": {
      "text/plain": [
       "[2, 4, 6, 8]"
      ]
     },
     "execution_count": 9,
     "metadata": {},
     "output_type": "execute_result"
    }
   ],
   "source": [
    "number=[1,2,3,4]\n",
    "list(map(lambda x : x+x,number))"
   ]
  },
  {
   "cell_type": "code",
   "execution_count": 10,
   "id": "a1d8fb36-d5b3-4abc-829c-441d47d082ce",
   "metadata": {},
   "outputs": [],
   "source": [
    "def addition(n):\n",
    "    return(n*10)\n"
   ]
  },
  {
   "cell_type": "code",
   "execution_count": 11,
   "id": "edd6a8fe-813c-47bf-9019-42fa75a5c4f6",
   "metadata": {},
   "outputs": [
    {
     "data": {
      "text/plain": [
       "[120, 230, 340, 450]"
      ]
     },
     "execution_count": 11,
     "metadata": {},
     "output_type": "execute_result"
    }
   ],
   "source": [
    "number=[12,23,34,45]\n",
    "result = map(addition,number)\n",
    "list(result)"
   ]
  },
  {
   "cell_type": "code",
   "execution_count": 13,
   "id": "da5a49d0-d175-4d97-b593-b70c0d590e6b",
   "metadata": {},
   "outputs": [
    {
     "data": {
      "text/plain": [
       "[12, 15, 18]"
      ]
     },
     "execution_count": 13,
     "metadata": {},
     "output_type": "execute_result"
    }
   ],
   "source": [
    "number1= [1,2,3]          #important\n",
    "number2=[4,5,6]\n",
    "number3=[7,8,9]\n",
    "result= map(lambda x,y,z :x+y+z, number1, number2, number3)\n",
    "list(result)"
   ]
  },
  {
   "cell_type": "code",
   "execution_count": 15,
   "id": "83de0f57-b5d8-42cc-a9eb-ab6c9b79cf04",
   "metadata": {},
   "outputs": [
    {
     "data": {
      "text/plain": [
       "['ALFRED', 'DEV', 'DEV2']"
      ]
     },
     "execution_count": 15,
     "metadata": {},
     "output_type": "execute_result"
    }
   ],
   "source": [
    "my_pets= ['alfred', 'dev', 'dev2']\n",
    "res= list(map(lambda x:x.upper(),my_pets))\n",
    "res"
   ]
  },
  {
   "cell_type": "code",
   "execution_count": 16,
   "id": "2666bb1b-db90-4264-9f10-c60bf5c015f2",
   "metadata": {},
   "outputs": [
    {
     "data": {
      "text/plain": [
       "[(1, 'axx'), (2, 'byy'), (3, 'czz')]"
      ]
     },
     "execution_count": 16,
     "metadata": {},
     "output_type": "execute_result"
    }
   ],
   "source": [
    "my_string=['a','b','c',]\n",
    "my_number=[1,2,3]\n",
    "my_name=['xx','yy','zz']\n",
    "result=list(map(lambda x,y,z: (y,x+z),my_string,my_number,my_name))\n",
    "list(result)"
   ]
  },
  {
   "cell_type": "markdown",
   "id": "86968a4b-316f-44e4-bef8-1bc37cf78291",
   "metadata": {},
   "source": [
    "#       filter\n",
    " syntax \n",
    "        filter(function,iterable)\n",
    "        filter()method returns an iterator that passed the function checks for each elemenrts it the iterable."
   ]
  },
  {
   "cell_type": "code",
   "execution_count": 17,
   "id": "ffdbc9ea-3786-4063-8f8a-e924a04196dd",
   "metadata": {},
   "outputs": [
    {
     "name": "stdout",
     "output_type": "stream",
     "text": [
      "[2, 4, 6, 8]\n"
     ]
    }
   ],
   "source": [
    "my_list=[1,2,3,4,5,6,8,11]\n",
    "new_list=list(filter(lambda x: x%2==0, my_list))\n",
    "print(new_list)"
   ]
  },
  {
   "cell_type": "code",
   "execution_count": 19,
   "id": "743d49d6-7c9a-48c3-b36f-6cb3ba298b6c",
   "metadata": {},
   "outputs": [
    {
     "name": "stdout",
     "output_type": "stream",
     "text": [
      "[5, 7, 9]\n"
     ]
    }
   ],
   "source": [
    "li=[5,6,4,6,4,2,4,7,8,9]\n",
    "final_list=list(filter(lambda x: x%2!=0,li))\n",
    "print(final_list)"
   ]
  },
  {
   "cell_type": "code",
   "execution_count": 23,
   "id": "82a162f2-f2eb-4463-9fda-887df825700e",
   "metadata": {},
   "outputs": [
    {
     "data": {
      "text/plain": [
       "['madam']"
      ]
     },
     "execution_count": 23,
     "metadata": {},
     "output_type": "execute_result"
    }
   ],
   "source": [
    "# __________________________filter with lambda_________________________\n",
    "drone=('demigod','rewire','madam','freer','antuforjack')\n",
    "plaindromes=list(filter(lambda a : a == a[::-1],drone))\n",
    "plaindromes"
   ]
  },
  {
   "cell_type": "code",
   "execution_count": 27,
   "id": "2a56ae50-e3bb-45d2-ab66-5562b692c7e4",
   "metadata": {},
   "outputs": [
    {
     "data": {
      "text/plain": [
       "[1, 'a', True, '0']"
      ]
     },
     "execution_count": 27,
     "metadata": {},
     "output_type": "execute_result"
    }
   ],
   "source": [
    "randomlist=[1,'a',0,False,True,\"0\"]\n",
    "filterlist=filter(None,randomlist)\n",
    "list(filterlist)"
   ]
  },
  {
   "cell_type": "code",
   "execution_count": 28,
   "id": "dd88384b-50ab-4087-9b03-3f233616d06f",
   "metadata": {},
   "outputs": [
    {
     "data": {
      "text/plain": [
       "[455, 666, 77, 73, 33]"
      ]
     },
     "execution_count": 28,
     "metadata": {},
     "output_type": "execute_result"
    }
   ],
   "source": [
    "scores=[3,4,455,6,666,7,77,73,33,3]\n",
    "def is_student(score):\n",
    "    return score>30\n",
    "over_30=list(filter(is_student,scores))\n",
    "over_30"
   ]
  },
  {
   "cell_type": "code",
   "execution_count": 29,
   "id": "0ebe7513-2665-48eb-8028-cb69de0939ef",
   "metadata": {},
   "outputs": [
    {
     "ename": "NameError",
     "evalue": "name 'd' is not defined",
     "output_type": "error",
     "traceback": [
      "\u001b[1;31m---------------------------------------------------------------------------\u001b[0m",
      "\u001b[1;31mNameError\u001b[0m                                 Traceback (most recent call last)",
      "Cell \u001b[1;32mIn[29], line 1\u001b[0m\n\u001b[1;32m----> 1\u001b[0m d\n",
      "\u001b[1;31mNameError\u001b[0m: name 'd' is not defined"
     ]
    }
   ],
   "source": [
    "\n",
    "\n",
    "\n",
    "\n",
    "\n",
    "\n",
    "d"
   ]
  },
  {
   "cell_type": "code",
   "execution_count": null,
   "id": "32619f59-2b6b-4562-95e9-b0e1e1d48bec",
   "metadata": {},
   "outputs": [],
   "source": []
  },
  {
   "cell_type": "code",
   "execution_count": null,
   "id": "f9b50131-0c31-4773-9a60-812f8d2dbe8c",
   "metadata": {},
   "outputs": [],
   "source": []
  },
  {
   "cell_type": "code",
   "execution_count": 30,
   "id": "070e5736-3afc-4d57-8d3f-0abc40d82cda",
   "metadata": {},
   "outputs": [
    {
     "data": {
      "text/plain": [
       "[(0, 'p'), (1, 'y'), (2, 't'), (3, 'h'), (4, 'o'), (5, 'd')]"
      ]
     },
     "execution_count": 30,
     "metadata": {},
     "output_type": "execute_result"
    }
   ],
   "source": [
    "s1='pythod'\n",
    "list(enumerate(s1))"
   ]
  },
  {
   "cell_type": "code",
   "execution_count": 32,
   "id": "c3c99662-5f16-46bb-95f5-ccbdf96dbfa7",
   "metadata": {},
   "outputs": [
    {
     "data": {
      "text/plain": [
       "[(5, 'dl'), (6, 'ml'), (7, 'kl')]"
      ]
     },
     "execution_count": 32,
     "metadata": {},
     "output_type": "execute_result"
    }
   ],
   "source": [
    "l1=['dl','ml','kl']\n",
    "list(enumerate(l1,5))"
   ]
  },
  {
   "cell_type": "code",
   "execution_count": 33,
   "id": "a86ee140-6e09-4d7e-be18-c919800319f1",
   "metadata": {},
   "outputs": [
    {
     "name": "stdout",
     "output_type": "stream",
     "text": [
      "dl 0\n",
      "ml 1\n"
     ]
    }
   ],
   "source": [
    "l1=['dl','ml','kl']\n",
    "list(enumerate(l1,5))\n",
    "for i,j in enumerate(l1):\n",
    "    if i<2:\n",
    "        print(j,i)"
   ]
  },
  {
   "cell_type": "code",
   "execution_count": null,
   "id": "0c5bf21f-00a8-462c-aecc-05fa57712b25",
   "metadata": {},
   "outputs": [],
   "source": []
  }
 ],
 "metadata": {
  "kernelspec": {
   "display_name": "Python 3 (ipykernel)",
   "language": "python",
   "name": "python3"
  },
  "language_info": {
   "codemirror_mode": {
    "name": "ipython",
    "version": 3
   },
   "file_extension": ".py",
   "mimetype": "text/x-python",
   "name": "python",
   "nbconvert_exporter": "python",
   "pygments_lexer": "ipython3",
   "version": "3.11.7"
  }
 },
 "nbformat": 4,
 "nbformat_minor": 5
}
