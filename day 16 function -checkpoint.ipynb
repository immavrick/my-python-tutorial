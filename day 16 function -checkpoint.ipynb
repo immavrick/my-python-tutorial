{
 "cells": [
  {
   "cell_type": "markdown",
   "id": "cb085394-d0cb-4143-a66a-db86ff22bc44",
   "metadata": {},
   "source": [
    "# function \n"
   ]
  },
  {
   "cell_type": "code",
   "execution_count": 2,
   "id": "f02cf836-b4a3-421e-a3d6-ef80283c41e4",
   "metadata": {},
   "outputs": [],
   "source": [
    "def addition():\n",
    "    a=int(input('enter the number'))\n",
    "    b=int(input('enter the number'))\n",
    "    c=a+b\n",
    "    print('the sum is',c)\n",
    "    "
   ]
  },
  {
   "cell_type": "code",
   "execution_count": 3,
   "id": "ee1bb1e6-f74c-4a2e-9add-3edad3ea98ba",
   "metadata": {},
   "outputs": [
    {
     "name": "stdin",
     "output_type": "stream",
     "text": [
      "enter the number 2\n",
      "enter the number 4\n"
     ]
    },
    {
     "name": "stdout",
     "output_type": "stream",
     "text": [
      "the sum is 6\n"
     ]
    }
   ],
   "source": [
    "addition()"
   ]
  },
  {
   "cell_type": "code",
   "execution_count": 4,
   "id": "b435181f-57ea-4be1-b240-0ed29a1be013",
   "metadata": {},
   "outputs": [
    {
     "name": "stdin",
     "output_type": "stream",
     "text": [
      "enter the number 4\n",
      "enter the number 7\n"
     ]
    },
    {
     "name": "stdout",
     "output_type": "stream",
     "text": [
      "the sum is 11\n"
     ]
    }
   ],
   "source": [
    "addition()"
   ]
  },
  {
   "cell_type": "code",
   "execution_count": 5,
   "id": "007f7aa3-ac62-435d-bc28-e480bf2eb382",
   "metadata": {},
   "outputs": [],
   "source": [
    "def check():\n",
    "    n=int(input('enter the number'))\n",
    "    if n%2==0:\n",
    "        print('even number')\n",
    "    else:\n",
    "        print('odd number')\n",
    "        "
   ]
  },
  {
   "cell_type": "code",
   "execution_count": 6,
   "id": "b4b002c4-1d5b-4cbf-97bb-441a90514653",
   "metadata": {},
   "outputs": [
    {
     "name": "stdin",
     "output_type": "stream",
     "text": [
      "enter the number 2\n"
     ]
    },
    {
     "name": "stdout",
     "output_type": "stream",
     "text": [
      "even number\n"
     ]
    }
   ],
   "source": [
    "check()"
   ]
  },
  {
   "cell_type": "code",
   "execution_count": 7,
   "id": "7c589f72-83b3-4474-ba02-b85f863f6f0c",
   "metadata": {},
   "outputs": [
    {
     "name": "stdin",
     "output_type": "stream",
     "text": [
      "enter the number 5\n"
     ]
    },
    {
     "name": "stdout",
     "output_type": "stream",
     "text": [
      "odd number\n"
     ]
    }
   ],
   "source": [
    "check()"
   ]
  },
  {
   "cell_type": "code",
   "execution_count": 8,
   "id": "3a5fde1b-5abe-4a11-9afa-65622b1d3d6e",
   "metadata": {},
   "outputs": [
    {
     "name": "stdout",
     "output_type": "stream",
     "text": [
      "120\n"
     ]
    }
   ],
   "source": [
    "import math\n",
    "x=math.factorial(5)\n",
    "print(x)"
   ]
  },
  {
   "cell_type": "code",
   "execution_count": 9,
   "id": "cb459e72-6774-436c-b465-93ecb54701b1",
   "metadata": {},
   "outputs": [],
   "source": [
    "def fact():\n",
    "    n=int(input('enter the number'))\n",
    "    f=1\n",
    "    while n>0:\n",
    "        f=f*n\n",
    "        n=n-1\n",
    "    print('factorial is ',f)\n",
    "    \n",
    "    "
   ]
  },
  {
   "cell_type": "code",
   "execution_count": 10,
   "id": "a927e945-c7b2-47a1-bd72-04b423281bc7",
   "metadata": {},
   "outputs": [
    {
     "name": "stdin",
     "output_type": "stream",
     "text": [
      "enter the number 3\n"
     ]
    },
    {
     "name": "stdout",
     "output_type": "stream",
     "text": [
      "factorial is  6\n"
     ]
    }
   ],
   "source": [
    "fact()"
   ]
  },
  {
   "cell_type": "code",
   "execution_count": 11,
   "id": "1388fa06-bf57-469e-941c-581b21b3e17b",
   "metadata": {},
   "outputs": [
    {
     "name": "stdin",
     "output_type": "stream",
     "text": [
      "enter the number 5\n"
     ]
    },
    {
     "name": "stdout",
     "output_type": "stream",
     "text": [
      "factorial is  120\n"
     ]
    }
   ],
   "source": [
    "fact()"
   ]
  },
  {
   "cell_type": "code",
   "execution_count": 12,
   "id": "3cf2a99b-e2df-4d58-982e-32cfa624a9e0",
   "metadata": {},
   "outputs": [],
   "source": [
    "def reverse():\n",
    "    n=int(input('enter the number'))\n",
    "    rev=0\n",
    "    while n>0:\n",
    "        rem=n%10\n",
    "        rev=rev*10+rem\n",
    "        n=n//10\n",
    "    print('the reverse is',rev)\n"
   ]
  },
  {
   "cell_type": "code",
   "execution_count": 13,
   "id": "5d29ca89-b9d8-4565-b606-de87b2e38955",
   "metadata": {},
   "outputs": [
    {
     "name": "stdin",
     "output_type": "stream",
     "text": [
      "enter the number 4\n"
     ]
    },
    {
     "name": "stdout",
     "output_type": "stream",
     "text": [
      "the reverse is 4\n"
     ]
    }
   ],
   "source": [
    "reverse()"
   ]
  },
  {
   "cell_type": "code",
   "execution_count": 15,
   "id": "856a3d13-d8ae-4ccf-bcc9-8e33be2e9d41",
   "metadata": {},
   "outputs": [
    {
     "name": "stdin",
     "output_type": "stream",
     "text": [
      "enter the number 6788\n"
     ]
    },
    {
     "name": "stdout",
     "output_type": "stream",
     "text": [
      "the reverse is 8876\n"
     ]
    }
   ],
   "source": [
    "reverse()"
   ]
  },
  {
   "cell_type": "code",
   "execution_count": 17,
   "id": "0a553244-8b61-4d92-8523-79c65fd497f1",
   "metadata": {},
   "outputs": [],
   "source": [
    "def creat():\n",
    "    ls=[]\n",
    "    for i in range(10):\n",
    "        n=int(input('enter the number'))\n",
    "        ls.append(n)\n",
    "    print(ls)"
   ]
  },
  {
   "cell_type": "markdown",
   "id": "234f2f9f-1d76-4f6c-b1a5-1aeeae1d0138",
   "metadata": {},
   "source": [
    "creat()"
   ]
  },
  {
   "cell_type": "markdown",
   "id": "ae69216e-e5e8-4db6-9612-8a4e353dd6a8",
   "metadata": {},
   "source": [
    "# argument function\n",
    "\n",
    "def function_name(arg1,arg2,arg3...):\n",
    "     logic/computation \n",
    "\n",
    "function_name(agr1,arg2,arg3...)"
   ]
  },
  {
   "cell_type": "code",
   "execution_count": 20,
   "id": "a40fd03a-2315-4c9b-8a82-79919ff4fb75",
   "metadata": {},
   "outputs": [],
   "source": [
    "def addition(a,b):\n",
    "    c=a+b\n",
    "    print('the sum is',c)"
   ]
  },
  {
   "cell_type": "code",
   "execution_count": 21,
   "id": "3ca06dce-9ac6-438c-9dce-2a359677b172",
   "metadata": {},
   "outputs": [
    {
     "name": "stdout",
     "output_type": "stream",
     "text": [
      "the sum is 101\n"
     ]
    }
   ],
   "source": [
    "addition(56,45)"
   ]
  },
  {
   "cell_type": "code",
   "execution_count": 23,
   "id": "ade410fe-d497-4f80-8f27-c64d2d2a6c32",
   "metadata": {},
   "outputs": [
    {
     "name": "stdin",
     "output_type": "stream",
     "text": [
      " 2\n",
      " 4\n"
     ]
    },
    {
     "name": "stdout",
     "output_type": "stream",
     "text": [
      "the sum is 6\n"
     ]
    }
   ],
   "source": [
    "x=int(input())\n",
    "y=int(input())\n",
    "addition(x,y)"
   ]
  },
  {
   "cell_type": "code",
   "execution_count": 24,
   "id": "3527bd17-e829-4eef-be1e-a419c39a0251",
   "metadata": {},
   "outputs": [],
   "source": [
    "def leap_year(n):\n",
    "    if n%4==0:\n",
    "        print('leap year')\n",
    "    else:\n",
    "        print('not a leap year')\n",
    "    "
   ]
  },
  {
   "cell_type": "code",
   "execution_count": 25,
   "id": "401fb832-93ec-4901-becb-024c7fd6ca9e",
   "metadata": {},
   "outputs": [
    {
     "name": "stdout",
     "output_type": "stream",
     "text": [
      "leap year\n"
     ]
    }
   ],
   "source": [
    "leap_year(2024)"
   ]
  },
  {
   "cell_type": "code",
   "execution_count": 26,
   "id": "57d08f94-fdc9-4d86-bc09-64c5d53f737b",
   "metadata": {},
   "outputs": [
    {
     "name": "stdin",
     "output_type": "stream",
     "text": [
      " 2012\n"
     ]
    },
    {
     "name": "stdout",
     "output_type": "stream",
     "text": [
      "leap year\n"
     ]
    }
   ],
   "source": [
    "y=int(input())\n",
    "leap_year(y)"
   ]
  },
  {
   "cell_type": "code",
   "execution_count": 27,
   "id": "623161f4-7c89-4ccd-87fa-29788be4f97d",
   "metadata": {},
   "outputs": [],
   "source": [
    "def fact(n):\n",
    "    f=1\n",
    "    while n>0:\n",
    "        f=f*n\n",
    "        n=n-1\n",
    "    print('the factorial is',f)\n",
    "    "
   ]
  },
  {
   "cell_type": "code",
   "execution_count": 28,
   "id": "1a52d6bc-8460-45fa-bae3-bc4e9818a1fa",
   "metadata": {},
   "outputs": [
    {
     "name": "stdout",
     "output_type": "stream",
     "text": [
      "the factorial is 6\n"
     ]
    }
   ],
   "source": [
    "fact(3)"
   ]
  },
  {
   "cell_type": "code",
   "execution_count": 29,
   "id": "330666c6-9a39-4eda-9d5a-9e263501ef3e",
   "metadata": {},
   "outputs": [
    {
     "name": "stdout",
     "output_type": "stream",
     "text": [
      "the factorial is 265252859812191058636308480000000\n"
     ]
    }
   ],
   "source": [
    "fact(30)"
   ]
  },
  {
   "cell_type": "code",
   "execution_count": 32,
   "id": "14c8a422-f225-464d-a717-90f935e53518",
   "metadata": {},
   "outputs": [],
   "source": [
    "def reverse(n):\n",
    "    rev=0\n",
    "    while n>0:\n",
    "        rem=n%10\n",
    "        rev=rev*10+rem\n",
    "        n=n//10\n",
    "    print('the reverse is ',rev)"
   ]
  },
  {
   "cell_type": "code",
   "execution_count": 33,
   "id": "1f1ac4ac-7d99-4e66-a88d-a54377207ee5",
   "metadata": {},
   "outputs": [
    {
     "name": "stdout",
     "output_type": "stream",
     "text": [
      "the reverse is  4321\n"
     ]
    }
   ],
   "source": [
    "reverse(1234)"
   ]
  },
  {
   "cell_type": "code",
   "execution_count": 36,
   "id": "29e50f75-4660-4156-9a5c-7fa3826ea6bc",
   "metadata": {},
   "outputs": [
    {
     "name": "stdin",
     "output_type": "stream",
     "text": [
      " 3456\n"
     ]
    },
    {
     "name": "stdout",
     "output_type": "stream",
     "text": [
      "the reverse is  6543\n"
     ]
    }
   ],
   "source": [
    "x=int(input())\n",
    "reverse(x)"
   ]
  },
  {
   "cell_type": "code",
   "execution_count": 1,
   "id": "d1d39428-8ecd-45aa-b8e0-5b1576b79bb3",
   "metadata": {},
   "outputs": [],
   "source": [
    "def oddeven(n):\n",
    "    ls_e=[]\n",
    "    ls_o=[]\n",
    "    for i in n:\n",
    "        if i%2==0:\n",
    "            ls_e.append(i)\n",
    "        else:\n",
    "            ls_o.append(i)\n",
    "    print('even list',ls_e)\n",
    "    print('odd list',ls_o)"
   ]
  },
  {
   "cell_type": "code",
   "execution_count": 2,
   "id": "680b59aa-f875-43df-beeb-0a2afb8ac1c1",
   "metadata": {},
   "outputs": [
    {
     "name": "stdout",
     "output_type": "stream",
     "text": [
      "even list [2, 4, 32, 34]\n",
      "odd list [1, 3, 523, 3, 23, 43, 433435, 43]\n"
     ]
    }
   ],
   "source": [
    "oddeven([1,2,3,4,523,3,23,32,43,433435,34,43])"
   ]
  },
  {
   "cell_type": "code",
   "execution_count": 4,
   "id": "9f66c5c0-c3b4-4af0-b009-d9a8acabcead",
   "metadata": {},
   "outputs": [],
   "source": [
    "def rev_list(n):\n",
    "    print(n[::-1])"
   ]
  },
  {
   "cell_type": "code",
   "execution_count": 5,
   "id": "60296cad-55f3-47a3-9a41-06ace38666c9",
   "metadata": {},
   "outputs": [
    {
     "name": "stdout",
     "output_type": "stream",
     "text": [
      "[445, 4, 34, 12]\n"
     ]
    }
   ],
   "source": [
    "rev_list([12,34,4,445])"
   ]
  },
  {
   "cell_type": "code",
   "execution_count": 16,
   "id": "8df49249-61c8-4652-be48-2bac45233e7b",
   "metadata": {},
   "outputs": [],
   "source": [
    "def rev_list(n):\n",
    "    for i in range(len(n)-1,-1,-1):\n",
    "        print(n[i])"
   ]
  },
  {
   "cell_type": "code",
   "execution_count": 17,
   "id": "c1754772-ecd7-487f-9f1a-bc1e4768e32b",
   "metadata": {},
   "outputs": [
    {
     "name": "stdout",
     "output_type": "stream",
     "text": [
      "45\n",
      "34\n",
      "12\n"
     ]
    }
   ],
   "source": [
    "rev_list([12,34,45,])"
   ]
  },
  {
   "cell_type": "code",
   "execution_count": 23,
   "id": "a26ee01d-6e05-4f62-8a7c-4f8530e4cf8c",
   "metadata": {},
   "outputs": [],
   "source": [
    "def rev_list(n):\n",
    "    for i in range(len(n)-1,-1,-1):\n",
    "          print(n[i],end=\" \")"
   ]
  },
  {
   "cell_type": "code",
   "execution_count": 24,
   "id": "ca1c70a8-9bf8-4aca-abfc-7c2ba3315720",
   "metadata": {},
   "outputs": [
    {
     "name": "stdout",
     "output_type": "stream",
     "text": [
      "45 34 12 "
     ]
    }
   ],
   "source": [
    "rev_list([12,34,45,])"
   ]
  },
  {
   "cell_type": "code",
   "execution_count": null,
   "id": "61a31644-5832-40a7-90fe-956f18c327c2",
   "metadata": {},
   "outputs": [],
   "source": []
  }
 ],
 "metadata": {
  "kernelspec": {
   "display_name": "Python 3 (ipykernel)",
   "language": "python",
   "name": "python3"
  },
  "language_info": {
   "codemirror_mode": {
    "name": "ipython",
    "version": 3
   },
   "file_extension": ".py",
   "mimetype": "text/x-python",
   "name": "python",
   "nbconvert_exporter": "python",
   "pygments_lexer": "ipython3",
   "version": "3.11.7"
  }
 },
 "nbformat": 4,
 "nbformat_minor": 5
}
