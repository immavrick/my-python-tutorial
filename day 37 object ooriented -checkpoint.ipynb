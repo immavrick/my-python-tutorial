{
 "cells": [
  {
   "cell_type": "markdown",
   "id": "dd6ebd8f-8991-4032-ad0b-f2dafee69277",
   "metadata": {},
   "source": [
    "## What do you understand by OOPs?\n",
    "-------------------------------------\n",
    "- Object-Oriented Programming (OOP).\n",
    "The concept of OOP in Python focuses on creating reusable code. \n",
    "An object-oriented paradigm is to design the program using classes and objects. \n",
    "The object is related to real-word entities such as book, house, pencil, etc. \n",
    "The oops concept focuses on writing the reusable code. \n",
    "It is a widespread technique to solve the problem by creating objects."
   ]
  },
  {
   "cell_type": "markdown",
   "id": "225d04d1-d9dc-45b5-bdce-2df81d890868",
   "metadata": {},
   "source": [
    "# what is class\n",
    "wrapping of data in a single unit "
   ]
  },
  {
   "cell_type": "markdown",
   "id": "af3d98e5-3ca4-425a-a670-fffc5166aacc",
   "metadata": {},
   "source": [
    "## NOTES\n",
    "------------\n",
    "#### 01. Classes\n",
    "\n",
    "It is you can say a template.\n",
    "------------------------------\n",
    "Classes are the building blocks in Object Oriented Programming. \n",
    "Classes can be seen as blueprints from which you create your Instances or Objects. \n",
    "In Python, classes are defined by the “Class” keyword\n",
    "\n",
    "\n",
    "class myClass():"
   ]
  },
  {
   "cell_type": "markdown",
   "id": "0febae6d-e4c1-4f44-9671-f43efbcad282",
   "metadata": {},
   "source": [
    "#### 02. Methods-Functions\n",
    "\n",
    "- Inside classes, you can define functions or methods that are part of this class\n",
    "- Difference between functions and methods\n",
    "    * Functions can be called only by its name, as it is defined independently. But methods can't be called by its name only, we need to invoke the class by a reference of that class in which it is defined, i.e. method is defined within a class and hence they are dependent on that class."
   ]
  },
  {
   "cell_type": "markdown",
   "id": "039e3da3-8769-486d-9535-409845d0aabd",
   "metadata": {},
   "source": [
    "- “self”\n",
    "        - The self-argument refers to the object itself. Hence the use of the word self. So inside this method, self will refer to the specific instance of this object that’s being operated on.\n",
    "        - Self is the name preferred by convention by Pythons to indicate the first parameter of instance methods in Python. It is part of the Python syntax to access members of objects"
   ]
  },
  {
   "cell_type": "markdown",
   "id": "59fff33d-c69d-45e6-9d9d-df5f3c4f2f33",
   "metadata": {},
   "source": [
    "#### 03. Objects\n",
    "\n",
    "- How to make an object of the class?\n",
    "\n",
    "obj = myClass()"
   ]
  },
  {
   "cell_type": "markdown",
   "id": "de01b42e-a3ad-472f-98ad-dfda9d70719d",
   "metadata": {},
   "source": [
    "- How to call a method in a class?\n",
    "obj.method1() \n",
    "obj.method2(\"Learning 00Ps\")\n",
    "\n",
    "* Notice that when we call the method1 or method2, we don't have to supply the self-keyword. That's automatically handled for us by the Python runtime. * Python runtime will pass 'self' value when you call an instance "
   ]
  },
  {
   "cell_type": "code",
   "execution_count": 2,
   "id": "0fd2c519-31be-42ee-94a2-597e8f70953a",
   "metadata": {},
   "outputs": [],
   "source": [
    "class YourClass(object):\n",
    "    classy=10\n",
    "    def set_val(self):\n",
    "        self.insty=100"
   ]
  },
  {
   "cell_type": "code",
   "execution_count": 5,
   "id": "74c38682-3dc3-4686-9a9e-1367f42c2f81",
   "metadata": {},
   "outputs": [
    {
     "name": "stdout",
     "output_type": "stream",
     "text": [
      "10\n"
     ]
    },
    {
     "data": {
      "text/plain": [
       "100"
      ]
     },
     "execution_count": 5,
     "metadata": {},
     "output_type": "execute_result"
    }
   ],
   "source": [
    "dd=YourClass()\n",
    "print(dd.classy)\n",
    "dd.set_val()\n",
    "dd.insty"
   ]
  },
  {
   "cell_type": "code",
   "execution_count": 11,
   "id": "7cadff15-26e2-45e3-8025-fedcd8114720",
   "metadata": {},
   "outputs": [
    {
     "name": "stdout",
     "output_type": "stream",
     "text": [
      "class value\n",
      "instance value\n",
      "class value\n"
     ]
    }
   ],
   "source": [
    "class YourClass(object):\n",
    "    classy='class value'\n",
    "\n",
    "dd=YourClass()\n",
    "print(dd.classy)\n",
    "dd.classy=\"instance value\"\n",
    "print(dd.classy)\n",
    "del dd.classy\n",
    "print(dd.classy)\n",
    "    "
   ]
  },
  {
   "cell_type": "code",
   "execution_count": 15,
   "id": "bc77c378-8da5-43ca-8e44-ee07725e72b7",
   "metadata": {},
   "outputs": [],
   "source": [
    "class MyClass:\n",
    "    def method(self):\n",
    "        return 'instance method called',self\n",
    "\n",
    "    @classmethod\n",
    "    def classmethod(cls):\n",
    "        return'class method called',cls\n",
    "\n",
    "    @staticmethod\n",
    "    def staticmethod():\n",
    "        return 'static method called'\n",
    "        "
   ]
  },
  {
   "cell_type": "markdown",
   "id": "c5f0b1fb-82eb-4829-acc5-9811b8b01ca8",
   "metadata": {},
   "source": [
    "# constructor"
   ]
  },
  {
   "cell_type": "code",
   "execution_count": 19,
   "id": "36f65808-f168-4da4-b93f-9648c22d97ea",
   "metadata": {},
   "outputs": [
    {
     "name": "stdout",
     "output_type": "stream",
     "text": [
      "calling the __init__() constructor!\n",
      "\n",
      "1\n",
      "2\n",
      "3\n",
      "4\n"
     ]
    }
   ],
   "source": [
    "class contruct(object):\n",
    "    def __init__(self):\n",
    "        print('calling the __init__() constructor!\\n')\n",
    "        self.val=0\n",
    "\n",
    "    def increment(self):\n",
    "        self.val=self.val+1\n",
    "        print(self.val)\n",
    "\n",
    "dd=contruct()\n",
    "dd.increment()\n",
    "dd.increment()\n",
    "dd.increment()    \n",
    "dd.increment()    \n"
   ]
  },
  {
   "cell_type": "code",
   "execution_count": 21,
   "id": "85da39b1-ce33-4b95-80a5-444a15334208",
   "metadata": {},
   "outputs": [
    {
     "name": "stdout",
     "output_type": "stream",
     "text": [
      "11\n",
      "12\n"
     ]
    }
   ],
   "source": [
    "class contruct(object):\n",
    "    def __init__(self,value):\n",
    "        try:\n",
    "            value=int(value)\n",
    "\n",
    "        except ValueError:\n",
    "            value=0\n",
    "\n",
    "        self.value=value\n",
    "\n",
    "    def increment(self):\n",
    "        self.value=self.value+1\n",
    "        print(self.value)\n",
    "\n",
    "a=contruct(10)\n",
    "a.increment()\n",
    "a.increment()\n",
    "          \n",
    "        \n",
    "    "
   ]
  },
  {
   "cell_type": "code",
   "execution_count": 23,
   "id": "488e9cf8-8925-425d-b827-10f310b9dd56",
   "metadata": {},
   "outputs": [
    {
     "name": "stdout",
     "output_type": "stream",
     "text": [
      "1\n",
      "2\n"
     ]
    }
   ],
   "source": [
    "class contruct(object):\n",
    "    def __init__(self,value):\n",
    "        try:\n",
    "            value=int(value)\n",
    "\n",
    "        except ValueError:\n",
    "            value=0\n",
    "\n",
    "        self.value=value\n",
    "\n",
    "    def increment(self):\n",
    "        self.value=self.value+1\n",
    "        print(self.value)\n",
    "\n",
    "a=contruct('shourya')\n",
    "a.increment()\n",
    "a.increment()"
   ]
  },
  {
   "cell_type": "markdown",
   "id": "6ad4a44d-cd0d-4ff3-a329-f0436f071233",
   "metadata": {},
   "source": [
    "# inheritance"
   ]
  },
  {
   "cell_type": "code",
   "execution_count": 25,
   "id": "593196d3-be13-4990-b814-96fc9062187e",
   "metadata": {},
   "outputs": [
    {
     "name": "stdout",
     "output_type": "stream",
     "text": [
      "2018-09-02\n",
      "----\n",
      "01:22:33\n",
      "2018-09-02\n"
     ]
    }
   ],
   "source": [
    "class Date(object):\n",
    "    def get_date(self):\n",
    "        print('2018-09-02')\n",
    "\n",
    "class Time(Date):\n",
    "    def get_time(self):\n",
    "        print('01:22:33')\n",
    "\n",
    "dt=Date()\n",
    "dt.get_date()\n",
    "print('----')\n",
    "tm=Time()\n",
    "\n",
    "tm.get_time()\n",
    "tm.get_date()"
   ]
  },
  {
   "cell_type": "code",
   "execution_count": 27,
   "id": "ba35db33-47cf-4af5-bcef-edc474ce5769",
   "metadata": {},
   "outputs": [
    {
     "name": "stdout",
     "output_type": "stream",
     "text": [
      "tuffy goes after the paper\n",
      "tuffy is eating/drinking bone\n",
      "----\n",
      "mona is eating/drinking milk\n",
      "mona shred the string!\n"
     ]
    }
   ],
   "source": [
    "class animal(object):\n",
    "    def __init__(self,name):\n",
    "        self.name=name\n",
    "\n",
    "    def eat(self,food):\n",
    "        print('%s is eating/drinking %s'%(self.name,food))\n",
    "\n",
    "class dog(animal):\n",
    "    def fetch(self,thing):\n",
    "        print('%s goes after the %s' % (self.name,thing))\n",
    "\n",
    "class cat(animal):\n",
    "    def swatstring(self):\n",
    "        print('%s shred the string!'% self.name)\n",
    "\n",
    "dog=dog('tuffy')\n",
    "cat=cat('mona')\n",
    "dog.fetch('paper')\n",
    "dog.eat('bone')\n",
    "print('----')\n",
    "cat.eat('milk')\n",
    "cat.swatstring()"
   ]
  },
  {
   "cell_type": "markdown",
   "id": "7f22b557-a76d-41c6-a09f-ec9c5b9dea6e",
   "metadata": {},
   "source": [
    "# multiple inheritance"
   ]
  },
  {
   "cell_type": "code",
   "execution_count": 30,
   "id": "615ac258-bc86-4e1e-9746-ac080f6fae6e",
   "metadata": {},
   "outputs": [
    {
     "name": "stdout",
     "output_type": "stream",
     "text": [
      "doing this in A\n",
      "\n",
      "Print the method resolution order\n",
      "[<class '__main__.D'>, <class '__main__.B'>, <class '__main__.A'>, <class '__main__.C'>, <class 'object'>]\n"
     ]
    }
   ],
   "source": [
    "class A(object):\n",
    "    def dothis(self):\n",
    "        print('doing this in A')\n",
    "\n",
    "class B(A):\n",
    "    pass\n",
    "\n",
    "class C(object):\n",
    "    def dothis(self):\n",
    "        print('doing this in C')\n",
    "\n",
    "class D(B,C):\n",
    "    pass\n",
    "\n",
    "d_instance=D()\n",
    "d_instance.dothis()\n",
    "print('\\nPrint the method resolution order')\n",
    "print(D.mro())"
   ]
  },
  {
   "cell_type": "markdown",
   "id": "b99fe0c2-2cbc-414b-84a8-e62ce97b56bc",
   "metadata": {},
   "source": [
    "# ploymorphisim"
   ]
  },
  {
   "cell_type": "code",
   "execution_count": 1,
   "id": "6d604c3d-15fc-4871-85b5-508920e974d6",
   "metadata": {},
   "outputs": [
    {
     "ename": "TypeError",
     "evalue": "Dog() takes no arguments",
     "output_type": "error",
     "traceback": [
      "\u001b[1;31m---------------------------------------------------------------------------\u001b[0m",
      "\u001b[1;31mTypeError\u001b[0m                                 Traceback (most recent call last)",
      "Cell \u001b[1;32mIn[1], line 16\u001b[0m\n\u001b[0;32m     13\u001b[0m     \u001b[38;5;28;01mdef\u001b[39;00m \u001b[38;5;21mshow_affection\u001b[39m(\u001b[38;5;28mself\u001b[39m):\n\u001b[0;32m     14\u001b[0m         \u001b[38;5;28mprint\u001b[39m(\u001b[38;5;124m\"\u001b[39m\u001b[38;5;132;01m{0}\u001b[39;00m\u001b[38;5;124m GREAT\u001b[39m\u001b[38;5;124m\"\u001b[39m\u001b[38;5;241m.\u001b[39mformat(\u001b[38;5;28mself\u001b[39m\u001b[38;5;241m.\u001b[39mname))\n\u001b[1;32m---> 16\u001b[0m \u001b[38;5;28;01mfor\u001b[39;00m a \u001b[38;5;129;01min\u001b[39;00m (Dog(\u001b[38;5;124m\"\u001b[39m\u001b[38;5;124mTUFFY\u001b[39m\u001b[38;5;124m\"\u001b[39m), Cat(\u001b[38;5;124m\"\u001b[39m\u001b[38;5;124mMona\u001b[39m\u001b[38;5;124m\"\u001b[39m), Cat(\u001b[38;5;124m\"\u001b[39m\u001b[38;5;124mLucy\u001b[39m\u001b[38;5;124m\"\u001b[39m), Dog(\u001b[38;5;124m\"\u001b[39m\u001b[38;5;124mTommy\u001b[39m\u001b[38;5;124m\"\u001b[39m)):\n\u001b[0;32m     17\u001b[0m     a\u001b[38;5;241m.\u001b[39mshow_affection()\n",
      "\u001b[1;31mTypeError\u001b[0m: Dog() takes no arguments"
     ]
    }
   ],
   "source": [
    "class Animal(object):\n",
    "    def _init_(self, name):\n",
    "        self.name=name\n",
    "\n",
    "    def eat(self, food):\n",
    "        print(\"{0} eats {1}\".format(self.name,food))\n",
    "\n",
    "class Dog(Animal):\n",
    "    def show_affection(self):\n",
    "        print(\"{0} wags tail\".format(self.name))\n",
    "\n",
    "class Cat(Animal):\n",
    "    def show_affection(self):\n",
    "        print(\"{0} GREAT\".format(self.name))\n",
    "\n",
    "for a in (Dog(\"TUFFY\"), Cat(\"Mona\"), Cat(\"Lucy\"), Dog(\"Tommy\")):\n",
    "    a.show_affection()"
   ]
  },
  {
   "cell_type": "code",
   "execution_count": null,
   "id": "297bc79b-957a-4d66-a9f8-75ace0b349ff",
   "metadata": {},
   "outputs": [],
   "source": []
  }
 ],
 "metadata": {
  "kernelspec": {
   "display_name": "Python 3 (ipykernel)",
   "language": "python",
   "name": "python3"
  },
  "language_info": {
   "codemirror_mode": {
    "name": "ipython",
    "version": 3
   },
   "file_extension": ".py",
   "mimetype": "text/x-python",
   "name": "python",
   "nbconvert_exporter": "python",
   "pygments_lexer": "ipython3",
   "version": "3.11.7"
  }
 },
 "nbformat": 4,
 "nbformat_minor": 5
}
