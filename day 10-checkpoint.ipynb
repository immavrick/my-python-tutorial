{
 "cells": [
  {
   "cell_type": "code",
   "execution_count": 4,
   "id": "9516f7ac-d6ec-4b43-9e42-4bcbe9f97425",
   "metadata": {},
   "outputs": [
    {
     "name": "stdout",
     "output_type": "stream",
     "text": [
      "[12, 234, 23, 556, 627, 728, 1]\n",
      "[1, 12, 23, 234, 556, 627, 728]\n"
     ]
    }
   ],
   "source": [
    "#SORT\n",
    "ls=[12,234,23,556,627,728,1]\n",
    "print(ls)\n",
    "ls.sort()\n",
    "print(ls)"
   ]
  },
  {
   "cell_type": "code",
   "execution_count": 6,
   "id": "fa6788a6-dbff-452e-ba6f-226632f33d2f",
   "metadata": {},
   "outputs": [
    {
     "name": "stdout",
     "output_type": "stream",
     "text": [
      "[12, 234, 23, 556, 627, 728, 1]\n",
      "[728, 627, 556, 234, 23, 12, 1]\n"
     ]
    }
   ],
   "source": [
    "ls=[12,234,23,556,627,728,1]\n",
    "print(ls)\n",
    "ls.sort(reverse=True)  #decending order\n",
    "print(ls)"
   ]
  },
  {
   "cell_type": "code",
   "execution_count": 9,
   "id": "e2b07517-0752-4131-b5e8-b7ec1baa0579",
   "metadata": {},
   "outputs": [
    {
     "name": "stdout",
     "output_type": "stream",
     "text": [
      "['sumit']\n"
     ]
    }
   ],
   "source": [
    "ls=['amit','sumit','naina']\n",
    "print(ls[1:-1])"
   ]
  },
  {
   "cell_type": "code",
   "execution_count": 10,
   "id": "8cdf831a-5e60-433b-9631-5fb517ef8c64",
   "metadata": {},
   "outputs": [
    {
     "name": "stdout",
     "output_type": "stream",
     "text": [
      "['amit', 'sumit', 'naina', 'amit', 'sumit', 'naina']\n"
     ]
    }
   ],
   "source": [
    "l=['amit','sumit','naina']\n",
    "print(l*2) #   * is used to repeat"
   ]
  },
  {
   "cell_type": "code",
   "execution_count": 11,
   "id": "ce0bba62-43d1-4763-a750-a54b496282e2",
   "metadata": {},
   "outputs": [
    {
     "ename": "TypeError",
     "evalue": "unsupported operand type(s) for ** or pow(): 'list' and 'int'",
     "output_type": "error",
     "traceback": [
      "\u001b[1;31m---------------------------------------------------------------------------\u001b[0m",
      "\u001b[1;31mTypeError\u001b[0m                                 Traceback (most recent call last)",
      "Cell \u001b[1;32mIn[11], line 2\u001b[0m\n\u001b[0;32m      1\u001b[0m l\u001b[38;5;241m=\u001b[39m[\u001b[38;5;124m'\u001b[39m\u001b[38;5;124mamit\u001b[39m\u001b[38;5;124m'\u001b[39m,\u001b[38;5;124m'\u001b[39m\u001b[38;5;124msumit\u001b[39m\u001b[38;5;124m'\u001b[39m,\u001b[38;5;124m'\u001b[39m\u001b[38;5;124mnaina\u001b[39m\u001b[38;5;124m'\u001b[39m]\n\u001b[1;32m----> 2\u001b[0m \u001b[38;5;28mprint\u001b[39m(l\u001b[38;5;241m*\u001b[39m\u001b[38;5;241m*\u001b[39m\u001b[38;5;241m2\u001b[39m)\n",
      "\u001b[1;31mTypeError\u001b[0m: unsupported operand type(s) for ** or pow(): 'list' and 'int'"
     ]
    }
   ],
   "source": [
    "l=['amit','sumit','naina']\n",
    "print(l**2)"
   ]
  },
  {
   "cell_type": "code",
   "execution_count": 14,
   "id": "7f72b733-1478-41da-8b84-62a36ae34978",
   "metadata": {},
   "outputs": [
    {
     "name": "stdout",
     "output_type": "stream",
     "text": [
      "[0.0, 0.5, 1.0, 1.5]\n"
     ]
    }
   ],
   "source": [
    "L=[0.5*x for x in range(4)]\n",
    "print(L)"
   ]
  },
  {
   "cell_type": "code",
   "execution_count": 15,
   "id": "ac31aa11-ef9a-4117-9ca3-de9928b8f05c",
   "metadata": {},
   "outputs": [
    {
     "name": "stdout",
     "output_type": "stream",
     "text": [
      "['', 'a', 'aa', 'aaa']\n"
     ]
    }
   ],
   "source": [
    "L=['a'*x for x in range(4)]\n",
    "print(L)"
   ]
  },
  {
   "cell_type": "code",
   "execution_count": 16,
   "id": "1db11b41-f50e-4616-85aa-42a5e4ae4978",
   "metadata": {},
   "outputs": [
    {
     "name": "stdout",
     "output_type": "stream",
     "text": [
      "[10, 6, 2]\n"
     ]
    }
   ],
   "source": [
    "L=[1*x for x in range(10,1,-4)]\n",
    "print(L)"
   ]
  },
  {
   "cell_type": "code",
   "execution_count": 17,
   "id": "af0f03d3-cf60-4125-921b-1bc76dd8760a",
   "metadata": {},
   "outputs": [
    {
     "name": "stdout",
     "output_type": "stream",
     "text": [
      "['a', 2, 3, 4]\n"
     ]
    }
   ],
   "source": [
    "T=[1,2,3,4]\n",
    "T1=T\n",
    "T[0]='a'\n",
    "print(T1)"
   ]
  },
  {
   "cell_type": "code",
   "execution_count": 18,
   "id": "435f6e63-7f01-445f-8b52-27eca938ba75",
   "metadata": {},
   "outputs": [
    {
     "name": "stdout",
     "output_type": "stream",
     "text": [
      "None\n"
     ]
    }
   ],
   "source": [
    "T=[1,2,3,4]\n",
    "T1=[5,6,7]\n",
    "l=T.append(T1)\n",
    "print(l)"
   ]
  },
  {
   "cell_type": "code",
   "execution_count": 19,
   "id": "b83b4709-4844-4e6f-a840-61cbf3180115",
   "metadata": {},
   "outputs": [
    {
     "ename": "SyntaxError",
     "evalue": "closing parenthesis ')' does not match opening parenthesis '[' (1452745640.py, line 2)",
     "output_type": "error",
     "traceback": [
      "\u001b[1;36m  Cell \u001b[1;32mIn[19], line 2\u001b[1;36m\u001b[0m\n\u001b[1;33m    print(l[l[l[3]])\u001b[0m\n\u001b[1;37m                   ^\u001b[0m\n\u001b[1;31mSyntaxError\u001b[0m\u001b[1;31m:\u001b[0m closing parenthesis ')' does not match opening parenthesis '['\n"
     ]
    }
   ],
   "source": [
    "l=[1,2,3,4,5,6,78,9]\n",
    "print(l[l[l[3]])"
   ]
  },
  {
   "cell_type": "code",
   "execution_count": 21,
   "id": "517a874d-550d-4772-b072-4bfaca5614b6",
   "metadata": {},
   "outputs": [
    {
     "name": "stdout",
     "output_type": "stream",
     "text": [
      "False\n"
     ]
    }
   ],
   "source": [
    "print(1 in [[1],2,3])"
   ]
  },
  {
   "cell_type": "code",
   "execution_count": 23,
   "id": "25ac4407-c381-4982-bfaf-032958656744",
   "metadata": {},
   "outputs": [
    {
     "name": "stdout",
     "output_type": "stream",
     "text": [
      "[1, 2, 3]\n"
     ]
    }
   ],
   "source": [
    "d=[1,2,3]\n",
    "d1=d.copy()\n",
    "d.append(4)\n",
    "print(d1)"
   ]
  },
  {
   "cell_type": "code",
   "execution_count": 24,
   "id": "a835096b-4800-458f-b523-94ca87a4304c",
   "metadata": {},
   "outputs": [
    {
     "name": "stdout",
     "output_type": "stream",
     "text": [
      "[]\n"
     ]
    }
   ],
   "source": [
    "print([]*2)"
   ]
  },
  {
   "cell_type": "code",
   "execution_count": 25,
   "id": "3eacbc52-40ea-44f4-a947-5665db0e29ba",
   "metadata": {},
   "outputs": [
    {
     "name": "stdout",
     "output_type": "stream",
     "text": [
      "this is string in python\n"
     ]
    }
   ],
   "source": [
    "#### STRING###\n",
    "str1='this is string in python'\n",
    "print(str1)"
   ]
  },
  {
   "cell_type": "code",
   "execution_count": 27,
   "id": "0b5859ec-e111-4825-b27b-ea9ced12d9e6",
   "metadata": {},
   "outputs": [
    {
     "name": "stdout",
     "output_type": "stream",
     "text": [
      "this is string in python\n"
     ]
    }
   ],
   "source": [
    "str2=\"this is string in python\"\n",
    "print(str2)"
   ]
  },
  {
   "cell_type": "code",
   "execution_count": 28,
   "id": "dd392459-d39c-4f44-8e04-212096002d62",
   "metadata": {},
   "outputs": [
    {
     "name": "stdout",
     "output_type": "stream",
     "text": [
      "this is\n",
      "the frist\n",
      "multi-line string.\n"
     ]
    }
   ],
   "source": [
    "str1='''this is\n",
    "the frist\n",
    "multi-line string.'''\n",
    "print(str1)"
   ]
  },
  {
   "cell_type": "code",
   "execution_count": 30,
   "id": "91591a83-572f-42fc-a1d5-4e609f009651",
   "metadata": {},
   "outputs": [
    {
     "data": {
      "text/plain": [
       "5"
      ]
     },
     "execution_count": 30,
     "metadata": {},
     "output_type": "execute_result"
    }
   ],
   "source": [
    "# lengeth function\n",
    "greet='hello'\n",
    "n = len(greet)\n",
    "n"
   ]
  },
  {
   "cell_type": "code",
   "execution_count": 35,
   "id": "1c311fe6-af7b-48fa-8b51-e642fb1ae22c",
   "metadata": {},
   "outputs": [
    {
     "name": "stdout",
     "output_type": "stream",
     "text": [
      "o\n",
      "l\n",
      "l\n",
      "e\n",
      "h\n"
     ]
    }
   ],
   "source": [
    "greet='hello'\n",
    "print(greet[-1])\n",
    "print(greet[-2])\n",
    "print(greet[-3])\n",
    "print(greet[-4])\n",
    "print(greet[0])"
   ]
  },
  {
   "cell_type": "code",
   "execution_count": 36,
   "id": "8cd99f38-4b37-4695-afd6-2b282ee3b9d7",
   "metadata": {},
   "outputs": [
    {
     "ename": "TypeError",
     "evalue": "'str' object does not support item assignment",
     "output_type": "error",
     "traceback": [
      "\u001b[1;31m---------------------------------------------------------------------------\u001b[0m",
      "\u001b[1;31mTypeError\u001b[0m                                 Traceback (most recent call last)",
      "Cell \u001b[1;32mIn[36], line 2\u001b[0m\n\u001b[0;32m      1\u001b[0m greet\u001b[38;5;241m=\u001b[39m\u001b[38;5;124m'\u001b[39m\u001b[38;5;124mhello\u001b[39m\u001b[38;5;124m'\u001b[39m\n\u001b[1;32m----> 2\u001b[0m greet[\u001b[38;5;241m0\u001b[39m]\u001b[38;5;241m=\u001b[39m\u001b[38;5;124m'\u001b[39m\u001b[38;5;124ma\u001b[39m\u001b[38;5;124m'\u001b[39m\n",
      "\u001b[1;31mTypeError\u001b[0m: 'str' object does not support item assignment"
     ]
    }
   ],
   "source": [
    "greet='hello'\n",
    "greet[0]='a' # typrerror:'srt' object does not support item assignment\n"
   ]
  },
  {
   "cell_type": "code",
   "execution_count": 37,
   "id": "592ac0ce-9bff-46e6-95d5-16f19fb1b5e9",
   "metadata": {},
   "outputs": [
    {
     "name": "stdout",
     "output_type": "stream",
     "text": [
      "<class 'str'>\n"
     ]
    }
   ],
   "source": [
    "s = str(100)\n",
    "print(type(s))"
   ]
  },
  {
   "cell_type": "code",
   "execution_count": 38,
   "id": "8ac6ac58-e544-4328-83f5-a6d1bbade291",
   "metadata": {},
   "outputs": [
    {
     "name": "stdout",
     "output_type": "stream",
     "text": [
      "<class 'str'>\n"
     ]
    }
   ],
   "source": [
    "s= str(-10)\n",
    "print(type(s))"
   ]
  },
  {
   "cell_type": "code",
   "execution_count": 40,
   "id": "41ea405b-8ec8-4878-a52c-b378030f6058",
   "metadata": {},
   "outputs": [
    {
     "name": "stdout",
     "output_type": "stream",
     "text": [
      "original string: hello world!\n",
      "new string: Hello world!\n"
     ]
    }
   ],
   "source": [
    "#dictionary methods\n",
    "# capitaloze \n",
    "\n",
    "a = 'hello world!'\n",
    "b = a.capitalize()\n",
    "print('original string:',a)\n",
    "print('new string:',b)"
   ]
  },
  {
   "cell_type": "code",
   "execution_count": 43,
   "id": "9de124f0-6290-474c-83d6-3dd5d3f2a9c4",
   "metadata": {},
   "outputs": [
    {
     "name": "stdout",
     "output_type": "stream",
     "text": [
      "number of occurence of \"madrid\": 1\n"
     ]
    }
   ],
   "source": [
    "#count method \n",
    "mystr= ' madrid is nest institute for data science'\n",
    "total = mystr.count('madrid')\n",
    "print('number of occurence of \"madrid\":', total)"
   ]
  },
  {
   "cell_type": "code",
   "execution_count": null,
   "id": "f2f9fdda-c196-4cda-af16-d1bf0bc04a50",
   "metadata": {},
   "outputs": [],
   "source": []
  }
 ],
 "metadata": {
  "kernelspec": {
   "display_name": "Python 3 (ipykernel)",
   "language": "python",
   "name": "python3"
  },
  "language_info": {
   "codemirror_mode": {
    "name": "ipython",
    "version": 3
   },
   "file_extension": ".py",
   "mimetype": "text/x-python",
   "name": "python",
   "nbconvert_exporter": "python",
   "pygments_lexer": "ipython3",
   "version": "3.11.7"
  }
 },
 "nbformat": 4,
 "nbformat_minor": 5
}
