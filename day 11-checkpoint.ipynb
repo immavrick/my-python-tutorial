{
 "cells": [
  {
   "cell_type": "code",
   "execution_count": 6,
   "id": "977d2141-e7a1-41a1-94ff-29636d49865a",
   "metadata": {},
   "outputs": [
    {
     "name": "stdout",
     "output_type": "stream",
     "text": [
      "True\n",
      "True\n",
      "True\n",
      "False\n",
      "False\n"
     ]
    }
   ],
   "source": [
    "# python string endswith()method\n",
    "mystr= 'python is a programming language.'\n",
    "print(mystr.endswith('.')) #returns true\n",
    "print(mystr.endswith('age.')) #return true\n",
    "print(mystr.endswith('language.')) #return true\n",
    "print(mystr.endswith('programming lauguage.')) #return true\n",
    "print(mystr.endswith('age'))"
   ]
  },
  {
   "cell_type": "code",
   "execution_count": 9,
   "id": "a477445f-489c-4b81-9611-379a47b0ba82",
   "metadata": {},
   "outputs": [
    {
     "name": "stdout",
     "output_type": "stream",
     "text": [
      "index of 'H': 0\n",
      "index of 'h': -1\n",
      "index of 'e': 1\n",
      "index of 'world': 6\n"
     ]
    }
   ],
   "source": [
    "# puthon string find\n",
    "greet='Hello world!'\n",
    "print(\"index of 'H':\",greet.find('H'))\n",
    "print(\"index of 'h':\",greet.find('h'))\n",
    "print(\"index of 'e':\",greet.find('e'))\n",
    "print(\"index of 'world':\",greet.find('world'))"
   ]
  },
  {
   "cell_type": "code",
   "execution_count": 10,
   "id": "7c48039f-878e-41bf-bfc1-8b21d1b2ac22",
   "metadata": {},
   "outputs": [
    {
     "name": "stdout",
     "output_type": "stream",
     "text": [
      "index of H: 0\n",
      "index of e: 1\n",
      "index of l: 2\n",
      "index of world: 6\n"
     ]
    }
   ],
   "source": [
    "# python string index\n",
    "\n",
    "greet='Hello world!'\n",
    "print('index of H:',greet.index('H'))\n",
    "print('index of e:',greet.index('e'))\n",
    "print('index of l:',greet.index('l'))\n",
    "print('index of world:',greet.index('world'))"
   ]
  },
  {
   "cell_type": "code",
   "execution_count": 11,
   "id": "ad24735f-2968-4c32-9aab-b055584c44a8",
   "metadata": {},
   "outputs": [
    {
     "name": "stdout",
     "output_type": "stream",
     "text": [
      "True\n"
     ]
    }
   ],
   "source": [
    "# python string isalnum() method\n",
    " # santax:-    str.isalnum\n",
    "mystr='hello123'\n",
    "print(mystr.isalnum())\n"
   ]
  },
  {
   "cell_type": "code",
   "execution_count": 13,
   "id": "1a1117d6-abc3-4d9c-b516-09536a77bd37",
   "metadata": {},
   "outputs": [
    {
     "name": "stdout",
     "output_type": "stream",
     "text": [
      "True\n"
     ]
    }
   ],
   "source": [
    "mystt='12345'\n",
    "print(mystr.isalnum())"
   ]
  },
  {
   "cell_type": "code",
   "execution_count": 15,
   "id": "0967f274-a979-407c-82b0-ca59a63ae564",
   "metadata": {},
   "outputs": [
    {
     "name": "stdout",
     "output_type": "stream",
     "text": [
      "True\n"
     ]
    }
   ],
   "source": [
    "mystr='madrid'\n",
    "print(mystr.isalnum())"
   ]
  },
  {
   "cell_type": "code",
   "execution_count": 16,
   "id": "2a9b7dec-9b00-46c4-a8a5-2945b8734e70",
   "metadata": {},
   "outputs": [
    {
     "name": "stdout",
     "output_type": "stream",
     "text": [
      "False\n"
     ]
    }
   ],
   "source": [
    "mystr='python is a promming language'\n",
    "print(mystr.isalnum())"
   ]
  },
  {
   "cell_type": "code",
   "execution_count": 19,
   "id": "031db941-5055-4960-968b-775eeb6171b1",
   "metadata": {},
   "outputs": [
    {
     "name": "stdout",
     "output_type": "stream",
     "text": [
      "False\n"
     ]
    }
   ],
   "source": [
    "mystr='hello\\tworld'\n",
    "print(mystr.isalnum())"
   ]
  },
  {
   "cell_type": "code",
   "execution_count": 20,
   "id": "a35357d8-232d-4986-9099-749189e8c893",
   "metadata": {},
   "outputs": [],
   "source": [
    "#PYTHON STRING INDIGIT() METHOD"
   ]
  },
  {
   "cell_type": "code",
   "execution_count": 21,
   "id": "b8c1cdab-4fd1-47e5-888d-0c92847f36c6",
   "metadata": {},
   "outputs": [
    {
     "name": "stdout",
     "output_type": "stream",
     "text": [
      "True\n"
     ]
    }
   ],
   "source": [
    "# str.indigit()\n",
    "\n",
    "mystr='12345'\n",
    "print(mystr.isdigit())"
   ]
  },
  {
   "cell_type": "code",
   "execution_count": 22,
   "id": "37bee704-3bfc-4296-8df1-b807bc1cb22b",
   "metadata": {},
   "outputs": [
    {
     "name": "stdout",
     "output_type": "stream",
     "text": [
      "False\n"
     ]
    }
   ],
   "source": [
    "mystr='10.5'\n",
    "print(mystr.isdigit())"
   ]
  },
  {
   "cell_type": "code",
   "execution_count": 23,
   "id": "cf7f4d4c-b5ea-487b-a4b5-288e73c1ab04",
   "metadata": {},
   "outputs": [
    {
     "name": "stdout",
     "output_type": "stream",
     "text": [
      "False\n"
     ]
    }
   ],
   "source": [
    "mystr='python'\n",
    "print(mystr.isdigit())"
   ]
  },
  {
   "cell_type": "code",
   "execution_count": 24,
   "id": "afdb3544-a2f3-4fde-a028-8545092b80b5",
   "metadata": {},
   "outputs": [],
   "source": [
    "#PYTHON STRING ISLOWER() METHOD"
   ]
  },
  {
   "cell_type": "code",
   "execution_count": 28,
   "id": "bcf834b9-3fbe-450c-a56e-4565d0f02b27",
   "metadata": {},
   "outputs": [
    {
     "data": {
      "text/plain": [
       "True"
      ]
     },
     "execution_count": 28,
     "metadata": {},
     "output_type": "execute_result"
    }
   ],
   "source": [
    "# STR.ISLOWER()\n",
    "mystr='hello world'\n",
    "mystr.islower()"
   ]
  },
  {
   "cell_type": "code",
   "execution_count": 31,
   "id": "534c2921-1c22-422d-8902-b512830cb4ee",
   "metadata": {},
   "outputs": [
    {
     "data": {
      "text/plain": [
       "False"
      ]
     },
     "execution_count": 31,
     "metadata": {},
     "output_type": "execute_result"
    }
   ],
   "source": [
    "mystr=\"Hello world\"\n",
    "mystr.islower()"
   ]
  },
  {
   "cell_type": "code",
   "execution_count": 32,
   "id": "031a7ca8-2857-4c59-80d2-a0fcf35daa45",
   "metadata": {},
   "outputs": [
    {
     "data": {
      "text/plain": [
       "True"
      ]
     },
     "execution_count": 32,
     "metadata": {},
     "output_type": "execute_result"
    }
   ],
   "source": [
    "mystr='python is #1'\n",
    "mystr.islower()"
   ]
  },
  {
   "cell_type": "code",
   "execution_count": 33,
   "id": "80230a0c-7a2c-4b27-8ac1-556ca61af790",
   "metadata": {},
   "outputs": [
    {
     "data": {
      "text/plain": [
       "True"
      ]
     },
     "execution_count": 33,
     "metadata": {},
     "output_type": "execute_result"
    }
   ],
   "source": [
    "greet='Hello World'\n",
    "greet.istitle()"
   ]
  },
  {
   "cell_type": "code",
   "execution_count": 34,
   "id": "7ccd55ae-92a7-4a1a-915c-704c57426dc6",
   "metadata": {},
   "outputs": [
    {
     "data": {
      "text/plain": [
       "False"
      ]
     },
     "execution_count": 34,
     "metadata": {},
     "output_type": "execute_result"
    }
   ],
   "source": [
    "greet='Hello WORLD'\n",
    "greet.istitle()"
   ]
  },
  {
   "cell_type": "code",
   "execution_count": 35,
   "id": "3f6edc8a-2af2-425b-9b4e-60150b6cffc0",
   "metadata": {},
   "outputs": [
    {
     "data": {
      "text/plain": [
       "False"
      ]
     },
     "execution_count": 35,
     "metadata": {},
     "output_type": "execute_result"
    }
   ],
   "source": [
    "greet='hello world'\n",
    "greet.istitle()"
   ]
  },
  {
   "cell_type": "code",
   "execution_count": 36,
   "id": "68e859a1-71a2-46a2-9515-40e864e22355",
   "metadata": {},
   "outputs": [
    {
     "data": {
      "text/plain": [
       "False"
      ]
     },
     "execution_count": 36,
     "metadata": {},
     "output_type": "execute_result"
    }
   ],
   "source": [
    "greet='HelloWold'\n",
    "greet.istitle()"
   ]
  },
  {
   "cell_type": "code",
   "execution_count": 37,
   "id": "c09cdb84-b065-4620-bcd9-71b6152aea67",
   "metadata": {},
   "outputs": [
    {
     "data": {
      "text/plain": [
       "True"
      ]
     },
     "execution_count": 37,
     "metadata": {},
     "output_type": "execute_result"
    }
   ],
   "source": [
    "#python string isupper()method\n",
    "# str.isupper()\n",
    "\n",
    "mystr='HELLO WOLRD'\n",
    "mystr.isupper()"
   ]
  },
  {
   "cell_type": "code",
   "execution_count": 39,
   "id": "721f6029-3fc8-427b-a964-4d90407c6152",
   "metadata": {},
   "outputs": [
    {
     "data": {
      "text/plain": [
       "False"
      ]
     },
     "execution_count": 39,
     "metadata": {},
     "output_type": "execute_result"
    }
   ],
   "source": [
    "mystr='Hello World'\n",
    "mystr.isupper()"
   ]
  },
  {
   "cell_type": "code",
   "execution_count": 40,
   "id": "52b7f18b-93e5-4b65-b256-396ed16e7a4e",
   "metadata": {},
   "outputs": [
    {
     "data": {
      "text/plain": [
       "True"
      ]
     },
     "execution_count": 40,
     "metadata": {},
     "output_type": "execute_result"
    }
   ],
   "source": [
    "mystr='PYTHON IS #1'\n",
    "mystr.isupper()"
   ]
  },
  {
   "cell_type": "code",
   "execution_count": 44,
   "id": "6b089b6e-5f10-46e5-bf6e-57cfe2a7990d",
   "metadata": {},
   "outputs": [
    {
     "name": "stdout",
     "output_type": "stream",
     "text": [
      "original string: HELLO WORLD\n",
      "ner sting: hello world\n"
     ]
    }
   ],
   "source": [
    "# python string lower()\n",
    "#str.lower()\n",
    "mystr=\"HELLO WORLD\"\n",
    "mystr_lower= mystr.lower()\n",
    "print('original string:',mystr)\n",
    "print('ner sting:',mystr_lower)\n",
    "\n",
    "\n",
    "\n"
   ]
  },
  {
   "cell_type": "code",
   "execution_count": 45,
   "id": "17ce9aa9-0163-4f85-8f06-cbc5964c8ce7",
   "metadata": {},
   "outputs": [
    {
     "name": "stdout",
     "output_type": "stream",
     "text": [
      "#1 harbour side\n"
     ]
    }
   ],
   "source": [
    "mystr='#1 HarBour sIDE'\n",
    "print(mystr.lower())"
   ]
  },
  {
   "cell_type": "code",
   "execution_count": 47,
   "id": "c8899e41-5fb4-497e-aa17-d85199ba4796",
   "metadata": {},
   "outputs": [
    {
     "name": "stdout",
     "output_type": "stream",
     "text": [
      "1234\n"
     ]
    }
   ],
   "source": [
    "numstr='1234'\n",
    "print(numstr.lower())"
   ]
  },
  {
   "cell_type": "code",
   "execution_count": 48,
   "id": "5795151b-0c64-4ba8-a177-8e2876e5b4af",
   "metadata": {},
   "outputs": [
    {
     "name": "stdout",
     "output_type": "stream",
     "text": [
      "      helow wporna   \n"
     ]
    }
   ],
   "source": [
    "# python string lstrip()\n",
    "#str.lstrip(character)\n",
    "\n",
    "mystr=\"      helow wporna   \"\n",
    "print(mystr)"
   ]
  },
  {
   "cell_type": "code",
   "execution_count": 52,
   "id": "507ae8f4-ea70-4392-9db4-5a488a33284c",
   "metadata": {},
   "outputs": [
    {
     "name": "stdout",
     "output_type": "stream",
     "text": [
      "18\n"
     ]
    }
   ],
   "source": [
    "mystr=\"      helow wporna   \"\n",
    "print(len(mystr.rstrip()) )"
   ]
  },
  {
   "cell_type": "code",
   "execution_count": 53,
   "id": "94ccfeb3-084e-433f-8894-366633c7340a",
   "metadata": {},
   "outputs": [
    {
     "name": "stdout",
     "output_type": "stream",
     "text": [
      "('hello', ' ', 'world')\n"
     ]
    }
   ],
   "source": [
    "#python  string partition\n",
    "#str.partition(sep)\n",
    "mystr = 'hello world'\n",
    "print(mystr.partition(' '))"
   ]
  },
  {
   "cell_type": "code",
   "execution_count": 55,
   "id": "a105496a-cf0a-450f-9e71-ab04abf1a1e0",
   "metadata": {},
   "outputs": [
    {
     "name": "stdout",
     "output_type": "stream",
     "text": [
      "('how ', 'are', ' you')\n"
     ]
    }
   ],
   "source": [
    "mystr= 'how are you'\n",
    "print(mystr.partition('are'))"
   ]
  },
  {
   "cell_type": "code",
   "execution_count": null,
   "id": "58a02736-d2bd-4262-9300-3281c9c1af07",
   "metadata": {},
   "outputs": [],
   "source": []
  }
 ],
 "metadata": {
  "kernelspec": {
   "display_name": "Python 3 (ipykernel)",
   "language": "python",
   "name": "python3"
  },
  "language_info": {
   "codemirror_mode": {
    "name": "ipython",
    "version": 3
   },
   "file_extension": ".py",
   "mimetype": "text/x-python",
   "name": "python",
   "nbconvert_exporter": "python",
   "pygments_lexer": "ipython3",
   "version": "3.11.7"
  }
 },
 "nbformat": 4,
 "nbformat_minor": 5
}
